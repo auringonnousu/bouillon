{
 "cells": [
  {
   "cell_type": "code",
   "execution_count": 1,
   "metadata": {},
   "outputs": [
    {
     "name": "stderr",
     "output_type": "stream",
     "text": [
      "2023-02-19 21:53:49.656619: I tensorflow/core/platform/cpu_feature_guard.cc:193] This TensorFlow binary is optimized with oneAPI Deep Neural Network Library (oneDNN) to use the following CPU instructions in performance-critical operations:  AVX2 FMA\n",
      "To enable them in other operations, rebuild TensorFlow with the appropriate compiler flags.\n"
     ]
    }
   ],
   "source": [
    "import numpy as np\n",
    "import pandas as pd\n",
    "from sklearn.preprocessing import MinMaxScaler\n",
    "from tensorflow.keras.models import Sequential\n",
    "from tensorflow.keras.layers import Dense, LSTM\n",
    "\n",
    "import math\n",
    "import pandas_datareader.data as web\n",
    "\n",
    "import datetime\n",
    "from sklearn.preprocessing import MinMaxScaler\n",
    "from sklearn.model_selection import train_test_split\n",
    "\n",
    "from keras.models import Sequential\n",
    "from keras.layers import Dense, LSTM\n",
    "import matplotlib.pyplot as plt\n",
    "\n",
    "import math\n",
    "\n",
    "from tensorflow.keras.callbacks import EarlyStopping\n",
    "\n",
    "import matplotlib.dates as mdates\n",
    "plt.style.use('fivethirtyeight')\n",
    "\n",
    "from pandas_datareader import data as pdr\n",
    "import yfinance as yfin\n",
    "\n",
    "from config import fred_api\n",
    "\n",
    "from fredapi import Fred\n",
    "fred = Fred(api_key=fred_api)\n",
    "\n"
   ]
  },
  {
   "cell_type": "code",
   "execution_count": 2,
   "metadata": {},
   "outputs": [
    {
     "name": "stdout",
     "output_type": "stream",
     "text": [
      "[*********************100%***********************]  1 of 1 completed\n"
     ]
    }
   ],
   "source": [
    "\n",
    "# change as needed\n",
    "company = 'AAPL'\n",
    "provider = 'yahoo'\n",
    "\n",
    "\n",
    "# Get stock quote\n",
    "#start = datetime.datetime(2018-3-1) # Change Date if needed\n",
    "start = datetime.datetime(2018, 1, 1) # Change Date if needed\n",
    "\n",
    "end = datetime.datetime.now()\n",
    "\n",
    "\n",
    "\n",
    "yfin.pdr_override()\n",
    "\n",
    "df = pdr.get_data_yahoo(company, start, end)\n",
    "\n",
    "df = df.reset_index(level=0)"
   ]
  },
  {
   "cell_type": "code",
   "execution_count": 3,
   "metadata": {},
   "outputs": [
    {
     "name": "stdout",
     "output_type": "stream",
     "text": [
      "(906, 21)\n",
      "           Date        Open        High         Low       Close   Adj Close  \\\n",
      "1287 2023-02-13  150.949997  154.259995  150.919998  153.850006  153.850006   \n",
      "1288 2023-02-14  152.119995  153.770004  150.860001  153.199997  153.199997   \n",
      "1289 2023-02-15  153.110001  155.500000  152.880005  155.330002  155.330002   \n",
      "1290 2023-02-16  153.509995  156.330002  153.350006  153.710007  153.710007   \n",
      "1291 2023-02-17  152.350006  153.000000  150.850006  152.550003  152.550003   \n",
      "\n",
      "        Volume  Interest_Rate  InterestRates_calc  InterestRates  ...  \\\n",
      "1287  62199000           4.33               1.256          1.256  ...   \n",
      "1288  61707600           4.33               1.256          1.256  ...   \n",
      "1289  65669300           4.33               1.256          1.256  ...   \n",
      "1290  68167900           4.33               1.256          1.256  ...   \n",
      "1291  59095900           4.33               1.256          1.256  ...   \n",
      "\n",
      "      unemployment_rate        gdp   Nonfarm        70ma    20ma_adj  \\\n",
      "1287                3.4  20198.091  155073.0  141.039302  145.388789   \n",
      "1288                3.4  20198.091  155073.0  141.162601  146.262151   \n",
      "1289                3.4  20198.091  155073.0  141.403907  147.278458   \n",
      "1290                3.4  20198.091  155073.0  141.625920  148.210769   \n",
      "1291                3.4  20198.091  155073.0  141.823660  148.955279   \n",
      "\n",
      "      price_change  20ma_close       std  upper_band  lower_band  \n",
      "1287      3.339996  145.587499  6.543723  158.476235  132.301344  \n",
      "1288      2.910004  146.450499  6.339377  158.940906  133.583397  \n",
      "1289      2.619995  147.456499  6.051631  159.381720  135.175195  \n",
      "1290      2.979996  148.378499  5.474422  159.159613  137.261925  \n",
      "1291      2.149994  149.112499  4.950355  158.855989  139.054569  \n",
      "\n",
      "[5 rows x 21 columns]\n"
     ]
    }
   ],
   "source": [
    "# sp500 = fred.get_series('SP500')\n",
    "# gdp = fred.get_series_latest_release('GDP')\n",
    "\n",
    "# Retrieve interest rate data from FRED\n",
    "interest_rates = fred.get_series('FEDFUNDS', observation_start=start)\n",
    "empl = fred.get_series('PAYEMS', observation_start=start) # seasonally ajusted non-farm employment in thousands, All Employees, Total Nonfarm (PAYEMS)\n",
    "gdp = fred.get_series('GDPC1', observation_start=start) # Seasonally adjusted real GDP \n",
    "unemp =fred.get_series('UNRATE', observation_start=start) # seasonally ajusted unemployment rate in percent\n",
    "SP500=fred.get_series('SP500', observation_start=start)\n",
    "\n",
    "# Convert index to datetime\n",
    "interest_rates.index = pd.to_datetime(interest_rates.index)\n",
    "\n",
    "df['Date'] = pd.to_datetime(df['Date'])\n",
    "df.set_index('Date', inplace=True)\n",
    "\n",
    "df['Interest_Rate'] = interest_rates.reindex(df.index, method='nearest')\n",
    "# Compute rolling average of interest rates\n",
    "interest_rates_ma = interest_rates.rolling(window=20).mean()\n",
    "\n",
    "# Combine interest rate data with stock price data\n",
    "df['InterestRates_calc'] = interest_rates_ma.reindex(df.index, method='nearest')\n",
    "df['InterestRates'] = interest_rates_ma.reindex(df.index, method='nearest')\n",
    "\n",
    "\n",
    "df['SP500'] = SP500.reindex(df.index, method='nearest')\n",
    "df['unemployment_rate'] = unemp.reindex(df.index, method='nearest')\n",
    "df['gdp'] = gdp.reindex(df.index, method='nearest')\n",
    "df['Nonfarm'] = empl.reindex(df.index, method='nearest') # Units:  Thousands of Persons, Seasonally Adjusted\n",
    "\n",
    "\n",
    "df = df.reset_index(level=0)\n",
    "\n",
    "df['70ma'] = df['Adj Close'].rolling(window=70).mean()\n",
    "df['20ma_adj'] = df['Adj Close'].rolling(window=20).mean()\n",
    "df.dropna(inplace=True)\n",
    "\n",
    "# Calculate daily price change\n",
    "df['price_change'] = df['High'] - df['Low']\n",
    "\n",
    "# Calculate 20-day moving average\n",
    "df['20ma_close'] = df['Close'].rolling(window=20).mean()\n",
    "\n",
    "# Calculate Bollinger Bands\n",
    "df['std'] = df['Close'].rolling(window=20).std()\n",
    "df['upper_band'] = df['20ma_close'] + 2 * df['std']\n",
    "df['lower_band'] = df['20ma_close'] - 2 * df['std']\n",
    "\n",
    "df['upper_band'] = df['20ma_adj'] + 2 * df['std']\n",
    "df['lower_band'] = df['20ma_adj'] - 2 * df['std']\n",
    "\n",
    "\n",
    "\n",
    "print(df.shape)\n",
    "\n",
    "print(df.tail())"
   ]
  },
  {
   "cell_type": "code",
   "execution_count": 4,
   "metadata": {},
   "outputs": [],
   "source": [
    "from tensorflow.keras.layers import Dense, LSTM, Dropout"
   ]
  },
  {
   "cell_type": "code",
   "execution_count": 15,
   "metadata": {},
   "outputs": [
    {
     "name": "stdout",
     "output_type": "stream",
     "text": [
      "Epoch 1/100\n",
      "532/532 [==============================] - 25s 38ms/step - loss: 0.0039 - val_loss: 0.0100\n",
      "Epoch 2/100\n",
      "532/532 [==============================] - 22s 41ms/step - loss: 0.0017 - val_loss: 0.0115\n",
      "Epoch 3/100\n",
      "532/532 [==============================] - 20s 38ms/step - loss: 0.0015 - val_loss: 0.0102\n",
      "Epoch 4/100\n",
      "532/532 [==============================] - 23s 43ms/step - loss: 0.0014 - val_loss: 0.0073\n",
      "Epoch 5/100\n",
      "532/532 [==============================] - 29s 54ms/step - loss: 0.0012 - val_loss: 0.0080\n",
      "Epoch 6/100\n",
      "532/532 [==============================] - 27s 51ms/step - loss: 0.0013 - val_loss: 0.0074\n",
      "Epoch 7/100\n",
      "532/532 [==============================] - 28s 53ms/step - loss: 0.0011 - val_loss: 0.0084\n",
      "Epoch 8/100\n",
      "532/532 [==============================] - 23s 44ms/step - loss: 8.3971e-04 - val_loss: 0.0079\n",
      "Epoch 9/100\n",
      "532/532 [==============================] - 20s 38ms/step - loss: 9.7851e-04 - val_loss: 0.0086\n",
      "6/6 [==============================] - 1s 25ms/step\n"
     ]
    }
   ],
   "source": [
    "# preprocess the data\n",
    "df = df.filter(['Open', 'High', 'Low', 'Close', 'Volume',\n",
    "       'Interest_Rate', 'InterestRates_calc', 'InterestRates', 'SP500',\n",
    "       'unemployment_rate', 'gdp', 'Nonfarm', '70ma', '20ma_adj',\n",
    "       'price_change', '20ma_close', 'std', 'upper_band', 'lower_band', 'Adj Close'])\n",
    "\n",
    "df = df.fillna(df.mean())\n",
    "\n",
    "scaler = MinMaxScaler(feature_range=(0, 1))\n",
    "scaled_data = scaler.fit_transform(df)\n",
    "\n",
    "# split the data into training and testing sets\n",
    "training_data_len = math.ceil(len(df) * 0.8)\n",
    "train_data = scaled_data[0:training_data_len, :]\n",
    "test_data = scaled_data[training_data_len - 60:, :]\n",
    "\n",
    "\n",
    "# prepare the training data\n",
    "x_train = []\n",
    "y_train = []\n",
    "\n",
    "for i in range(60, len(train_data)):\n",
    "    x_train.append(train_data[i-60:i, :])\n",
    "    y_train.append(train_data[i, 5])\n",
    "\n",
    "\n",
    "x_train, y_train = np.array(x_train), np.array(y_train)\n",
    "x_test = np.array(x_test)\n",
    "y_train = y_train.reshape((y_train.shape[0], 1))\n",
    "y_test = y_test.reshape((y_test.shape[0], 1))\n",
    "\n",
    "# build the LSTM model\n",
    "model = Sequential()\n",
    "model.add(LSTM(50, return_sequences=True, input_shape=(x_train.shape[1], x_train.shape[2])))\n",
    "model.add(Dropout(0.2))\n",
    "model.add(LSTM(50, return_sequences=False))\n",
    "model.add(Dropout(0.2))\n",
    "model.add(Dense(20))  # change the number of units to match the number of output features\n",
    "model.compile(optimizer='adam', loss='mean_squared_error')\n",
    "\n",
    "\n",
    "# set up early stopping\n",
    "early_stopping = EarlyStopping(monitor='val_loss', patience=5)\n",
    "\n",
    "# train the model\n",
    "history = model.fit(x_train, y_train, batch_size=1, epochs=100, validation_split=0.2, callbacks=[early_stopping])\n",
    "\n",
    "# prepare the testing data\n",
    "x_test = []\n",
    "y_test = df.iloc[training_data_len:, :]['Adj Close'].values\n",
    "test_data = scaled_data[training_data_len - 60:, :]\n",
    "\n",
    "for i in range(60, len(test_data)):\n",
    "    x_test.append(test_data[i-60:i, :])\n",
    "\n",
    "x_test = np.array(x_test)\n",
    "\n",
    "# make predictions\n",
    "predictions = model.predict(x_test)\n",
    "predictions = scaler.inverse_transform(predictions)"
   ]
  },
  {
   "cell_type": "code",
   "execution_count": 28,
   "metadata": {},
   "outputs": [
    {
     "name": "stdout",
     "output_type": "stream",
     "text": [
      "665/665 [==============================] - 44s 56ms/step - loss: 0.0041\n",
      "6/6 [==============================] - 2s 29ms/step\n"
     ]
    },
    {
     "name": "stderr",
     "output_type": "stream",
     "text": [
      "/var/folders/gr/77dww1vx4k945hzph39jwlc40000gn/T/ipykernel_28852/3623444885.py:63: SettingWithCopyWarning: \n",
      "A value is trying to be set on a copy of a slice from a DataFrame\n",
      "\n",
      "See the caveats in the documentation: https://pandas.pydata.org/pandas-docs/stable/user_guide/indexing.html#returning-a-view-versus-a-copy\n",
      "  test['Predictions'] = predictions\n"
     ]
    },
    {
     "ename": "KeyError",
     "evalue": "\"['Adj Close'] not in index\"",
     "output_type": "error",
     "traceback": [
      "\u001b[0;31m---------------------------------------------------------------------------\u001b[0m",
      "\u001b[0;31mKeyError\u001b[0m                                  Traceback (most recent call last)",
      "\u001b[1;32mUntitled-1.ipynb Cell 9\u001b[0m in \u001b[0;36m<cell line: 70>\u001b[0;34m()\u001b[0m\n\u001b[1;32m     <a href='vscode-notebook-cell:Untitled-1.ipynb?jupyter-notebook#X20sdW50aXRsZWQ%3D?line=67'>68</a>\u001b[0m plt\u001b[39m.\u001b[39mylabel(\u001b[39m'\u001b[39m\u001b[39mAdj Close Price\u001b[39m\u001b[39m'\u001b[39m, fontsize\u001b[39m=\u001b[39m\u001b[39m18\u001b[39m)\n\u001b[1;32m     <a href='vscode-notebook-cell:Untitled-1.ipynb?jupyter-notebook#X20sdW50aXRsZWQ%3D?line=68'>69</a>\u001b[0m plt\u001b[39m.\u001b[39mplot(train)\n\u001b[0;32m---> <a href='vscode-notebook-cell:Untitled-1.ipynb?jupyter-notebook#X20sdW50aXRsZWQ%3D?line=69'>70</a>\u001b[0m plt\u001b[39m.\u001b[39mplot(test[[\u001b[39m'\u001b[39;49m\u001b[39mAdj Close\u001b[39;49m\u001b[39m'\u001b[39;49m, \u001b[39m'\u001b[39;49m\u001b[39mPredictions\u001b[39;49m\u001b[39m'\u001b[39;49m]])\n\u001b[1;32m     <a href='vscode-notebook-cell:Untitled-1.ipynb?jupyter-notebook#X20sdW50aXRsZWQ%3D?line=70'>71</a>\u001b[0m plt\u001b[39m.\u001b[39mlegend([\u001b[39m'\u001b[39m\u001b[39mTrain\u001b[39m\u001b[39m'\u001b[39m, \u001b[39m'\u001b[39m\u001b[39mTest\u001b[39m\u001b[39m'\u001b[39m, \u001b[39m'\u001b[39m\u001b[39mPredictions\u001b[39m\u001b[39m'\u001b[39m], loc\u001b[39m=\u001b[39m\u001b[39m'\u001b[39m\u001b[39mlower right\u001b[39m\u001b[39m'\u001b[39m)\n\u001b[1;32m     <a href='vscode-notebook-cell:Untitled-1.ipynb?jupyter-notebook#X20sdW50aXRsZWQ%3D?line=71'>72</a>\u001b[0m plt\u001b[39m.\u001b[39mshow()\n",
      "File \u001b[0;32m/usr/local/lib/python3.9/site-packages/pandas/core/series.py:1007\u001b[0m, in \u001b[0;36mSeries.__getitem__\u001b[0;34m(self, key)\u001b[0m\n\u001b[1;32m   1004\u001b[0m     key \u001b[39m=\u001b[39m np\u001b[39m.\u001b[39masarray(key, dtype\u001b[39m=\u001b[39m\u001b[39mbool\u001b[39m)\n\u001b[1;32m   1005\u001b[0m     \u001b[39mreturn\u001b[39;00m \u001b[39mself\u001b[39m\u001b[39m.\u001b[39m_get_values(key)\n\u001b[0;32m-> 1007\u001b[0m \u001b[39mreturn\u001b[39;00m \u001b[39mself\u001b[39;49m\u001b[39m.\u001b[39;49m_get_with(key)\n",
      "File \u001b[0;32m/usr/local/lib/python3.9/site-packages/pandas/core/series.py:1047\u001b[0m, in \u001b[0;36mSeries._get_with\u001b[0;34m(self, key)\u001b[0m\n\u001b[1;32m   1044\u001b[0m         \u001b[39mreturn\u001b[39;00m \u001b[39mself\u001b[39m\u001b[39m.\u001b[39miloc[key]\n\u001b[1;32m   1046\u001b[0m \u001b[39m# handle the dup indexing case GH#4246\u001b[39;00m\n\u001b[0;32m-> 1047\u001b[0m \u001b[39mreturn\u001b[39;00m \u001b[39mself\u001b[39;49m\u001b[39m.\u001b[39;49mloc[key]\n",
      "File \u001b[0;32m/usr/local/lib/python3.9/site-packages/pandas/core/indexing.py:1073\u001b[0m, in \u001b[0;36m_LocationIndexer.__getitem__\u001b[0;34m(self, key)\u001b[0m\n\u001b[1;32m   1070\u001b[0m axis \u001b[39m=\u001b[39m \u001b[39mself\u001b[39m\u001b[39m.\u001b[39maxis \u001b[39mor\u001b[39;00m \u001b[39m0\u001b[39m\n\u001b[1;32m   1072\u001b[0m maybe_callable \u001b[39m=\u001b[39m com\u001b[39m.\u001b[39mapply_if_callable(key, \u001b[39mself\u001b[39m\u001b[39m.\u001b[39mobj)\n\u001b[0;32m-> 1073\u001b[0m \u001b[39mreturn\u001b[39;00m \u001b[39mself\u001b[39;49m\u001b[39m.\u001b[39;49m_getitem_axis(maybe_callable, axis\u001b[39m=\u001b[39;49maxis)\n",
      "File \u001b[0;32m/usr/local/lib/python3.9/site-packages/pandas/core/indexing.py:1301\u001b[0m, in \u001b[0;36m_LocIndexer._getitem_axis\u001b[0;34m(self, key, axis)\u001b[0m\n\u001b[1;32m   1298\u001b[0m     \u001b[39mif\u001b[39;00m \u001b[39mhasattr\u001b[39m(key, \u001b[39m\"\u001b[39m\u001b[39mndim\u001b[39m\u001b[39m\"\u001b[39m) \u001b[39mand\u001b[39;00m key\u001b[39m.\u001b[39mndim \u001b[39m>\u001b[39m \u001b[39m1\u001b[39m:\n\u001b[1;32m   1299\u001b[0m         \u001b[39mraise\u001b[39;00m \u001b[39mValueError\u001b[39;00m(\u001b[39m\"\u001b[39m\u001b[39mCannot index with multidimensional key\u001b[39m\u001b[39m\"\u001b[39m)\n\u001b[0;32m-> 1301\u001b[0m     \u001b[39mreturn\u001b[39;00m \u001b[39mself\u001b[39;49m\u001b[39m.\u001b[39;49m_getitem_iterable(key, axis\u001b[39m=\u001b[39;49maxis)\n\u001b[1;32m   1303\u001b[0m \u001b[39m# nested tuple slicing\u001b[39;00m\n\u001b[1;32m   1304\u001b[0m \u001b[39mif\u001b[39;00m is_nested_tuple(key, labels):\n",
      "File \u001b[0;32m/usr/local/lib/python3.9/site-packages/pandas/core/indexing.py:1239\u001b[0m, in \u001b[0;36m_LocIndexer._getitem_iterable\u001b[0;34m(self, key, axis)\u001b[0m\n\u001b[1;32m   1236\u001b[0m \u001b[39mself\u001b[39m\u001b[39m.\u001b[39m_validate_key(key, axis)\n\u001b[1;32m   1238\u001b[0m \u001b[39m# A collection of keys\u001b[39;00m\n\u001b[0;32m-> 1239\u001b[0m keyarr, indexer \u001b[39m=\u001b[39m \u001b[39mself\u001b[39;49m\u001b[39m.\u001b[39;49m_get_listlike_indexer(key, axis)\n\u001b[1;32m   1240\u001b[0m \u001b[39mreturn\u001b[39;00m \u001b[39mself\u001b[39m\u001b[39m.\u001b[39mobj\u001b[39m.\u001b[39m_reindex_with_indexers(\n\u001b[1;32m   1241\u001b[0m     {axis: [keyarr, indexer]}, copy\u001b[39m=\u001b[39m\u001b[39mTrue\u001b[39;00m, allow_dups\u001b[39m=\u001b[39m\u001b[39mTrue\u001b[39;00m\n\u001b[1;32m   1242\u001b[0m )\n",
      "File \u001b[0;32m/usr/local/lib/python3.9/site-packages/pandas/core/indexing.py:1432\u001b[0m, in \u001b[0;36m_LocIndexer._get_listlike_indexer\u001b[0;34m(self, key, axis)\u001b[0m\n\u001b[1;32m   1429\u001b[0m ax \u001b[39m=\u001b[39m \u001b[39mself\u001b[39m\u001b[39m.\u001b[39mobj\u001b[39m.\u001b[39m_get_axis(axis)\n\u001b[1;32m   1430\u001b[0m axis_name \u001b[39m=\u001b[39m \u001b[39mself\u001b[39m\u001b[39m.\u001b[39mobj\u001b[39m.\u001b[39m_get_axis_name(axis)\n\u001b[0;32m-> 1432\u001b[0m keyarr, indexer \u001b[39m=\u001b[39m ax\u001b[39m.\u001b[39;49m_get_indexer_strict(key, axis_name)\n\u001b[1;32m   1434\u001b[0m \u001b[39mreturn\u001b[39;00m keyarr, indexer\n",
      "File \u001b[0;32m/usr/local/lib/python3.9/site-packages/pandas/core/indexes/base.py:6113\u001b[0m, in \u001b[0;36mIndex._get_indexer_strict\u001b[0;34m(self, key, axis_name)\u001b[0m\n\u001b[1;32m   6110\u001b[0m \u001b[39melse\u001b[39;00m:\n\u001b[1;32m   6111\u001b[0m     keyarr, indexer, new_indexer \u001b[39m=\u001b[39m \u001b[39mself\u001b[39m\u001b[39m.\u001b[39m_reindex_non_unique(keyarr)\n\u001b[0;32m-> 6113\u001b[0m \u001b[39mself\u001b[39;49m\u001b[39m.\u001b[39;49m_raise_if_missing(keyarr, indexer, axis_name)\n\u001b[1;32m   6115\u001b[0m keyarr \u001b[39m=\u001b[39m \u001b[39mself\u001b[39m\u001b[39m.\u001b[39mtake(indexer)\n\u001b[1;32m   6116\u001b[0m \u001b[39mif\u001b[39;00m \u001b[39misinstance\u001b[39m(key, Index):\n\u001b[1;32m   6117\u001b[0m     \u001b[39m# GH 42790 - Preserve name from an Index\u001b[39;00m\n",
      "File \u001b[0;32m/usr/local/lib/python3.9/site-packages/pandas/core/indexes/base.py:6176\u001b[0m, in \u001b[0;36mIndex._raise_if_missing\u001b[0;34m(self, key, indexer, axis_name)\u001b[0m\n\u001b[1;32m   6173\u001b[0m     \u001b[39mraise\u001b[39;00m \u001b[39mKeyError\u001b[39;00m(\u001b[39mf\u001b[39m\u001b[39m\"\u001b[39m\u001b[39mNone of [\u001b[39m\u001b[39m{\u001b[39;00mkey\u001b[39m}\u001b[39;00m\u001b[39m] are in the [\u001b[39m\u001b[39m{\u001b[39;00maxis_name\u001b[39m}\u001b[39;00m\u001b[39m]\u001b[39m\u001b[39m\"\u001b[39m)\n\u001b[1;32m   6175\u001b[0m not_found \u001b[39m=\u001b[39m \u001b[39mlist\u001b[39m(ensure_index(key)[missing_mask\u001b[39m.\u001b[39mnonzero()[\u001b[39m0\u001b[39m]]\u001b[39m.\u001b[39munique())\n\u001b[0;32m-> 6176\u001b[0m \u001b[39mraise\u001b[39;00m \u001b[39mKeyError\u001b[39;00m(\u001b[39mf\u001b[39m\u001b[39m\"\u001b[39m\u001b[39m{\u001b[39;00mnot_found\u001b[39m}\u001b[39;00m\u001b[39m not in index\u001b[39m\u001b[39m\"\u001b[39m)\n",
      "\u001b[0;31mKeyError\u001b[0m: \"['Adj Close'] not in index\""
     ]
    },
    {
     "data": {
      "image/png": "[encoded data removed]",
      "text/plain": [
       "<Figure size 1152x576 with 1 Axes>"
      ]
     },
     "metadata": {
      "needs_background": "light"
     },
     "output_type": "display_data"
    }
   ],
   "source": [
    "import pandas as pd\n",
    "import numpy as np\n",
    "import matplotlib.pyplot as plt\n",
    "from sklearn.preprocessing import MinMaxScaler\n",
    "from tensorflow.keras.models import Sequential\n",
    "from tensorflow.keras.layers import Dense, LSTM, Dropout\n",
    "\n",
    "# preprocess the data\n",
    "df = df.filter(['Open', 'High', 'Low', 'Close', 'Volume',\n",
    "       'Interest_Rate', 'InterestRates_calc', 'InterestRates', 'SP500',\n",
    "       'unemployment_rate', 'gdp', 'Nonfarm', '70ma', '20ma_adj',\n",
    "       'price_change', '20ma_close', 'std', 'upper_band', 'lower_band', 'Adj Close'])\n",
    "\n",
    "df = df.fillna(df.mean())\n",
    "\n",
    "scaler = MinMaxScaler(feature_range=(0, 1))\n",
    "scaled_data = scaler.fit_transform(df)\n",
    "\n",
    "# split the data into training and testing sets\n",
    "training_data_len = int(np.ceil(len(df) * 0.8))\n",
    "train_data = scaled_data[0:training_data_len, :]\n",
    "test_data = scaled_data[training_data_len - 60:, :]\n",
    "\n",
    "# prepare the training data\n",
    "x_train = []\n",
    "y_train = []\n",
    "\n",
    "for i in range(60, len(train_data)):\n",
    "    x_train.append(train_data[i-60:i, :])\n",
    "    y_train.append(train_data[i, 5])\n",
    "\n",
    "x_train, y_train = np.array(x_train), np.array(y_train)\n",
    "\n",
    "# build the LSTM model\n",
    "model = Sequential()\n",
    "model.add(LSTM(50, return_sequences=True, input_shape=(x_train.shape[1], x_train.shape[2])))\n",
    "model.add(Dropout(0.2))\n",
    "model.add(LSTM(50, return_sequences=True))\n",
    "model.add(Dropout(0.2))\n",
    "model.add(LSTM(50))\n",
    "model.add(Dense(20))\n",
    "model.compile(optimizer='adam', loss='mean_squared_error')\n",
    "\n",
    "# train the model\n",
    "model.fit(x_train, y_train, batch_size=1, epochs=1)\n",
    "\n",
    "# prepare the testing data\n",
    "x_test = []\n",
    "y_test = df.iloc[training_data_len:, :]['Adj Close'].values\n",
    "test_data = scaled_data[training_data_len - 60:, :]\n",
    "\n",
    "for i in range(60, len(test_data)):\n",
    "    x_test.append(test_data[i-60:i, :])\n",
    "\n",
    "x_test = np.array(x_test)\n",
    "\n",
    "# make predictions\n",
    "predictions = model.predict(x_test)\n",
    "predictions = scaler.inverse_transform(predictions)\n",
    "\n",
    "# plot the results\n",
    "train = df[:training_data_len]['Adj Close']\n",
    "test = df[training_data_len:]['Adj Close']\n",
    "test['Predictions'] = predictions\n",
    "\n",
    "plt.figure(figsize=(16,8))\n",
    "plt.title('Model')\n",
    "plt.xlabel('Date', fontsize=18)\n",
    "plt.ylabel('Adj Close Price', fontsize=18)\n",
    "plt.plot(train)\n",
    "plt.plot(test[['Adj Close', 'Predictions']])\n",
    "plt.legend(['Train', 'Test', 'Predictions'], loc='lower right')\n",
    "plt.show()\n"
   ]
  },
  {
   "cell_type": "code",
   "execution_count": 16,
   "metadata": {},
   "outputs": [
    {
     "name": "stdout",
     "output_type": "stream",
     "text": [
      "Epoch 1/5\n",
      "67/67 [==============================] - 22s 115ms/step - loss: 0.0059\n",
      "Epoch 2/5\n",
      "67/67 [==============================] - 7s 105ms/step - loss: 0.0019\n",
      "Epoch 3/5\n",
      "67/67 [==============================] - 6s 92ms/step - loss: 0.0015\n",
      "Epoch 4/5\n",
      "67/67 [==============================] - 6s 90ms/step - loss: 0.0013\n",
      "Epoch 5/5\n",
      "67/67 [==============================] - 6s 86ms/step - loss: 9.0656e-04\n",
      "6/6 [==============================] - 2s 56ms/step\n"
     ]
    }
   ],
   "source": [
    "# store the original length of the dataframe\n",
    "orig_len = len(df)\n",
    "\n",
    "# preprocess the data\n",
    "df = df.filter(['Open', 'High', 'Low', 'Close', 'Volume',             \n",
    "               'Interest_Rate', 'InterestRates_calc', 'InterestRates', 'SP500',                      \n",
    "               'unemployment_rate', 'gdp', 'Nonfarm', '70ma', '20ma_adj',                      \n",
    "               'price_change', '20ma_close', 'std', 'upper_band', 'lower_band', 'Adj Close'])\n",
    "\n",
    "df = df.fillna(df.mean())\n",
    "\n",
    "scaler = MinMaxScaler(feature_range=(0, 1))\n",
    "scaled_data = scaler.fit_transform(df)\n",
    "\n",
    "# split the data into training and testing sets\n",
    "training_data_len = int(np.ceil(len(df) * 0.8))\n",
    "train_data = scaled_data[0:training_data_len, :]\n",
    "test_data = scaled_data[training_data_len - 60:, :]\n",
    "\n",
    "# prepare the training data\n",
    "x_train = []\n",
    "y_train = []\n",
    "\n",
    "for i in range(60, len(train_data)):\n",
    "    x_train.append(train_data[i-60:i, :])\n",
    "    y_train.append(train_data[i, 5])\n",
    "\n",
    "x_train, y_train = np.array(x_train), np.array(y_train)\n",
    "\n",
    "# prepare the testing data\n",
    "x_test = []\n",
    "y_test = []\n",
    "for i in range(60, len(test_data)):\n",
    "    x_test.append(test_data[i-60:i, :])\n",
    "    y_test.append(test_data[i, 5])\n",
    "\n",
    "x_test, y_test = np.array(x_test), np.array(y_test)\n",
    "\n",
    "# build the LSTM model\n",
    "model = Sequential()\n",
    "model.add(LSTM(50, return_sequences=True, input_shape=(x_train.shape[1], x_train.shape[2])))\n",
    "model.add(Dropout(0.2))\n",
    "model.add(LSTM(50, return_sequences=True))\n",
    "model.add(Dropout(0.2))\n",
    "model.add(LSTM(50))\n",
    "model.add(Dense(20))\n",
    "model.compile(optimizer='adam', loss='mean_squared_error')\n",
    "\n",
    "# train the model\n",
    "model.fit(x_train, y_train, batch_size=10, epochs=5)\n",
    "\n",
    "# make predictions\n",
    "predictions = model.predict(x_test)\n",
    "predictions = scaler.inverse_transform(predictions)\n",
    "\n"
   ]
  },
  {
   "cell_type": "code",
   "execution_count": 15,
   "metadata": {},
   "outputs": [
    {
     "name": "stdout",
     "output_type": "stream",
     "text": [
      "6/6 [==============================] - 2s 47ms/step\n"
     ]
    },
    {
     "ename": "ValueError",
     "evalue": "Expected a 1D array, got an array with shape (181, 20)",
     "output_type": "error",
     "traceback": [
      "\u001b[0;31m---------------------------------------------------------------------------\u001b[0m",
      "\u001b[0;31mKeyError\u001b[0m                                  Traceback (most recent call last)",
      "File \u001b[0;32m/usr/local/lib/python3.9/site-packages/pandas/core/indexes/base.py:3803\u001b[0m, in \u001b[0;36mIndex.get_loc\u001b[0;34m(self, key, method, tolerance)\u001b[0m\n\u001b[1;32m   3802\u001b[0m \u001b[39mtry\u001b[39;00m:\n\u001b[0;32m-> 3803\u001b[0m     \u001b[39mreturn\u001b[39;00m \u001b[39mself\u001b[39;49m\u001b[39m.\u001b[39;49m_engine\u001b[39m.\u001b[39;49mget_loc(casted_key)\n\u001b[1;32m   3804\u001b[0m \u001b[39mexcept\u001b[39;00m \u001b[39mKeyError\u001b[39;00m \u001b[39mas\u001b[39;00m err:\n",
      "File \u001b[0;32m/usr/local/lib/python3.9/site-packages/pandas/_libs/index.pyx:138\u001b[0m, in \u001b[0;36mpandas._libs.index.IndexEngine.get_loc\u001b[0;34m()\u001b[0m\n",
      "File \u001b[0;32m/usr/local/lib/python3.9/site-packages/pandas/_libs/index.pyx:165\u001b[0m, in \u001b[0;36mpandas._libs.index.IndexEngine.get_loc\u001b[0;34m()\u001b[0m\n",
      "File \u001b[0;32mpandas/_libs/hashtable_class_helper.pxi:5745\u001b[0m, in \u001b[0;36mpandas._libs.hashtable.PyObjectHashTable.get_item\u001b[0;34m()\u001b[0m\n",
      "File \u001b[0;32mpandas/_libs/hashtable_class_helper.pxi:5753\u001b[0m, in \u001b[0;36mpandas._libs.hashtable.PyObjectHashTable.get_item\u001b[0;34m()\u001b[0m\n",
      "\u001b[0;31mKeyError\u001b[0m: 'Predictions'",
      "\nThe above exception was the direct cause of the following exception:\n",
      "\u001b[0;31mKeyError\u001b[0m                                  Traceback (most recent call last)",
      "File \u001b[0;32m/usr/local/lib/python3.9/site-packages/pandas/core/frame.py:4139\u001b[0m, in \u001b[0;36mDataFrame._set_item_mgr\u001b[0;34m(self, key, value)\u001b[0m\n\u001b[1;32m   4138\u001b[0m \u001b[39mtry\u001b[39;00m:\n\u001b[0;32m-> 4139\u001b[0m     loc \u001b[39m=\u001b[39m \u001b[39mself\u001b[39;49m\u001b[39m.\u001b[39;49m_info_axis\u001b[39m.\u001b[39;49mget_loc(key)\n\u001b[1;32m   4140\u001b[0m \u001b[39mexcept\u001b[39;00m \u001b[39mKeyError\u001b[39;00m:\n\u001b[1;32m   4141\u001b[0m     \u001b[39m# This item wasn't present, just insert at end\u001b[39;00m\n",
      "File \u001b[0;32m/usr/local/lib/python3.9/site-packages/pandas/core/indexes/base.py:3805\u001b[0m, in \u001b[0;36mIndex.get_loc\u001b[0;34m(self, key, method, tolerance)\u001b[0m\n\u001b[1;32m   3804\u001b[0m \u001b[39mexcept\u001b[39;00m \u001b[39mKeyError\u001b[39;00m \u001b[39mas\u001b[39;00m err:\n\u001b[0;32m-> 3805\u001b[0m     \u001b[39mraise\u001b[39;00m \u001b[39mKeyError\u001b[39;00m(key) \u001b[39mfrom\u001b[39;00m \u001b[39merr\u001b[39;00m\n\u001b[1;32m   3806\u001b[0m \u001b[39mexcept\u001b[39;00m \u001b[39mTypeError\u001b[39;00m:\n\u001b[1;32m   3807\u001b[0m     \u001b[39m# If we have a listlike key, _check_indexing_error will raise\u001b[39;00m\n\u001b[1;32m   3808\u001b[0m     \u001b[39m#  InvalidIndexError. Otherwise we fall through and re-raise\u001b[39;00m\n\u001b[1;32m   3809\u001b[0m     \u001b[39m#  the TypeError.\u001b[39;00m\n",
      "\u001b[0;31mKeyError\u001b[0m: 'Predictions'",
      "\nDuring handling of the above exception, another exception occurred:\n",
      "\u001b[0;31mValueError\u001b[0m                                Traceback (most recent call last)",
      "\u001b[1;32m/Users/julialandsiedel/github/bouillon/stock_price_2.ipynb Cell 8\u001b[0m in \u001b[0;36m<cell line: 8>\u001b[0;34m()\u001b[0m\n\u001b[1;32m      <a href='vscode-notebook-cell:/Users/julialandsiedel/github/bouillon/stock_price_2.ipynb#X15sZmlsZQ%3D%3D?line=5'>6</a>\u001b[0m test \u001b[39m=\u001b[39m df[orig_len \u001b[39m-\u001b[39m \u001b[39mlen\u001b[39m(predictions):]\u001b[39m.\u001b[39mcopy()\n\u001b[1;32m      <a href='vscode-notebook-cell:/Users/julialandsiedel/github/bouillon/stock_price_2.ipynb#X15sZmlsZQ%3D%3D?line=6'>7</a>\u001b[0m test[\u001b[39m'\u001b[39m\u001b[39mAdj Close\u001b[39m\u001b[39m'\u001b[39m] \u001b[39m=\u001b[39m y_test\n\u001b[0;32m----> <a href='vscode-notebook-cell:/Users/julialandsiedel/github/bouillon/stock_price_2.ipynb#X15sZmlsZQ%3D%3D?line=7'>8</a>\u001b[0m test[\u001b[39m'\u001b[39m\u001b[39mPredictions\u001b[39m\u001b[39m'\u001b[39m] \u001b[39m=\u001b[39m predictions\n\u001b[1;32m     <a href='vscode-notebook-cell:/Users/julialandsiedel/github/bouillon/stock_price_2.ipynb#X15sZmlsZQ%3D%3D?line=9'>10</a>\u001b[0m \u001b[39m# plot the results\u001b[39;00m\n\u001b[1;32m     <a href='vscode-notebook-cell:/Users/julialandsiedel/github/bouillon/stock_price_2.ipynb#X15sZmlsZQ%3D%3D?line=10'>11</a>\u001b[0m plt\u001b[39m.\u001b[39mfigure(figsize\u001b[39m=\u001b[39m(\u001b[39m16\u001b[39m,\u001b[39m8\u001b[39m))\n",
      "File \u001b[0;32m/usr/local/lib/python3.9/site-packages/pandas/core/frame.py:3978\u001b[0m, in \u001b[0;36mDataFrame.__setitem__\u001b[0;34m(self, key, value)\u001b[0m\n\u001b[1;32m   3975\u001b[0m     \u001b[39mself\u001b[39m\u001b[39m.\u001b[39m_setitem_array([key], value)\n\u001b[1;32m   3976\u001b[0m \u001b[39melse\u001b[39;00m:\n\u001b[1;32m   3977\u001b[0m     \u001b[39m# set column\u001b[39;00m\n\u001b[0;32m-> 3978\u001b[0m     \u001b[39mself\u001b[39;49m\u001b[39m.\u001b[39;49m_set_item(key, value)\n",
      "File \u001b[0;32m/usr/local/lib/python3.9/site-packages/pandas/core/frame.py:4185\u001b[0m, in \u001b[0;36mDataFrame._set_item\u001b[0;34m(self, key, value)\u001b[0m\n\u001b[1;32m   4182\u001b[0m         \u001b[39mif\u001b[39;00m \u001b[39misinstance\u001b[39m(existing_piece, DataFrame):\n\u001b[1;32m   4183\u001b[0m             value \u001b[39m=\u001b[39m np\u001b[39m.\u001b[39mtile(value, (\u001b[39mlen\u001b[39m(existing_piece\u001b[39m.\u001b[39mcolumns), \u001b[39m1\u001b[39m))\u001b[39m.\u001b[39mT\n\u001b[0;32m-> 4185\u001b[0m \u001b[39mself\u001b[39;49m\u001b[39m.\u001b[39;49m_set_item_mgr(key, value)\n",
      "File \u001b[0;32m/usr/local/lib/python3.9/site-packages/pandas/core/frame.py:4142\u001b[0m, in \u001b[0;36mDataFrame._set_item_mgr\u001b[0;34m(self, key, value)\u001b[0m\n\u001b[1;32m   4139\u001b[0m     loc \u001b[39m=\u001b[39m \u001b[39mself\u001b[39m\u001b[39m.\u001b[39m_info_axis\u001b[39m.\u001b[39mget_loc(key)\n\u001b[1;32m   4140\u001b[0m \u001b[39mexcept\u001b[39;00m \u001b[39mKeyError\u001b[39;00m:\n\u001b[1;32m   4141\u001b[0m     \u001b[39m# This item wasn't present, just insert at end\u001b[39;00m\n\u001b[0;32m-> 4142\u001b[0m     \u001b[39mself\u001b[39;49m\u001b[39m.\u001b[39;49m_mgr\u001b[39m.\u001b[39;49minsert(\u001b[39mlen\u001b[39;49m(\u001b[39mself\u001b[39;49m\u001b[39m.\u001b[39;49m_info_axis), key, value)\n\u001b[1;32m   4143\u001b[0m \u001b[39melse\u001b[39;00m:\n\u001b[1;32m   4144\u001b[0m     \u001b[39mself\u001b[39m\u001b[39m.\u001b[39m_iset_item_mgr(loc, value)\n",
      "File \u001b[0;32m/usr/local/lib/python3.9/site-packages/pandas/core/internals/managers.py:1407\u001b[0m, in \u001b[0;36mBlockManager.insert\u001b[0;34m(self, loc, item, value)\u001b[0m\n\u001b[1;32m   1405\u001b[0m     value \u001b[39m=\u001b[39m value\u001b[39m.\u001b[39mT\n\u001b[1;32m   1406\u001b[0m     \u001b[39mif\u001b[39;00m \u001b[39mlen\u001b[39m(value) \u001b[39m>\u001b[39m \u001b[39m1\u001b[39m:\n\u001b[0;32m-> 1407\u001b[0m         \u001b[39mraise\u001b[39;00m \u001b[39mValueError\u001b[39;00m(\n\u001b[1;32m   1408\u001b[0m             \u001b[39mf\u001b[39m\u001b[39m\"\u001b[39m\u001b[39mExpected a 1D array, got an array with shape \u001b[39m\u001b[39m{\u001b[39;00mvalue\u001b[39m.\u001b[39mT\u001b[39m.\u001b[39mshape\u001b[39m}\u001b[39;00m\u001b[39m\"\u001b[39m\n\u001b[1;32m   1409\u001b[0m         )\n\u001b[1;32m   1410\u001b[0m \u001b[39melse\u001b[39;00m:\n\u001b[1;32m   1411\u001b[0m     value \u001b[39m=\u001b[39m ensure_block_shape(value, ndim\u001b[39m=\u001b[39m\u001b[39mself\u001b[39m\u001b[39m.\u001b[39mndim)\n",
      "\u001b[0;31mValueError\u001b[0m: Expected a 1D array, got an array with shape (181, 20)"
     ]
    }
   ],
   "source": [
    "\n",
    "# plot the results\n",
    "plt.figure(figsize=(16,8))\n",
    "plt.title('Model')\n",
    "plt.xlabel('Date', fontsize=18)\n",
    "plt.ylabel('Adj Close Price', fontsize=18)\n",
    "plt.plot(df['Adj Close'][:training_data_len])\n",
    "plt.plot(test_df)\n",
    "plt.legend(['Train', 'Test', 'Predictions'], loc='lower right')\n",
    "plt.show()\n"
   ]
  },
  {
   "cell_type": "code",
   "execution_count": null,
   "metadata": {},
   "outputs": [],
   "source": []
  },
  {
   "cell_type": "code",
   "execution_count": null,
   "metadata": {},
   "outputs": [],
   "source": []
  },
  {
   "cell_type": "code",
   "execution_count": 13,
   "metadata": {},
   "outputs": [
    {
     "ename": "ValueError",
     "evalue": "operands could not be broadcast together with shapes (181,20) (181,) ",
     "output_type": "error",
     "traceback": [
      "\u001b[0;31m---------------------------------------------------------------------------\u001b[0m",
      "\u001b[0;31mValueError\u001b[0m                                Traceback (most recent call last)",
      "\u001b[1;32m/Users/julialandsiedel/github/bouillon/stock_price_2.ipynb Cell 11\u001b[0m in \u001b[0;36m<cell line: 2>\u001b[0;34m()\u001b[0m\n\u001b[1;32m      <a href='vscode-notebook-cell:/Users/julialandsiedel/github/bouillon/stock_price_2.ipynb#X21sZmlsZQ%3D%3D?line=0'>1</a>\u001b[0m \u001b[39m# evaluate the model\u001b[39;00m\n\u001b[0;32m----> <a href='vscode-notebook-cell:/Users/julialandsiedel/github/bouillon/stock_price_2.ipynb#X21sZmlsZQ%3D%3D?line=1'>2</a>\u001b[0m rmse \u001b[39m=\u001b[39m np\u001b[39m.\u001b[39msqrt(np\u001b[39m.\u001b[39mmean((predictions \u001b[39m-\u001b[39;49m y_test) \u001b[39m*\u001b[39m\u001b[39m*\u001b[39m \u001b[39m2\u001b[39m))\n\u001b[1;32m      <a href='vscode-notebook-cell:/Users/julialandsiedel/github/bouillon/stock_price_2.ipynb#X21sZmlsZQ%3D%3D?line=2'>3</a>\u001b[0m \u001b[39mprint\u001b[39m(\u001b[39m'\u001b[39m\u001b[39mRMSE:\u001b[39m\u001b[39m'\u001b[39m, rmse)\n",
      "\u001b[0;31mValueError\u001b[0m: operands could not be broadcast together with shapes (181,20) (181,) "
     ]
    }
   ],
   "source": [
    "# evaluate the model\n",
    "rmse = np.sqrt(np.mean((predictions - y_test) ** 2))\n",
    "print('RMSE:', rmse)"
   ]
  }
 ],
 "metadata": {
  "kernelspec": {
   "display_name": "Python 3",
   "language": "python",
   "name": "python3"
  },
  "language_info": {
   "codemirror_mode": {
    "name": "ipython",
    "version": 3
   },
   "file_extension": ".py",
   "mimetype": "text/x-python",
   "name": "python",
   "nbconvert_exporter": "python",
   "pygments_lexer": "ipython3",
   "version": "3.9.13"
  },
  "orig_nbformat": 4,
  "vscode": {
   "interpreter": {
    "hash": "aee8b7b246df8f9039afb4144a1f6fd8d2ca17a180786b69acc140d282b71a49"
   }
  }
 },
 "nbformat": 4,
 "nbformat_minor": 2
}
