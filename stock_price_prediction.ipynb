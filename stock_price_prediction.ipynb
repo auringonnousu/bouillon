{
  "cells": [
    {
      "cell_type": "markdown",
      "metadata": {
        "id": "3eiGBNhJF-6k"
      },
      "source": [
        "Correlation Table for S&P 500?"
      ]
    },
    {
      "cell_type": "markdown",
      "metadata": {
        "id": "hHfO_vwvuH1a"
      },
      "source": [
        "## Stock Price prediction based on the usage of RNN | LSTM\n",
        "\n",
        "Predicting the close stock price"
      ]
    },
    {
      "cell_type": "code",
      "execution_count": 1,
      "metadata": {
        "colab": {
          "base_uri": "https://localhost:8080/"
        },
        "id": "OMSNt3q3CJCT",
        "outputId": "9ebef15e-0f38-4368-9a0d-d5ea6fff3849"
      },
      "outputs": [
        {
          "output_type": "stream",
          "name": "stdout",
          "text": [
            "Looking in indexes: https://pypi.org/simple, https://us-python.pkg.dev/colab-wheels/public/simple/\n",
            "Collecting mplfinance\n",
            "  Downloading mplfinance-0.12.9b7-py3-none-any.whl (73 kB)\n",
            "\u001b[2K     \u001b[90m━━━━━━━━━━━━━━━━━━━━━━━━━━━━━━━━━━━━━━━━\u001b[0m \u001b[32m73.1/73.1 KB\u001b[0m \u001b[31m1.6 MB/s\u001b[0m eta \u001b[36m0:00:00\u001b[0m\n",
            "\u001b[?25hRequirement already satisfied: matplotlib in /usr/local/lib/python3.8/dist-packages (from mplfinance) (3.2.2)\n",
            "Requirement already satisfied: pandas in /usr/local/lib/python3.8/dist-packages (from mplfinance) (1.3.5)\n",
            "Requirement already satisfied: kiwisolver>=1.0.1 in /usr/local/lib/python3.8/dist-packages (from matplotlib->mplfinance) (1.4.4)\n",
            "Requirement already satisfied: cycler>=0.10 in /usr/local/lib/python3.8/dist-packages (from matplotlib->mplfinance) (0.11.0)\n",
            "Requirement already satisfied: numpy>=1.11 in /usr/local/lib/python3.8/dist-packages (from matplotlib->mplfinance) (1.21.6)\n",
            "Requirement already satisfied: pyparsing!=2.0.4,!=2.1.2,!=2.1.6,>=2.0.1 in /usr/local/lib/python3.8/dist-packages (from matplotlib->mplfinance) (3.0.9)\n",
            "Requirement already satisfied: python-dateutil>=2.1 in /usr/local/lib/python3.8/dist-packages (from matplotlib->mplfinance) (2.8.2)\n",
            "Requirement already satisfied: pytz>=2017.3 in /usr/local/lib/python3.8/dist-packages (from pandas->mplfinance) (2022.7.1)\n",
            "Requirement already satisfied: six>=1.5 in /usr/local/lib/python3.8/dist-packages (from python-dateutil>=2.1->matplotlib->mplfinance) (1.15.0)\n",
            "Installing collected packages: mplfinance\n",
            "Successfully installed mplfinance-0.12.9b7\n",
            "Looking in indexes: https://pypi.org/simple, https://us-python.pkg.dev/colab-wheels/public/simple/\n",
            "Requirement already satisfied: pandas in /usr/local/lib/python3.8/dist-packages (1.3.5)\n",
            "Collecting pandas\n",
            "  Downloading pandas-1.5.3-cp38-cp38-manylinux_2_17_x86_64.manylinux2014_x86_64.whl (12.2 MB)\n",
            "\u001b[2K     \u001b[90m━━━━━━━━━━━━━━━━━━━━━━━━━━━━━━━━━━━━━━━━\u001b[0m \u001b[32m12.2/12.2 MB\u001b[0m \u001b[31m15.6 MB/s\u001b[0m eta \u001b[36m0:00:00\u001b[0m\n",
            "\u001b[?25hRequirement already satisfied: python-dateutil>=2.8.1 in /usr/local/lib/python3.8/dist-packages (from pandas) (2.8.2)\n",
            "Requirement already satisfied: pytz>=2020.1 in /usr/local/lib/python3.8/dist-packages (from pandas) (2022.7.1)\n",
            "Requirement already satisfied: numpy>=1.20.3 in /usr/local/lib/python3.8/dist-packages (from pandas) (1.21.6)\n",
            "Requirement already satisfied: six>=1.5 in /usr/local/lib/python3.8/dist-packages (from python-dateutil>=2.8.1->pandas) (1.15.0)\n",
            "Installing collected packages: pandas\n",
            "  Attempting uninstall: pandas\n",
            "    Found existing installation: pandas 1.3.5\n",
            "    Uninstalling pandas-1.3.5:\n",
            "      Successfully uninstalled pandas-1.3.5\n",
            "Successfully installed pandas-1.5.3\n",
            "Looking in indexes: https://pypi.org/simple, https://us-python.pkg.dev/colab-wheels/public/simple/\n",
            "Requirement already satisfied: pandas-datareader in /usr/local/lib/python3.8/dist-packages (0.9.0)\n",
            "Collecting pandas-datareader\n",
            "  Downloading pandas_datareader-0.10.0-py3-none-any.whl (109 kB)\n",
            "\u001b[2K     \u001b[90m━━━━━━━━━━━━━━━━━━━━━━━━━━━━━━━━━━━━━━━\u001b[0m \u001b[32m109.5/109.5 KB\u001b[0m \u001b[31m4.3 MB/s\u001b[0m eta \u001b[36m0:00:00\u001b[0m\n",
            "\u001b[?25hRequirement already satisfied: lxml in /usr/local/lib/python3.8/dist-packages (from pandas-datareader) (4.9.2)\n",
            "Requirement already satisfied: requests>=2.19.0 in /usr/local/lib/python3.8/dist-packages (from pandas-datareader) (2.25.1)\n",
            "Requirement already satisfied: pandas>=0.23 in /usr/local/lib/python3.8/dist-packages (from pandas-datareader) (1.5.3)\n",
            "Requirement already satisfied: numpy>=1.20.3 in /usr/local/lib/python3.8/dist-packages (from pandas>=0.23->pandas-datareader) (1.21.6)\n",
            "Requirement already satisfied: python-dateutil>=2.8.1 in /usr/local/lib/python3.8/dist-packages (from pandas>=0.23->pandas-datareader) (2.8.2)\n",
            "Requirement already satisfied: pytz>=2020.1 in /usr/local/lib/python3.8/dist-packages (from pandas>=0.23->pandas-datareader) (2022.7.1)\n",
            "Requirement already satisfied: urllib3<1.27,>=1.21.1 in /usr/local/lib/python3.8/dist-packages (from requests>=2.19.0->pandas-datareader) (1.24.3)\n",
            "Requirement already satisfied: certifi>=2017.4.17 in /usr/local/lib/python3.8/dist-packages (from requests>=2.19.0->pandas-datareader) (2022.12.7)\n",
            "Requirement already satisfied: idna<3,>=2.5 in /usr/local/lib/python3.8/dist-packages (from requests>=2.19.0->pandas-datareader) (2.10)\n",
            "Requirement already satisfied: chardet<5,>=3.0.2 in /usr/local/lib/python3.8/dist-packages (from requests>=2.19.0->pandas-datareader) (4.0.0)\n",
            "Requirement already satisfied: six>=1.5 in /usr/local/lib/python3.8/dist-packages (from python-dateutil>=2.8.1->pandas>=0.23->pandas-datareader) (1.15.0)\n",
            "Installing collected packages: pandas-datareader\n",
            "  Attempting uninstall: pandas-datareader\n",
            "    Found existing installation: pandas-datareader 0.9.0\n",
            "    Uninstalling pandas-datareader-0.9.0:\n",
            "      Successfully uninstalled pandas-datareader-0.9.0\n",
            "Successfully installed pandas-datareader-0.10.0\n"
          ]
        }
      ],
      "source": [
        "!pip install --upgrade mplfinance\n",
        "!pip install --upgrade pandas\n",
        "!pip install --upgrade pandas-datareader"
      ]
    },
    {
      "cell_type": "code",
      "execution_count": 2,
      "metadata": {
        "id": "-_46lbpbuH1e"
      },
      "outputs": [],
      "source": [
        "import math\n",
        "import pandas_datareader.data as web\n",
        "import numpy as np\n",
        "import pandas as pd\n",
        "import datetime\n",
        "from sklearn.preprocessing import MinMaxScaler\n",
        "from keras.models import Sequential\n",
        "from keras.layers import Dense, LSTM\n",
        "import matplotlib.pyplot as plt\n",
        "# from mplfinance import candlestick_ohlc\n",
        "from mplfinance.original_flavor import candlestick_ohlc\n",
        "import matplotlib.dates as mdates\n",
        "plt.style.use('fivethirtyeight')\n"
      ]
    },
    {
      "cell_type": "markdown",
      "metadata": {
        "id": "0ndLW9REuH1g"
      },
      "source": [
        "Fill in the stock you want to crawl:"
      ]
    },
    {
      "cell_type": "code",
      "execution_count": 6,
      "metadata": {
        "id": "l1ZOjYV-A628"
      },
      "outputs": [],
      "source": [
        "company = 'QQQ'\n",
        "provider = 'yahoo'"
      ]
    },
    {
      "cell_type": "code",
      "execution_count": 10,
      "metadata": {
        "id": "rvyzB2eHuH1h"
      },
      "outputs": [],
      "source": [
        "# Get stock quote\n",
        "#start = datetime.datetime(2018, 3, 1) # Change Date if needed\n",
        "start = datetime.datetime(2018, 1, 1) # Change Date if needed\n",
        "\n",
        "end = datetime.datetime.now()\n",
        "#df = web.DataReader(company, provider, start, end)"
      ]
    },
    {
      "cell_type": "code",
      "source": [
        "df = web.DataReader(company, provider, start, end)"
      ],
      "metadata": {
        "id": "5l2g-KMyWmzG"
      },
      "execution_count": 1,
      "outputs": []
    },
    {
      "cell_type": "code",
      "source": [
        "'''plt.figure(figsize = (18,9))\n",
        "plt.plot(range(df.shape[0]),(df['Low']+df['High'])/2.0)\n",
        "plt.xticks(range(0,df.shape[0],500),df['Date'].loc[::500],rotation=45)\n",
        "plt.xlabel('Date',fontsize=18)\n",
        "plt.ylabel('Mid Price',fontsize=18)\n",
        "plt.show()'''"
      ],
      "metadata": {
        "colab": {
          "base_uri": "https://localhost:8080/",
          "height": 53
        },
        "id": "qxMBNpIZBPcT",
        "outputId": "ec9494ee-4b91-4a6f-9658-1520a1e83711"
      },
      "execution_count": null,
      "outputs": [
        {
          "output_type": "execute_result",
          "data": {
            "text/plain": [
              "\"plt.figure(figsize = (18,9))\\nplt.plot(range(df.shape[0]),(df['Low']+df['High'])/2.0)\\nplt.xticks(range(0,df.shape[0],500),df['Date'].loc[::500],rotation=45)\\nplt.xlabel('Date',fontsize=18)\\nplt.ylabel('Mid Price',fontsize=18)\\nplt.show()\""
            ],
            "application/vnd.google.colaboratory.intrinsic+json": {
              "type": "string"
            }
          },
          "metadata": {},
          "execution_count": 41
        }
      ]
    },
    {
      "cell_type": "code",
      "execution_count": null,
      "metadata": {
        "id": "Qn-RuNBwuH1h"
      },
      "outputs": [],
      "source": [
        "# Look at closing price for every day of this year\n",
        "'''plt.figure(figsize=(12,6))\n",
        "plt.title('Close Price Hist',fontsize=11)\n",
        "plt.plot(df['Adj Close'])\n",
        "plt.xlabel('Date', fontsize=11)\n",
        "plt.ylabel('Close Price US $', fontsize=11)'''"
      ]
    },
    {
      "cell_type": "code",
      "execution_count": null,
      "metadata": {
        "colab": {
          "base_uri": "https://localhost:8080/"
        },
        "id": "oCO5b8mmuH1i",
        "outputId": "b6d7c38a-41e6-4b86-94b1-bbe0383c4b58"
      },
      "outputs": [
        {
          "output_type": "execute_result",
          "data": {
            "text/plain": [
              "(1697, 6)"
            ]
          },
          "metadata": {},
          "execution_count": 42
        }
      ],
      "source": [
        "df.shape"
      ]
    },
    {
      "cell_type": "code",
      "execution_count": null,
      "metadata": {
        "id": "0EuFq0bm7Jlw"
      },
      "outputs": [],
      "source": [
        "df['70ma'] = df['Adj Close'].rolling(window=70).mean()\n",
        "df['20ma'] = df['Adj Close'].rolling(window=20).mean()\n",
        "df.dropna(inplace=True)"
      ]
    },
    {
      "cell_type": "code",
      "execution_count": null,
      "metadata": {
        "colab": {
          "base_uri": "https://localhost:8080/",
          "height": 238
        },
        "id": "BUX_a3P97-8H",
        "outputId": "9b0f660b-d48b-4675-dc1a-e541a089f97c"
      },
      "outputs": [
        {
          "output_type": "execute_result",
          "data": {
            "text/plain": [
              "                  High         Low        Open       Close      Volume  \\\n",
              "Date                                                                     \n",
              "2022-11-16  289.480011  284.600006  287.390015  285.440002  48859800.0   \n",
              "2022-11-17  286.320007  280.720001  280.880005  284.809998  55462100.0   \n",
              "2022-11-18  287.989990  282.320007  287.890015  284.820007  53351400.0   \n",
              "2022-11-21  284.579987  281.040009  283.399994  281.890015  40083500.0   \n",
              "2022-11-22  285.687897  280.480011  282.640015  285.609985  34442118.0   \n",
              "\n",
              "             Adj Close        70ma        20ma  \n",
              "Date                                            \n",
              "2022-11-16  285.440002  288.331595  275.727499  \n",
              "2022-11-17  284.809998  287.752519  276.512500  \n",
              "2022-11-18  284.820007  287.199967  276.982500  \n",
              "2022-11-21  281.890015  286.515577  277.154500  \n",
              "2022-11-22  285.609985  285.846255  277.224500  "
            ],
            "text/html": [
              "\n",
              "  <div id=\"df-68b2fb05-3f58-4370-8853-4b4153179932\">\n",
              "    <div class=\"colab-df-container\">\n",
              "      <div>\n",
              "<style scoped>\n",
              "    .dataframe tbody tr th:only-of-type {\n",
              "        vertical-align: middle;\n",
              "    }\n",
              "\n",
              "    .dataframe tbody tr th {\n",
              "        vertical-align: top;\n",
              "    }\n",
              "\n",
              "    .dataframe thead th {\n",
              "        text-align: right;\n",
              "    }\n",
              "</style>\n",
              "<table border=\"1\" class=\"dataframe\">\n",
              "  <thead>\n",
              "    <tr style=\"text-align: right;\">\n",
              "      <th></th>\n",
              "      <th>High</th>\n",
              "      <th>Low</th>\n",
              "      <th>Open</th>\n",
              "      <th>Close</th>\n",
              "      <th>Volume</th>\n",
              "      <th>Adj Close</th>\n",
              "      <th>70ma</th>\n",
              "      <th>20ma</th>\n",
              "    </tr>\n",
              "    <tr>\n",
              "      <th>Date</th>\n",
              "      <th></th>\n",
              "      <th></th>\n",
              "      <th></th>\n",
              "      <th></th>\n",
              "      <th></th>\n",
              "      <th></th>\n",
              "      <th></th>\n",
              "      <th></th>\n",
              "    </tr>\n",
              "  </thead>\n",
              "  <tbody>\n",
              "    <tr>\n",
              "      <th>2022-11-16</th>\n",
              "      <td>289.480011</td>\n",
              "      <td>284.600006</td>\n",
              "      <td>287.390015</td>\n",
              "      <td>285.440002</td>\n",
              "      <td>48859800.0</td>\n",
              "      <td>285.440002</td>\n",
              "      <td>288.331595</td>\n",
              "      <td>275.727499</td>\n",
              "    </tr>\n",
              "    <tr>\n",
              "      <th>2022-11-17</th>\n",
              "      <td>286.320007</td>\n",
              "      <td>280.720001</td>\n",
              "      <td>280.880005</td>\n",
              "      <td>284.809998</td>\n",
              "      <td>55462100.0</td>\n",
              "      <td>284.809998</td>\n",
              "      <td>287.752519</td>\n",
              "      <td>276.512500</td>\n",
              "    </tr>\n",
              "    <tr>\n",
              "      <th>2022-11-18</th>\n",
              "      <td>287.989990</td>\n",
              "      <td>282.320007</td>\n",
              "      <td>287.890015</td>\n",
              "      <td>284.820007</td>\n",
              "      <td>53351400.0</td>\n",
              "      <td>284.820007</td>\n",
              "      <td>287.199967</td>\n",
              "      <td>276.982500</td>\n",
              "    </tr>\n",
              "    <tr>\n",
              "      <th>2022-11-21</th>\n",
              "      <td>284.579987</td>\n",
              "      <td>281.040009</td>\n",
              "      <td>283.399994</td>\n",
              "      <td>281.890015</td>\n",
              "      <td>40083500.0</td>\n",
              "      <td>281.890015</td>\n",
              "      <td>286.515577</td>\n",
              "      <td>277.154500</td>\n",
              "    </tr>\n",
              "    <tr>\n",
              "      <th>2022-11-22</th>\n",
              "      <td>285.687897</td>\n",
              "      <td>280.480011</td>\n",
              "      <td>282.640015</td>\n",
              "      <td>285.609985</td>\n",
              "      <td>34442118.0</td>\n",
              "      <td>285.609985</td>\n",
              "      <td>285.846255</td>\n",
              "      <td>277.224500</td>\n",
              "    </tr>\n",
              "  </tbody>\n",
              "</table>\n",
              "</div>\n",
              "      <button class=\"colab-df-convert\" onclick=\"convertToInteractive('df-68b2fb05-3f58-4370-8853-4b4153179932')\"\n",
              "              title=\"Convert this dataframe to an interactive table.\"\n",
              "              style=\"display:none;\">\n",
              "        \n",
              "  <svg xmlns=\"http://www.w3.org/2000/svg\" height=\"24px\"viewBox=\"0 0 24 24\"\n",
              "       width=\"24px\">\n",
              "    <path d=\"M0 0h24v24H0V0z\" fill=\"none\"/>\n",
              "    <path d=\"M18.56 5.44l.94 2.06.94-2.06 2.06-.94-2.06-.94-.94-2.06-.94 2.06-2.06.94zm-11 1L8.5 8.5l.94-2.06 2.06-.94-2.06-.94L8.5 2.5l-.94 2.06-2.06.94zm10 10l.94 2.06.94-2.06 2.06-.94-2.06-.94-.94-2.06-.94 2.06-2.06.94z\"/><path d=\"M17.41 7.96l-1.37-1.37c-.4-.4-.92-.59-1.43-.59-.52 0-1.04.2-1.43.59L10.3 9.45l-7.72 7.72c-.78.78-.78 2.05 0 2.83L4 21.41c.39.39.9.59 1.41.59.51 0 1.02-.2 1.41-.59l7.78-7.78 2.81-2.81c.8-.78.8-2.07 0-2.86zM5.41 20L4 18.59l7.72-7.72 1.47 1.35L5.41 20z\"/>\n",
              "  </svg>\n",
              "      </button>\n",
              "      \n",
              "  <style>\n",
              "    .colab-df-container {\n",
              "      display:flex;\n",
              "      flex-wrap:wrap;\n",
              "      gap: 12px;\n",
              "    }\n",
              "\n",
              "    .colab-df-convert {\n",
              "      background-color: #E8F0FE;\n",
              "      border: none;\n",
              "      border-radius: 50%;\n",
              "      cursor: pointer;\n",
              "      display: none;\n",
              "      fill: #1967D2;\n",
              "      height: 32px;\n",
              "      padding: 0 0 0 0;\n",
              "      width: 32px;\n",
              "    }\n",
              "\n",
              "    .colab-df-convert:hover {\n",
              "      background-color: #E2EBFA;\n",
              "      box-shadow: 0px 1px 2px rgba(60, 64, 67, 0.3), 0px 1px 3px 1px rgba(60, 64, 67, 0.15);\n",
              "      fill: #174EA6;\n",
              "    }\n",
              "\n",
              "    [theme=dark] .colab-df-convert {\n",
              "      background-color: #3B4455;\n",
              "      fill: #D2E3FC;\n",
              "    }\n",
              "\n",
              "    [theme=dark] .colab-df-convert:hover {\n",
              "      background-color: #434B5C;\n",
              "      box-shadow: 0px 1px 3px 1px rgba(0, 0, 0, 0.15);\n",
              "      filter: drop-shadow(0px 1px 2px rgba(0, 0, 0, 0.3));\n",
              "      fill: #FFFFFF;\n",
              "    }\n",
              "  </style>\n",
              "\n",
              "      <script>\n",
              "        const buttonEl =\n",
              "          document.querySelector('#df-68b2fb05-3f58-4370-8853-4b4153179932 button.colab-df-convert');\n",
              "        buttonEl.style.display =\n",
              "          google.colab.kernel.accessAllowed ? 'block' : 'none';\n",
              "\n",
              "        async function convertToInteractive(key) {\n",
              "          const element = document.querySelector('#df-68b2fb05-3f58-4370-8853-4b4153179932');\n",
              "          const dataTable =\n",
              "            await google.colab.kernel.invokeFunction('convertToInteractive',\n",
              "                                                     [key], {});\n",
              "          if (!dataTable) return;\n",
              "\n",
              "          const docLinkHtml = 'Like what you see? Visit the ' +\n",
              "            '<a target=\"_blank\" href=https://colab.research.google.com/notebooks/data_table.ipynb>data table notebook</a>'\n",
              "            + ' to learn more about interactive tables.';\n",
              "          element.innerHTML = '';\n",
              "          dataTable['output_type'] = 'display_data';\n",
              "          await google.colab.output.renderOutput(dataTable, element);\n",
              "          const docLink = document.createElement('div');\n",
              "          docLink.innerHTML = docLinkHtml;\n",
              "          element.appendChild(docLink);\n",
              "        }\n",
              "      </script>\n",
              "    </div>\n",
              "  </div>\n",
              "  "
            ]
          },
          "metadata": {},
          "execution_count": 44
        }
      ],
      "source": [
        "df.tail()"
      ]
    },
    {
      "cell_type": "code",
      "execution_count": null,
      "metadata": {
        "id": "DDFGUz7N-6d9"
      },
      "outputs": [],
      "source": [
        "# df_small = df.tail(100)"
      ]
    },
    {
      "cell_type": "code",
      "execution_count": null,
      "metadata": {
        "colab": {
          "base_uri": "https://localhost:8080/",
          "height": 71
        },
        "id": "uQ7vXYYe830u",
        "outputId": "78a46937-7ada-49f9-bd8f-f1df2847ac85"
      },
      "outputs": [
        {
          "output_type": "execute_result",
          "data": {
            "text/plain": [
              "\"ax1 = plt.subplot2grid((6,1), (0,0), rowspan = 5, colspan = 1)\\nax2 = plt.subplot2grid((6,1), (5,0), rowspan = 1, colspan = 1, sharex=ax1)\\n#ax1.ticklabel_format(useOffset=False)\\nax1.ticklabel_format(style='plain')\\n\\n\\nax1.plot(df_small.index, df_small['Adj Close'])\\nax1.plot(df_small.index, df_small['70ma'])\\n#ax1.plot(df.index, df_small['20ma'])\\nax1.plot(df_small.index, df_small['Volume'])\\n\\nplt.show\""
            ],
            "application/vnd.google.colaboratory.intrinsic+json": {
              "type": "string"
            }
          },
          "metadata": {},
          "execution_count": 46
        }
      ],
      "source": [
        "\n",
        "'''ax1 = plt.subplot2grid((6,1), (0,0), rowspan = 5, colspan = 1)\n",
        "ax2 = plt.subplot2grid((6,1), (5,0), rowspan = 1, colspan = 1, sharex=ax1)\n",
        "#ax1.ticklabel_format(useOffset=False)\n",
        "ax1.ticklabel_format(style='plain')\n",
        "\n",
        "\n",
        "ax1.plot(df_small.index, df_small['Adj Close'])\n",
        "ax1.plot(df_small.index, df_small['70ma'])\n",
        "#ax1.plot(df.index, df_small['20ma'])\n",
        "ax1.plot(df_small.index, df_small['Volume'])\n",
        "\n",
        "plt.show'''"
      ]
    },
    {
      "cell_type": "code",
      "execution_count": null,
      "metadata": {
        "id": "Wk-HxNrfAmkd"
      },
      "outputs": [],
      "source": [
        "df_ohlc = df['Adj Close'].resample('10D').ohlc() # open high low close\n",
        "df_ohlc.dropna(inplace=True)\n",
        "df_vol = df['Volume'].resample('10D').sum()"
      ]
    },
    {
      "cell_type": "code",
      "execution_count": null,
      "metadata": {
        "colab": {
          "base_uri": "https://localhost:8080/",
          "height": 238
        },
        "id": "24QqRSEcBAto",
        "outputId": "ef92d5f2-58e4-4c78-8e23-6e5ffee1495a"
      },
      "outputs": [
        {
          "output_type": "execute_result",
          "data": {
            "text/plain": [
              "                  open        high         low       close\n",
              "Date                                                      \n",
              "2022-10-05  281.980011  281.980011  260.739990  260.739990\n",
              "2022-10-15  269.350006  278.450012  269.109985  278.450012\n",
              "2022-10-25  284.209991  284.209991  260.489990  260.489990\n",
              "2022-11-04  264.679993  287.959991  263.320007  287.959991\n",
              "2022-11-14  285.440002  289.390015  281.890015  285.609985"
            ],
            "text/html": [
              "\n",
              "  <div id=\"df-ae444ac0-8ac8-4b13-8d0a-8ade704d6847\">\n",
              "    <div class=\"colab-df-container\">\n",
              "      <div>\n",
              "<style scoped>\n",
              "    .dataframe tbody tr th:only-of-type {\n",
              "        vertical-align: middle;\n",
              "    }\n",
              "\n",
              "    .dataframe tbody tr th {\n",
              "        vertical-align: top;\n",
              "    }\n",
              "\n",
              "    .dataframe thead th {\n",
              "        text-align: right;\n",
              "    }\n",
              "</style>\n",
              "<table border=\"1\" class=\"dataframe\">\n",
              "  <thead>\n",
              "    <tr style=\"text-align: right;\">\n",
              "      <th></th>\n",
              "      <th>open</th>\n",
              "      <th>high</th>\n",
              "      <th>low</th>\n",
              "      <th>close</th>\n",
              "    </tr>\n",
              "    <tr>\n",
              "      <th>Date</th>\n",
              "      <th></th>\n",
              "      <th></th>\n",
              "      <th></th>\n",
              "      <th></th>\n",
              "    </tr>\n",
              "  </thead>\n",
              "  <tbody>\n",
              "    <tr>\n",
              "      <th>2022-10-05</th>\n",
              "      <td>281.980011</td>\n",
              "      <td>281.980011</td>\n",
              "      <td>260.739990</td>\n",
              "      <td>260.739990</td>\n",
              "    </tr>\n",
              "    <tr>\n",
              "      <th>2022-10-15</th>\n",
              "      <td>269.350006</td>\n",
              "      <td>278.450012</td>\n",
              "      <td>269.109985</td>\n",
              "      <td>278.450012</td>\n",
              "    </tr>\n",
              "    <tr>\n",
              "      <th>2022-10-25</th>\n",
              "      <td>284.209991</td>\n",
              "      <td>284.209991</td>\n",
              "      <td>260.489990</td>\n",
              "      <td>260.489990</td>\n",
              "    </tr>\n",
              "    <tr>\n",
              "      <th>2022-11-04</th>\n",
              "      <td>264.679993</td>\n",
              "      <td>287.959991</td>\n",
              "      <td>263.320007</td>\n",
              "      <td>287.959991</td>\n",
              "    </tr>\n",
              "    <tr>\n",
              "      <th>2022-11-14</th>\n",
              "      <td>285.440002</td>\n",
              "      <td>289.390015</td>\n",
              "      <td>281.890015</td>\n",
              "      <td>285.609985</td>\n",
              "    </tr>\n",
              "  </tbody>\n",
              "</table>\n",
              "</div>\n",
              "      <button class=\"colab-df-convert\" onclick=\"convertToInteractive('df-ae444ac0-8ac8-4b13-8d0a-8ade704d6847')\"\n",
              "              title=\"Convert this dataframe to an interactive table.\"\n",
              "              style=\"display:none;\">\n",
              "        \n",
              "  <svg xmlns=\"http://www.w3.org/2000/svg\" height=\"24px\"viewBox=\"0 0 24 24\"\n",
              "       width=\"24px\">\n",
              "    <path d=\"M0 0h24v24H0V0z\" fill=\"none\"/>\n",
              "    <path d=\"M18.56 5.44l.94 2.06.94-2.06 2.06-.94-2.06-.94-.94-2.06-.94 2.06-2.06.94zm-11 1L8.5 8.5l.94-2.06 2.06-.94-2.06-.94L8.5 2.5l-.94 2.06-2.06.94zm10 10l.94 2.06.94-2.06 2.06-.94-2.06-.94-.94-2.06-.94 2.06-2.06.94z\"/><path d=\"M17.41 7.96l-1.37-1.37c-.4-.4-.92-.59-1.43-.59-.52 0-1.04.2-1.43.59L10.3 9.45l-7.72 7.72c-.78.78-.78 2.05 0 2.83L4 21.41c.39.39.9.59 1.41.59.51 0 1.02-.2 1.41-.59l7.78-7.78 2.81-2.81c.8-.78.8-2.07 0-2.86zM5.41 20L4 18.59l7.72-7.72 1.47 1.35L5.41 20z\"/>\n",
              "  </svg>\n",
              "      </button>\n",
              "      \n",
              "  <style>\n",
              "    .colab-df-container {\n",
              "      display:flex;\n",
              "      flex-wrap:wrap;\n",
              "      gap: 12px;\n",
              "    }\n",
              "\n",
              "    .colab-df-convert {\n",
              "      background-color: #E8F0FE;\n",
              "      border: none;\n",
              "      border-radius: 50%;\n",
              "      cursor: pointer;\n",
              "      display: none;\n",
              "      fill: #1967D2;\n",
              "      height: 32px;\n",
              "      padding: 0 0 0 0;\n",
              "      width: 32px;\n",
              "    }\n",
              "\n",
              "    .colab-df-convert:hover {\n",
              "      background-color: #E2EBFA;\n",
              "      box-shadow: 0px 1px 2px rgba(60, 64, 67, 0.3), 0px 1px 3px 1px rgba(60, 64, 67, 0.15);\n",
              "      fill: #174EA6;\n",
              "    }\n",
              "\n",
              "    [theme=dark] .colab-df-convert {\n",
              "      background-color: #3B4455;\n",
              "      fill: #D2E3FC;\n",
              "    }\n",
              "\n",
              "    [theme=dark] .colab-df-convert:hover {\n",
              "      background-color: #434B5C;\n",
              "      box-shadow: 0px 1px 3px 1px rgba(0, 0, 0, 0.15);\n",
              "      filter: drop-shadow(0px 1px 2px rgba(0, 0, 0, 0.3));\n",
              "      fill: #FFFFFF;\n",
              "    }\n",
              "  </style>\n",
              "\n",
              "      <script>\n",
              "        const buttonEl =\n",
              "          document.querySelector('#df-ae444ac0-8ac8-4b13-8d0a-8ade704d6847 button.colab-df-convert');\n",
              "        buttonEl.style.display =\n",
              "          google.colab.kernel.accessAllowed ? 'block' : 'none';\n",
              "\n",
              "        async function convertToInteractive(key) {\n",
              "          const element = document.querySelector('#df-ae444ac0-8ac8-4b13-8d0a-8ade704d6847');\n",
              "          const dataTable =\n",
              "            await google.colab.kernel.invokeFunction('convertToInteractive',\n",
              "                                                     [key], {});\n",
              "          if (!dataTable) return;\n",
              "\n",
              "          const docLinkHtml = 'Like what you see? Visit the ' +\n",
              "            '<a target=\"_blank\" href=https://colab.research.google.com/notebooks/data_table.ipynb>data table notebook</a>'\n",
              "            + ' to learn more about interactive tables.';\n",
              "          element.innerHTML = '';\n",
              "          dataTable['output_type'] = 'display_data';\n",
              "          await google.colab.output.renderOutput(dataTable, element);\n",
              "          const docLink = document.createElement('div');\n",
              "          docLink.innerHTML = docLinkHtml;\n",
              "          element.appendChild(docLink);\n",
              "        }\n",
              "      </script>\n",
              "    </div>\n",
              "  </div>\n",
              "  "
            ]
          },
          "metadata": {},
          "execution_count": 48
        }
      ],
      "source": [
        "df_ohlc.tail(5)"
      ]
    },
    {
      "cell_type": "code",
      "execution_count": null,
      "metadata": {
        "id": "4RlzYmTJBv48"
      },
      "outputs": [],
      "source": [
        "df_ohlc.reset_index(inplace=True)"
      ]
    },
    {
      "cell_type": "code",
      "execution_count": null,
      "metadata": {
        "id": "fmdNUg_gDL3Y"
      },
      "outputs": [],
      "source": [
        "df_ohlc['Date'] = df_ohlc['Date'].map(mdates.date2num)"
      ]
    },
    {
      "cell_type": "code",
      "execution_count": null,
      "metadata": {
        "colab": {
          "base_uri": "https://localhost:8080/",
          "height": 300
        },
        "id": "39eNstMFDeez",
        "outputId": "a9b5632c-0b7e-4490-c3fd-1ead2374f92f"
      },
      "outputs": [
        {
          "output_type": "execute_result",
          "data": {
            "text/plain": [
              "<matplotlib.collections.PolyCollection at 0x7f630e1c75d0>"
            ]
          },
          "metadata": {},
          "execution_count": 51
        },
        {
          "output_type": "display_data",
          "data": {
            "text/plain": [
              "<Figure size 432x288 with 2 Axes>"
            ],
            "image/png": "[encoded data removed]"
          },
          "metadata": {}
        }
      ],
      "source": [
        "ax1 = plt.subplot2grid((6,1), (0,0), rowspan = 5, colspan = 1)\n",
        "ax2 = plt.subplot2grid((6,1), (5,0), rowspan = 1, colspan = 1, sharex=ax1)\n",
        "ax2.ticklabel_format(style='plain')\n",
        "\n",
        "ax1.xaxis_date()\n",
        "candlestick_ohlc(ax1, df_ohlc.values, width=2, colorup='g')\n",
        "ax2.fill_between(df_vol.index.map(mdates.date2num), df_vol.values,0)"
      ]
    },
    {
      "cell_type": "markdown",
      "metadata": {
        "id": "xGQJ5s84uH1i"
      },
      "source": [
        "## Train the model"
      ]
    },
    {
      "cell_type": "code",
      "source": [
        "df.head(2)"
      ],
      "metadata": {
        "colab": {
          "base_uri": "https://localhost:8080/",
          "height": 143
        },
        "id": "13-itlr891gX",
        "outputId": "906a6292-5229-4ac6-dd7e-ba2008ded234"
      },
      "execution_count": null,
      "outputs": [
        {
          "output_type": "execute_result",
          "data": {
            "text/plain": [
              "                  High         Low        Open       Close      Volume  \\\n",
              "Date                                                                     \n",
              "2016-06-08  110.599998  109.959999  110.370003  110.370003  14568700.0   \n",
              "2016-06-09  110.309998  109.709999  109.919998  110.190002  17571600.0   \n",
              "\n",
              "             Adj Close        70ma        20ma  \n",
              "Date                                            \n",
              "2016-06-08  105.066536  102.637550  102.988898  \n",
              "2016-06-09  104.895172  102.701641  103.171197  "
            ],
            "text/html": [
              "\n",
              "  <div id=\"df-abd82284-fa89-414d-9f16-6300433ba1e3\">\n",
              "    <div class=\"colab-df-container\">\n",
              "      <div>\n",
              "<style scoped>\n",
              "    .dataframe tbody tr th:only-of-type {\n",
              "        vertical-align: middle;\n",
              "    }\n",
              "\n",
              "    .dataframe tbody tr th {\n",
              "        vertical-align: top;\n",
              "    }\n",
              "\n",
              "    .dataframe thead th {\n",
              "        text-align: right;\n",
              "    }\n",
              "</style>\n",
              "<table border=\"1\" class=\"dataframe\">\n",
              "  <thead>\n",
              "    <tr style=\"text-align: right;\">\n",
              "      <th></th>\n",
              "      <th>High</th>\n",
              "      <th>Low</th>\n",
              "      <th>Open</th>\n",
              "      <th>Close</th>\n",
              "      <th>Volume</th>\n",
              "      <th>Adj Close</th>\n",
              "      <th>70ma</th>\n",
              "      <th>20ma</th>\n",
              "    </tr>\n",
              "    <tr>\n",
              "      <th>Date</th>\n",
              "      <th></th>\n",
              "      <th></th>\n",
              "      <th></th>\n",
              "      <th></th>\n",
              "      <th></th>\n",
              "      <th></th>\n",
              "      <th></th>\n",
              "      <th></th>\n",
              "    </tr>\n",
              "  </thead>\n",
              "  <tbody>\n",
              "    <tr>\n",
              "      <th>2016-06-08</th>\n",
              "      <td>110.599998</td>\n",
              "      <td>109.959999</td>\n",
              "      <td>110.370003</td>\n",
              "      <td>110.370003</td>\n",
              "      <td>14568700.0</td>\n",
              "      <td>105.066536</td>\n",
              "      <td>102.637550</td>\n",
              "      <td>102.988898</td>\n",
              "    </tr>\n",
              "    <tr>\n",
              "      <th>2016-06-09</th>\n",
              "      <td>110.309998</td>\n",
              "      <td>109.709999</td>\n",
              "      <td>109.919998</td>\n",
              "      <td>110.190002</td>\n",
              "      <td>17571600.0</td>\n",
              "      <td>104.895172</td>\n",
              "      <td>102.701641</td>\n",
              "      <td>103.171197</td>\n",
              "    </tr>\n",
              "  </tbody>\n",
              "</table>\n",
              "</div>\n",
              "      <button class=\"colab-df-convert\" onclick=\"convertToInteractive('df-abd82284-fa89-414d-9f16-6300433ba1e3')\"\n",
              "              title=\"Convert this dataframe to an interactive table.\"\n",
              "              style=\"display:none;\">\n",
              "        \n",
              "  <svg xmlns=\"http://www.w3.org/2000/svg\" height=\"24px\"viewBox=\"0 0 24 24\"\n",
              "       width=\"24px\">\n",
              "    <path d=\"M0 0h24v24H0V0z\" fill=\"none\"/>\n",
              "    <path d=\"M18.56 5.44l.94 2.06.94-2.06 2.06-.94-2.06-.94-.94-2.06-.94 2.06-2.06.94zm-11 1L8.5 8.5l.94-2.06 2.06-.94-2.06-.94L8.5 2.5l-.94 2.06-2.06.94zm10 10l.94 2.06.94-2.06 2.06-.94-2.06-.94-.94-2.06-.94 2.06-2.06.94z\"/><path d=\"M17.41 7.96l-1.37-1.37c-.4-.4-.92-.59-1.43-.59-.52 0-1.04.2-1.43.59L10.3 9.45l-7.72 7.72c-.78.78-.78 2.05 0 2.83L4 21.41c.39.39.9.59 1.41.59.51 0 1.02-.2 1.41-.59l7.78-7.78 2.81-2.81c.8-.78.8-2.07 0-2.86zM5.41 20L4 18.59l7.72-7.72 1.47 1.35L5.41 20z\"/>\n",
              "  </svg>\n",
              "      </button>\n",
              "      \n",
              "  <style>\n",
              "    .colab-df-container {\n",
              "      display:flex;\n",
              "      flex-wrap:wrap;\n",
              "      gap: 12px;\n",
              "    }\n",
              "\n",
              "    .colab-df-convert {\n",
              "      background-color: #E8F0FE;\n",
              "      border: none;\n",
              "      border-radius: 50%;\n",
              "      cursor: pointer;\n",
              "      display: none;\n",
              "      fill: #1967D2;\n",
              "      height: 32px;\n",
              "      padding: 0 0 0 0;\n",
              "      width: 32px;\n",
              "    }\n",
              "\n",
              "    .colab-df-convert:hover {\n",
              "      background-color: #E2EBFA;\n",
              "      box-shadow: 0px 1px 2px rgba(60, 64, 67, 0.3), 0px 1px 3px 1px rgba(60, 64, 67, 0.15);\n",
              "      fill: #174EA6;\n",
              "    }\n",
              "\n",
              "    [theme=dark] .colab-df-convert {\n",
              "      background-color: #3B4455;\n",
              "      fill: #D2E3FC;\n",
              "    }\n",
              "\n",
              "    [theme=dark] .colab-df-convert:hover {\n",
              "      background-color: #434B5C;\n",
              "      box-shadow: 0px 1px 3px 1px rgba(0, 0, 0, 0.15);\n",
              "      filter: drop-shadow(0px 1px 2px rgba(0, 0, 0, 0.3));\n",
              "      fill: #FFFFFF;\n",
              "    }\n",
              "  </style>\n",
              "\n",
              "      <script>\n",
              "        const buttonEl =\n",
              "          document.querySelector('#df-abd82284-fa89-414d-9f16-6300433ba1e3 button.colab-df-convert');\n",
              "        buttonEl.style.display =\n",
              "          google.colab.kernel.accessAllowed ? 'block' : 'none';\n",
              "\n",
              "        async function convertToInteractive(key) {\n",
              "          const element = document.querySelector('#df-abd82284-fa89-414d-9f16-6300433ba1e3');\n",
              "          const dataTable =\n",
              "            await google.colab.kernel.invokeFunction('convertToInteractive',\n",
              "                                                     [key], {});\n",
              "          if (!dataTable) return;\n",
              "\n",
              "          const docLinkHtml = 'Like what you see? Visit the ' +\n",
              "            '<a target=\"_blank\" href=https://colab.research.google.com/notebooks/data_table.ipynb>data table notebook</a>'\n",
              "            + ' to learn more about interactive tables.';\n",
              "          element.innerHTML = '';\n",
              "          dataTable['output_type'] = 'display_data';\n",
              "          await google.colab.output.renderOutput(dataTable, element);\n",
              "          const docLink = document.createElement('div');\n",
              "          docLink.innerHTML = docLinkHtml;\n",
              "          element.appendChild(docLink);\n",
              "        }\n",
              "      </script>\n",
              "    </div>\n",
              "  </div>\n",
              "  "
            ]
          },
          "metadata": {},
          "execution_count": 52
        }
      ]
    },
    {
      "cell_type": "code",
      "execution_count": null,
      "metadata": {
        "colab": {
          "base_uri": "https://localhost:8080/"
        },
        "id": "W3wiAi6huH1j",
        "outputId": "855a2bcb-3f22-40f4-df96-29265b92a096"
      },
      "outputs": [
        {
          "output_type": "execute_result",
          "data": {
            "text/plain": [
              "1303"
            ]
          },
          "metadata": {},
          "execution_count": 53
        }
      ],
      "source": [
        "# Create new df w/ \"Close\" col\n",
        "\n",
        "df2 = df.filter(['Close'])\n",
        "# convert to numpy array\n",
        "dataset = df2.values\n",
        "\n",
        "# Get no of rows to train the (LSTM) model on\n",
        "# train it on 80 % of the data \n",
        "training_data_len = math.ceil(len(dataset) * .8)  # math.ceil -> rounding\n",
        "training_data_len"
      ]
    },
    {
      "cell_type": "code",
      "execution_count": null,
      "metadata": {
        "id": "Y2JEs57kuH1j"
      },
      "outputs": [],
      "source": [
        "# Scale the data (scaling or normalization helps the model)\n",
        "\n",
        "scaler = MinMaxScaler(feature_range=(0,1))  # values / features ranges 0-1 inclusive\n",
        "\n",
        "# Transformed data\n",
        "scaled_data = scaler.fit_transform(dataset.reshape(-1,1))\n",
        "# scaled_data"
      ]
    },
    {
      "cell_type": "code",
      "execution_count": null,
      "metadata": {
        "id": "Yh3vaiwsuH1k"
      },
      "outputs": [],
      "source": [
        "# Create the training data set\n",
        "# Create scaled training data set\n",
        "# train_data = scaled_data[0:training_data_len, :]\n",
        "\n",
        "# Split data into x_train & y_train data set\n",
        "#reate empty lists\n",
        "x_train = [] # independent variables / features\n",
        "y_train = [] # dependent / target variable\n",
        "\n",
        "prediction_days = 180 # 60 days, modify as needed\n",
        "\n",
        "for i in range(prediction_days, len(scaled_data)):  \n",
        "    x_train.append(scaled_data[i - prediction_days:i, 0]) # never reaches i, not including i\n",
        "    y_train.append(scaled_data[i, 0])\n",
        "    # if i  <= 60:\n",
        "        #print(x_train)\n",
        "        #print()\n",
        "        #print(y_train)\n",
        "        #print()"
      ]
    },
    {
      "cell_type": "code",
      "execution_count": null,
      "metadata": {
        "id": "auWYVTmKuH1l"
      },
      "outputs": [],
      "source": [
        "# Convert x_train & y_train to numpy arrays\n",
        "x_train, y_train = np.array(x_train), np.array(y_train)"
      ]
    },
    {
      "cell_type": "code",
      "execution_count": null,
      "metadata": {
        "colab": {
          "base_uri": "https://localhost:8080/"
        },
        "id": "P3XlEH5cuH1l",
        "outputId": "a88e8220-acbb-482f-cf88-0e3c569f0e81"
      },
      "outputs": [
        {
          "output_type": "execute_result",
          "data": {
            "text/plain": [
              "(1448, 180)"
            ]
          },
          "metadata": {},
          "execution_count": 57
        }
      ],
      "source": [
        "x_train.shape"
      ]
    },
    {
      "cell_type": "code",
      "execution_count": null,
      "metadata": {
        "id": "vPut2MoEuH1l"
      },
      "outputs": [],
      "source": [
        "# Reshape data, LSTM expects input to be 3-dimensional\n",
        "# x_train = np.shape(x_train, (943, 60, 1))\n",
        "x_train = np.reshape(x_train, (x_train.shape[0], x_train.shape[1], 1))\n",
        "\n"
      ]
    },
    {
      "cell_type": "code",
      "execution_count": null,
      "metadata": {
        "id": "vNzTPj6buH1m"
      },
      "outputs": [],
      "source": [
        "# Build LSTM model\n",
        "# This will be the model architecture\n",
        "from keras.layers import Dropout\n",
        "\n",
        "\n",
        "model = Sequential()\n",
        "model.add(LSTM(20, return_sequences=True, input_shape=(x_train.shape[1], 1)))\n",
        "#model.add(Dropout(.2))\n",
        "model.add(LSTM(20, return_sequences=True))\n",
        "#model.add(Dropout(.2))\n",
        "model.add(LSTM(20, return_sequences=False))\n",
        "#model.add(Dense(25))\n",
        "model.add(Dense(1))\n",
        "\n",
        "# the number of hidden units should be in-between the number of input units and output classes"
      ]
    },
    {
      "cell_type": "code",
      "execution_count": null,
      "metadata": {
        "colab": {
          "base_uri": "https://localhost:8080/",
          "height": 53
        },
        "id": "Z0eg41VQuH1m",
        "outputId": "59e9bb35-d43c-4a84-b1d2-c7a9a218d680"
      },
      "outputs": [
        {
          "output_type": "execute_result",
          "data": {
            "text/plain": [
              "'# Build LSTM model\\n# This will be the model architecture\\nmodel = Sequential()\\nmodel.add(LSTM(50, return_sequences=True, input_shape=(x_train.shape[1], 1)))\\nmodel.add(LSTM(50, return_sequences=False))\\nmodel.add(Dense(25))\\nmodel.add(Dense(1))'"
            ],
            "application/vnd.google.colaboratory.intrinsic+json": {
              "type": "string"
            }
          },
          "metadata": {},
          "execution_count": 60
        }
      ],
      "source": [
        "'''# Build LSTM model\n",
        "# This will be the model architecture\n",
        "model = Sequential()\n",
        "model.add(LSTM(50, return_sequences=True, input_shape=(x_train.shape[1], 1)))\n",
        "model.add(LSTM(50, return_sequences=False))\n",
        "model.add(Dense(25))\n",
        "model.add(Dense(1))'''"
      ]
    },
    {
      "cell_type": "code",
      "execution_count": null,
      "metadata": {
        "id": "Aa1LkA5-TNY_"
      },
      "outputs": [],
      "source": [
        "# cat boost -> https://catboost.ai/en/docs/concepts/parameter-tuning"
      ]
    },
    {
      "cell_type": "code",
      "execution_count": null,
      "metadata": {
        "id": "S5TWITnKuH1n"
      },
      "outputs": [],
      "source": [
        "# Compile model\n",
        "model.compile(optimizer='adam', loss='mean_squared_error', metrics=['accuracy'])"
      ]
    },
    {
      "cell_type": "code",
      "execution_count": null,
      "metadata": {
        "colab": {
          "base_uri": "https://localhost:8080/"
        },
        "id": "ghGrZFsyuH1n",
        "outputId": "ac8a51ab-a50d-4f3c-c9cd-d90c39d14d6f"
      },
      "outputs": [
        {
          "output_type": "stream",
          "name": "stdout",
          "text": [
            "Epoch 1/10\n",
            "290/290 [==============================] - 56s 172ms/step - loss: 0.0075 - accuracy: 6.9061e-04\n",
            "Epoch 2/10\n",
            "290/290 [==============================] - 50s 171ms/step - loss: 0.0013 - accuracy: 6.9061e-04\n",
            "Epoch 3/10\n",
            "290/290 [==============================] - 52s 179ms/step - loss: 0.0014 - accuracy: 6.9061e-04\n",
            "Epoch 4/10\n",
            "290/290 [==============================] - 50s 171ms/step - loss: 0.0010 - accuracy: 6.9061e-04\n",
            "Epoch 5/10\n",
            "290/290 [==============================] - 49s 170ms/step - loss: 8.0352e-04 - accuracy: 6.9061e-04\n",
            "Epoch 6/10\n",
            "290/290 [==============================] - 50s 171ms/step - loss: 7.2794e-04 - accuracy: 6.9061e-04\n",
            "Epoch 7/10\n",
            "290/290 [==============================] - 53s 182ms/step - loss: 6.0856e-04 - accuracy: 6.9061e-04\n",
            "Epoch 8/10\n",
            "290/290 [==============================] - 51s 176ms/step - loss: 6.1332e-04 - accuracy: 6.9061e-04\n",
            "Epoch 9/10\n",
            "290/290 [==============================] - 49s 171ms/step - loss: 5.7885e-04 - accuracy: 6.9061e-04\n",
            "Epoch 10/10\n",
            "290/290 [==============================] - 50s 171ms/step - loss: 5.0230e-04 - accuracy: 6.9061e-04\n"
          ]
        }
      ],
      "source": [
        "# Train model\n",
        "# model.fit(x_train, y_train, batch_size=5, epochs=7) \n",
        "history = model.fit(x_train, y_train, epochs=10, batch_size=5) #validation_split=0.33  , verbose=0\n"
      ]
    },
    {
      "cell_type": "code",
      "source": [
        "'''plt.plot(history.history['accuracy'])\n",
        "plt.plot(history.history['val_accuracy'])\n",
        "plt.title('model accuracy')\n",
        "plt.ylabel('accuracy')\n",
        "plt.xlabel('epoch')\n",
        "plt.legend(['train', 'test'], loc='upper left')\n",
        "plt.show()'''"
      ],
      "metadata": {
        "colab": {
          "base_uri": "https://localhost:8080/",
          "height": 53
        },
        "id": "ov6eDSju5fEM",
        "outputId": "cbbfc283-c826-41de-a1eb-37af67ef6748"
      },
      "execution_count": null,
      "outputs": [
        {
          "output_type": "execute_result",
          "data": {
            "text/plain": [
              "\"plt.plot(history.history['accuracy'])\\nplt.plot(history.history['val_accuracy'])\\nplt.title('model accuracy')\\nplt.ylabel('accuracy')\\nplt.xlabel('epoch')\\nplt.legend(['train', 'test'], loc='upper left')\\nplt.show()\""
            ],
            "application/vnd.google.colaboratory.intrinsic+json": {
              "type": "string"
            }
          },
          "metadata": {},
          "execution_count": 64
        }
      ]
    },
    {
      "cell_type": "code",
      "execution_count": null,
      "metadata": {
        "id": "fGCs3SN9uH1o"
      },
      "outputs": [],
      "source": [
        "# Create testing dataset\n",
        "# Create new array containing scaled values from 900 - 960\n",
        "test_data = scaled_data[training_data_len - prediction_days: , :]\n",
        "\n",
        "# Create data set x_test & y_test\n",
        "x_test = []\n",
        "y_test = dataset[training_data_len: , :]  # all of values that we want the model to predict, the actual test values\n",
        "for i in range(prediction_days, len(test_data)):\n",
        "    x_test.append(test_data[i- prediction_days:i, 0])"
      ]
    },
    {
      "cell_type": "code",
      "execution_count": null,
      "metadata": {
        "id": "FcasJTj9uH1o"
      },
      "outputs": [],
      "source": [
        "# Convert data to numpy array\n",
        "x_test = np.array(x_test)"
      ]
    },
    {
      "cell_type": "code",
      "execution_count": null,
      "metadata": {
        "id": "PIrpJrUNuH1o"
      },
      "outputs": [],
      "source": [
        "# Reshape data -> 3-dimensional shape\n",
        "x_test = np.reshape(x_test, (x_test.shape[0], x_test.shape[1], 1))   # x_test.shape[0] -> number of samples ; x_test.shape[1] -> number of timesteps; number of features: 1 (close price)\n"
      ]
    },
    {
      "cell_type": "code",
      "execution_count": null,
      "metadata": {
        "colab": {
          "base_uri": "https://localhost:8080/"
        },
        "id": "LF3_dbb0uH1o",
        "outputId": "6809389c-06c4-44e0-857f-45a76cdccb9e"
      },
      "outputs": [
        {
          "output_type": "stream",
          "name": "stdout",
          "text": [
            "11/11 [==============================] - 2s 40ms/step\n"
          ]
        }
      ],
      "source": [
        "# Get the models predicted price values\n",
        "\n",
        "predictions = model.predict(x_test)\n",
        "# we want predictions to contain same values as y_test data set\n",
        "predictions = scaler.inverse_transform(predictions)  # unscale values"
      ]
    },
    {
      "cell_type": "code",
      "execution_count": null,
      "metadata": {
        "id": "xuOVS6LIuH1p"
      },
      "outputs": [],
      "source": [
        "# Get root mean square error (RSME)\n",
        "rmse = np.sqrt(np.mean(((predictions- y_test)**2)))"
      ]
    },
    {
      "cell_type": "code",
      "execution_count": null,
      "metadata": {
        "id": "Dxn-rpQ4uH1p"
      },
      "outputs": [],
      "source": [
        "# rmse =np.sqrt(np.mean(((predictions- y_test)**2)))\n",
        "# rmse = np.sqrt(np.mean(np.power((np.array(y_test)-np.array(predictions)),2)))\n",
        "# rmse = np.sqrt(((predictions - y_test) ** 2).mean())"
      ]
    },
    {
      "cell_type": "code",
      "execution_count": null,
      "metadata": {
        "colab": {
          "base_uri": "https://localhost:8080/"
        },
        "id": "X-B66FU2uH1p",
        "outputId": "64f6b108-e14c-462b-ea1e-d9c088d1097e"
      },
      "outputs": [
        {
          "output_type": "execute_result",
          "data": {
            "text/plain": [
              "9.007217264072866"
            ]
          },
          "metadata": {},
          "execution_count": 71
        }
      ],
      "source": [
        "rmse"
      ]
    },
    {
      "cell_type": "markdown",
      "metadata": {
        "id": "gG2w92OIuH1p"
      },
      "source": [
        "### Plotting "
      ]
    },
    {
      "cell_type": "code",
      "execution_count": null,
      "metadata": {
        "colab": {
          "base_uri": "https://localhost:8080/",
          "height": 558
        },
        "id": "y7s0Hq1xuH1p",
        "outputId": "a00b726f-2b55-4d56-f26c-737a606a5088"
      },
      "outputs": [
        {
          "output_type": "stream",
          "name": "stderr",
          "text": [
            "/usr/local/lib/python3.7/dist-packages/ipykernel_launcher.py:4: SettingWithCopyWarning: \n",
            "A value is trying to be set on a copy of a slice from a DataFrame.\n",
            "Try using .loc[row_indexer,col_indexer] = value instead\n",
            "\n",
            "See the caveats in the documentation: https://pandas.pydata.org/pandas-docs/stable/user_guide/indexing.html#returning-a-view-versus-a-copy\n",
            "  after removing the cwd from sys.path.\n"
          ]
        },
        {
          "output_type": "execute_result",
          "data": {
            "text/plain": [
              "<matplotlib.legend.Legend at 0x7f630cd33290>"
            ]
          },
          "metadata": {},
          "execution_count": 72
        },
        {
          "output_type": "display_data",
          "data": {
            "text/plain": [
              "<Figure size 1008x432 with 1 Axes>"
            ],
            "image/png": "[encoded data removed]"
          },
          "metadata": {}
        }
      ],
      "source": [
        "# Plot data\n",
        "train = df[:training_data_len]\n",
        "valid = df[training_data_len:]\n",
        "valid['Predictions'] = predictions\n",
        "\n",
        "# Viz\n",
        "plt.figure(figsize=(14,6))\n",
        "plt.title('Model')\n",
        "plt.xlabel('Date', fontsize=11)\n",
        "plt.ylabel('Close Price US $', fontsize=11)\n",
        "plt.plot(train['Close'])\n",
        "plt.plot(valid[['Close', 'Predictions']])\n",
        "plt.legend(['Train', 'Validation', 'Predictions'], loc='lower left')"
      ]
    },
    {
      "cell_type": "markdown",
      "metadata": {
        "id": "7oT8nzn5uH1q"
      },
      "source": [
        "blue = data the model was trained on\n",
        "red = actual values / actual closing price for the dates\n",
        "orange = what model predicted to be"
      ]
    },
    {
      "cell_type": "code",
      "execution_count": null,
      "metadata": {
        "colab": {
          "base_uri": "https://localhost:8080/",
          "height": 238
        },
        "id": "W_o5POkJuH1q",
        "outputId": "7ee01db2-cbb6-4981-d7bd-265f6829a167"
      },
      "outputs": [
        {
          "output_type": "execute_result",
          "data": {
            "text/plain": [
              "                  High         Low        Open       Close      Volume  \\\n",
              "Date                                                                     \n",
              "2022-11-16  289.480011  284.600006  287.390015  285.440002  48859800.0   \n",
              "2022-11-17  286.320007  280.720001  280.880005  284.809998  55462100.0   \n",
              "2022-11-18  287.989990  282.320007  287.890015  284.820007  53351400.0   \n",
              "2022-11-21  284.579987  281.040009  283.399994  281.890015  40083500.0   \n",
              "2022-11-22  285.687897  280.480011  282.640015  285.609985  34442118.0   \n",
              "\n",
              "             Adj Close        70ma        20ma  Predictions  \n",
              "Date                                                         \n",
              "2022-11-16  285.440002  288.331595  275.727499   280.336823  \n",
              "2022-11-17  284.809998  287.752519  276.512500   283.181519  \n",
              "2022-11-18  284.820007  287.199967  276.982500   284.181946  \n",
              "2022-11-21  281.890015  286.515577  277.154500   283.949066  \n",
              "2022-11-22  285.609985  285.846255  277.224500   282.629822  "
            ],
            "text/html": [
              "\n",
              "  <div id=\"df-768c4ffb-52b0-4561-b05d-dcdf772b772f\">\n",
              "    <div class=\"colab-df-container\">\n",
              "      <div>\n",
              "<style scoped>\n",
              "    .dataframe tbody tr th:only-of-type {\n",
              "        vertical-align: middle;\n",
              "    }\n",
              "\n",
              "    .dataframe tbody tr th {\n",
              "        vertical-align: top;\n",
              "    }\n",
              "\n",
              "    .dataframe thead th {\n",
              "        text-align: right;\n",
              "    }\n",
              "</style>\n",
              "<table border=\"1\" class=\"dataframe\">\n",
              "  <thead>\n",
              "    <tr style=\"text-align: right;\">\n",
              "      <th></th>\n",
              "      <th>High</th>\n",
              "      <th>Low</th>\n",
              "      <th>Open</th>\n",
              "      <th>Close</th>\n",
              "      <th>Volume</th>\n",
              "      <th>Adj Close</th>\n",
              "      <th>70ma</th>\n",
              "      <th>20ma</th>\n",
              "      <th>Predictions</th>\n",
              "    </tr>\n",
              "    <tr>\n",
              "      <th>Date</th>\n",
              "      <th></th>\n",
              "      <th></th>\n",
              "      <th></th>\n",
              "      <th></th>\n",
              "      <th></th>\n",
              "      <th></th>\n",
              "      <th></th>\n",
              "      <th></th>\n",
              "      <th></th>\n",
              "    </tr>\n",
              "  </thead>\n",
              "  <tbody>\n",
              "    <tr>\n",
              "      <th>2022-11-16</th>\n",
              "      <td>289.480011</td>\n",
              "      <td>284.600006</td>\n",
              "      <td>287.390015</td>\n",
              "      <td>285.440002</td>\n",
              "      <td>48859800.0</td>\n",
              "      <td>285.440002</td>\n",
              "      <td>288.331595</td>\n",
              "      <td>275.727499</td>\n",
              "      <td>280.336823</td>\n",
              "    </tr>\n",
              "    <tr>\n",
              "      <th>2022-11-17</th>\n",
              "      <td>286.320007</td>\n",
              "      <td>280.720001</td>\n",
              "      <td>280.880005</td>\n",
              "      <td>284.809998</td>\n",
              "      <td>55462100.0</td>\n",
              "      <td>284.809998</td>\n",
              "      <td>287.752519</td>\n",
              "      <td>276.512500</td>\n",
              "      <td>283.181519</td>\n",
              "    </tr>\n",
              "    <tr>\n",
              "      <th>2022-11-18</th>\n",
              "      <td>287.989990</td>\n",
              "      <td>282.320007</td>\n",
              "      <td>287.890015</td>\n",
              "      <td>284.820007</td>\n",
              "      <td>53351400.0</td>\n",
              "      <td>284.820007</td>\n",
              "      <td>287.199967</td>\n",
              "      <td>276.982500</td>\n",
              "      <td>284.181946</td>\n",
              "    </tr>\n",
              "    <tr>\n",
              "      <th>2022-11-21</th>\n",
              "      <td>284.579987</td>\n",
              "      <td>281.040009</td>\n",
              "      <td>283.399994</td>\n",
              "      <td>281.890015</td>\n",
              "      <td>40083500.0</td>\n",
              "      <td>281.890015</td>\n",
              "      <td>286.515577</td>\n",
              "      <td>277.154500</td>\n",
              "      <td>283.949066</td>\n",
              "    </tr>\n",
              "    <tr>\n",
              "      <th>2022-11-22</th>\n",
              "      <td>285.687897</td>\n",
              "      <td>280.480011</td>\n",
              "      <td>282.640015</td>\n",
              "      <td>285.609985</td>\n",
              "      <td>34442118.0</td>\n",
              "      <td>285.609985</td>\n",
              "      <td>285.846255</td>\n",
              "      <td>277.224500</td>\n",
              "      <td>282.629822</td>\n",
              "    </tr>\n",
              "  </tbody>\n",
              "</table>\n",
              "</div>\n",
              "      <button class=\"colab-df-convert\" onclick=\"convertToInteractive('df-768c4ffb-52b0-4561-b05d-dcdf772b772f')\"\n",
              "              title=\"Convert this dataframe to an interactive table.\"\n",
              "              style=\"display:none;\">\n",
              "        \n",
              "  <svg xmlns=\"http://www.w3.org/2000/svg\" height=\"24px\"viewBox=\"0 0 24 24\"\n",
              "       width=\"24px\">\n",
              "    <path d=\"M0 0h24v24H0V0z\" fill=\"none\"/>\n",
              "    <path d=\"M18.56 5.44l.94 2.06.94-2.06 2.06-.94-2.06-.94-.94-2.06-.94 2.06-2.06.94zm-11 1L8.5 8.5l.94-2.06 2.06-.94-2.06-.94L8.5 2.5l-.94 2.06-2.06.94zm10 10l.94 2.06.94-2.06 2.06-.94-2.06-.94-.94-2.06-.94 2.06-2.06.94z\"/><path d=\"M17.41 7.96l-1.37-1.37c-.4-.4-.92-.59-1.43-.59-.52 0-1.04.2-1.43.59L10.3 9.45l-7.72 7.72c-.78.78-.78 2.05 0 2.83L4 21.41c.39.39.9.59 1.41.59.51 0 1.02-.2 1.41-.59l7.78-7.78 2.81-2.81c.8-.78.8-2.07 0-2.86zM5.41 20L4 18.59l7.72-7.72 1.47 1.35L5.41 20z\"/>\n",
              "  </svg>\n",
              "      </button>\n",
              "      \n",
              "  <style>\n",
              "    .colab-df-container {\n",
              "      display:flex;\n",
              "      flex-wrap:wrap;\n",
              "      gap: 12px;\n",
              "    }\n",
              "\n",
              "    .colab-df-convert {\n",
              "      background-color: #E8F0FE;\n",
              "      border: none;\n",
              "      border-radius: 50%;\n",
              "      cursor: pointer;\n",
              "      display: none;\n",
              "      fill: #1967D2;\n",
              "      height: 32px;\n",
              "      padding: 0 0 0 0;\n",
              "      width: 32px;\n",
              "    }\n",
              "\n",
              "    .colab-df-convert:hover {\n",
              "      background-color: #E2EBFA;\n",
              "      box-shadow: 0px 1px 2px rgba(60, 64, 67, 0.3), 0px 1px 3px 1px rgba(60, 64, 67, 0.15);\n",
              "      fill: #174EA6;\n",
              "    }\n",
              "\n",
              "    [theme=dark] .colab-df-convert {\n",
              "      background-color: #3B4455;\n",
              "      fill: #D2E3FC;\n",
              "    }\n",
              "\n",
              "    [theme=dark] .colab-df-convert:hover {\n",
              "      background-color: #434B5C;\n",
              "      box-shadow: 0px 1px 3px 1px rgba(0, 0, 0, 0.15);\n",
              "      filter: drop-shadow(0px 1px 2px rgba(0, 0, 0, 0.3));\n",
              "      fill: #FFFFFF;\n",
              "    }\n",
              "  </style>\n",
              "\n",
              "      <script>\n",
              "        const buttonEl =\n",
              "          document.querySelector('#df-768c4ffb-52b0-4561-b05d-dcdf772b772f button.colab-df-convert');\n",
              "        buttonEl.style.display =\n",
              "          google.colab.kernel.accessAllowed ? 'block' : 'none';\n",
              "\n",
              "        async function convertToInteractive(key) {\n",
              "          const element = document.querySelector('#df-768c4ffb-52b0-4561-b05d-dcdf772b772f');\n",
              "          const dataTable =\n",
              "            await google.colab.kernel.invokeFunction('convertToInteractive',\n",
              "                                                     [key], {});\n",
              "          if (!dataTable) return;\n",
              "\n",
              "          const docLinkHtml = 'Like what you see? Visit the ' +\n",
              "            '<a target=\"_blank\" href=https://colab.research.google.com/notebooks/data_table.ipynb>data table notebook</a>'\n",
              "            + ' to learn more about interactive tables.';\n",
              "          element.innerHTML = '';\n",
              "          dataTable['output_type'] = 'display_data';\n",
              "          await google.colab.output.renderOutput(dataTable, element);\n",
              "          const docLink = document.createElement('div');\n",
              "          docLink.innerHTML = docLinkHtml;\n",
              "          element.appendChild(docLink);\n",
              "        }\n",
              "      </script>\n",
              "    </div>\n",
              "  </div>\n",
              "  "
            ]
          },
          "metadata": {},
          "execution_count": 73
        }
      ],
      "source": [
        "# Show valid and predicted price\n",
        "valid.tail()"
      ]
    },
    {
      "cell_type": "markdown",
      "metadata": {
        "id": "5WTZmE2_uH1q"
      },
      "source": [
        "# Predict close price for future"
      ]
    },
    {
      "cell_type": "code",
      "execution_count": null,
      "metadata": {
        "colab": {
          "base_uri": "https://localhost:8080/"
        },
        "id": "kmjUi3ATuH1q",
        "outputId": "b1bd29eb-333a-4594-9388-55279801a763"
      },
      "outputs": [
        {
          "output_type": "stream",
          "name": "stdout",
          "text": [
            "1/1 [==============================] - 0s 38ms/step\n",
            "[[281.55615]]\n"
          ]
        }
      ],
      "source": [
        "df_future = df.filter(['Close'])\n",
        "last_60_days = df_future[-prediction_days:].values\n",
        "last_60_days_scaled = scaler.transform(last_60_days)\n",
        "X_test = []\n",
        "X_test.append(last_60_days_scaled)\n",
        "X_test = np.array(X_test)\n",
        "X_test = np.reshape(X_test, (X_test.shape[0], X_test.shape[1], 1))\n",
        "\n",
        "pred_price = model.predict(X_test)\n",
        "pred_price = scaler.inverse_transform(pred_price)\n",
        "print(pred_price)"
      ]
    },
    {
      "cell_type": "code",
      "execution_count": null,
      "metadata": {
        "colab": {
          "base_uri": "https://localhost:8080/"
        },
        "id": "At381F-GuH1q",
        "outputId": "f4c87f9b-c2c0-4dbb-d09b-d8b9a0e8cd5a"
      },
      "outputs": [
        {
          "output_type": "stream",
          "name": "stdout",
          "text": [
            "1/1 [==============================] - 1s 1s/step\n",
            "Prediction: [[281.55612]]\n"
          ]
        }
      ],
      "source": [
        "df_future = df.filter(['Close'])\n",
        "last_60_days = df_future[-prediction_days-2:].values\n",
        "last_60_days_scaled = scaler.transform(last_60_days)\n",
        "X_test = []\n",
        "X_test.append(last_60_days_scaled)\n",
        "X_test = np.array(X_test)\n",
        "X_test = np.reshape(X_test, (X_test.shape[0], X_test.shape[1], 1))\n",
        "\n",
        "pred_price = model.predict(X_test)\n",
        "pred_price = scaler.inverse_transform(pred_price)\n",
        "print(f'Prediction: {pred_price}')\n"
      ]
    },
    {
      "cell_type": "code",
      "execution_count": null,
      "metadata": {
        "id": "CSBUpO7BK5Fh"
      },
      "outputs": [],
      "source": [
        "# Prediction: [[283.78705]]\n"
      ]
    },
    {
      "cell_type": "markdown",
      "metadata": {
        "id": "Oc4ONsIdE4yS"
      },
      "source": [
        "--------------------\n",
        "--------------------"
      ]
    },
    {
      "cell_type": "markdown",
      "metadata": {
        "id": "G53tq__vGYdu"
      },
      "source": [
        "## Different approach"
      ]
    },
    {
      "cell_type": "code",
      "execution_count": null,
      "metadata": {
        "id": "mvrKGBtqE6GL"
      },
      "outputs": [],
      "source": [
        "test_start = datetime.datetime(2022,1,1)\n",
        "test_end = datetime.datetime.now()\n",
        "\n",
        "test_df = web.DataReader(company, 'yahoo', test_start, test_end)\n",
        "actual_prices = test_df['Close'].values\n",
        "\n",
        "total_dataset = pd.concat((df['Close'], test_df['Close']), axis=0)\n",
        "\n",
        "model_inputs = total_dataset[len(total_dataset) - len(test_df) - prediction_days:].values\n",
        "model_inputs = model_inputs.reshape(-1,1)\n",
        "model_inputs = scaler.transform(model_inputs)"
      ]
    },
    {
      "cell_type": "code",
      "execution_count": null,
      "metadata": {
        "id": "VlqkzPf8GE3j"
      },
      "outputs": [],
      "source": [
        "# Make predictions on test data"
      ]
    },
    {
      "cell_type": "code",
      "execution_count": null,
      "metadata": {
        "colab": {
          "base_uri": "https://localhost:8080/"
        },
        "id": "iqxQg4xbGcoe",
        "outputId": "5d553abc-76c8-4e89-a784-861f7328548f"
      },
      "outputs": [
        {
          "output_type": "stream",
          "name": "stdout",
          "text": [
            "8/8 [==============================] - 0s 42ms/step\n"
          ]
        }
      ],
      "source": [
        "x_test = []\n",
        "\n",
        "for i in range(prediction_days, len(model_inputs)):\n",
        "  x_test.append(model_inputs[i-prediction_days:i,0])\n",
        "\n",
        "x_test = np.array(x_test)\n",
        "x_test = np.reshape(x_test, (x_test.shape[0], x_test.shape[1], 1))\n",
        "\n",
        "predicted_prices = model.predict(x_test)\n",
        "predicted_prices = scaler.inverse_transform(predicted_prices)"
      ]
    },
    {
      "cell_type": "code",
      "execution_count": null,
      "metadata": {
        "colab": {
          "base_uri": "https://localhost:8080/",
          "height": 459
        },
        "id": "Yzg5CjTtHNTS",
        "outputId": "3660a78e-9567-4aa5-bdc2-67d1ab384166"
      },
      "outputs": [
        {
          "output_type": "execute_result",
          "data": {
            "text/plain": [
              "<matplotlib.legend.Legend at 0x7f630e8a18d0>"
            ]
          },
          "metadata": {},
          "execution_count": 80
        },
        {
          "output_type": "display_data",
          "data": {
            "text/plain": [
              "<Figure size 1008x432 with 1 Axes>"
            ],
            "image/png": "[encoded data removed]"
          },
          "metadata": {}
        }
      ],
      "source": [
        "# Plot the test pred\n",
        "plt.figure(figsize=(14,6))\n",
        "plt.plot(actual_prices, color='black', label=f'Actual {company} Price')\n",
        "plt.plot(predicted_prices, color='green', label=f'Predicted {company} Price')\n",
        "plt.title(f'{company} Share Price')\n",
        "plt.xlabel('Time')\n",
        "plt.ylabel(f'{company} Share Price in US $')\n",
        "plt.legend(loc='upper left')"
      ]
    },
    {
      "cell_type": "code",
      "execution_count": null,
      "metadata": {
        "colab": {
          "base_uri": "https://localhost:8080/"
        },
        "id": "QLCdCsV1Hy_N",
        "outputId": "0f727b16-5b5d-4bd7-ccb6-5aa8629edd54"
      },
      "outputs": [
        {
          "output_type": "stream",
          "name": "stdout",
          "text": [
            "1/1 [==============================] - 0s 48ms/step\n",
            "Prediction: [[281.6141]]\n"
          ]
        }
      ],
      "source": [
        "# Predict next day\n",
        "\n",
        "real_data = [model_inputs[len(model_inputs) + 1 - prediction_days:len(model_inputs + 1), 0]]\n",
        "real_data = np.array(real_data)\n",
        "real_data = np.reshape(real_data, (real_data.shape[0], real_data.shape[1],1))\n",
        "\n",
        "# print(scaler.inverse_transform(real_data[-1]))\n",
        "\n",
        "prediction = model.predict(real_data)\n",
        "prediction = scaler.inverse_transform(prediction)\n",
        "print(f'Prediction: {prediction}')\n"
      ]
    },
    {
      "cell_type": "code",
      "source": [],
      "metadata": {
        "id": "o4Cy915ltlp4"
      },
      "execution_count": null,
      "outputs": []
    },
    {
      "cell_type": "markdown",
      "source": [
        "Different approach w/ avg of highest and lowest price\n",
        "\n"
      ],
      "metadata": {
        "id": "WYAoRIqzCISC"
      }
    },
    {
      "cell_type": "code",
      "source": [
        "# First calculate the mid prices from the highest and lowest\n",
        "high_prices = df.loc[:,'High'].as_matrix()\n",
        "low_prices = df.loc[:,'Low'].as_matrix()\n",
        "mid_prices = (high_prices+low_prices)/2.0"
      ],
      "metadata": {
        "id": "xRBHgoz4CO3p"
      },
      "execution_count": null,
      "outputs": []
    },
    {
      "cell_type": "code",
      "source": [
        "train_data = mid_prices[:11000]\n",
        "test_data = mid_prices[11000:]"
      ],
      "metadata": {
        "id": "s44s2SW9CXOz"
      },
      "execution_count": null,
      "outputs": []
    },
    {
      "cell_type": "code",
      "source": [
        "scaler = MinMaxScaler()\n",
        "train_data = train_data.reshape(-1,1)\n",
        "test_data = test_data.reshape(-1,1)"
      ],
      "metadata": {
        "id": "-aTmbMEECXE6"
      },
      "execution_count": null,
      "outputs": []
    },
    {
      "cell_type": "code",
      "source": [
        "# Train the Scaler with training data and smooth data\n",
        "smoothing_window_size = 2500\n",
        "for di in range(0,10000,smoothing_window_size):\n",
        "    scaler.fit(train_data[di:di+smoothing_window_size,:])\n",
        "    train_data[di:di+smoothing_window_size,:] = scaler.transform(train_data[di:di+smoothing_window_size,:])\n",
        "\n",
        "# You normalize the last bit of remaining data\n",
        "scaler.fit(train_data[di+smoothing_window_size:,:])\n",
        "train_data[di+smoothing_window_size:,:] = scaler.transform(train_data[di+smoothing_window_size:,:])"
      ],
      "metadata": {
        "id": "qwgjHgdlCW9o"
      },
      "execution_count": null,
      "outputs": []
    },
    {
      "cell_type": "code",
      "source": [
        "train_data = train_data.reshape(-1)\n",
        "\n",
        "# Normalize test data\n",
        "test_data = scaler.transform(test_data).reshape(-1)"
      ],
      "metadata": {
        "id": "rexOhbRnCW6O"
      },
      "execution_count": null,
      "outputs": []
    },
    {
      "cell_type": "code",
      "source": [
        "EMA = 0.0\n",
        "gamma = 0.1\n",
        "for ti in range(11000):\n",
        "  EMA = gamma*train_data[ti] + (1-gamma)*EMA\n",
        "  train_data[ti] = EMA\n",
        "\n",
        "# Used for visualization and test purposes\n",
        "all_mid_data = np.concatenate([train_data,test_data],axis=0)"
      ],
      "metadata": {
        "id": "XEQQdggxDqyu"
      },
      "execution_count": null,
      "outputs": []
    },
    {
      "cell_type": "code",
      "source": [
        "window_size = 100\n",
        "N = train_data.size\n",
        "std_avg_predictions = []\n",
        "std_avg_x = []\n",
        "mse_errors = []\n",
        "\n",
        "for pred_idx in range(window_size,N):\n",
        "\n",
        "    if pred_idx >= N:\n",
        "        date = dt.datetime.strptime(k, '%Y-%m-%d').date() + dt.timedelta(days=1)\n",
        "    else:\n",
        "        date = df.loc[pred_idx,'Date']\n",
        "\n",
        "    std_avg_predictions.append(np.mean(train_data[pred_idx-window_size:pred_idx]))\n",
        "    mse_errors.append((std_avg_predictions[-1]-train_data[pred_idx])**2)\n",
        "    std_avg_x.append(date)\n",
        "\n",
        "print('MSE error for standard averaging: %.5f'%(0.5*np.mean(mse_errors)))"
      ],
      "metadata": {
        "id": "EEbRS9UjDquE"
      },
      "execution_count": null,
      "outputs": []
    },
    {
      "cell_type": "code",
      "source": [
        "plt.figure(figsize = (18,9))\n",
        "plt.plot(range(df.shape[0]),all_mid_data,color='b',label='True')\n",
        "plt.plot(range(window_size,N),std_avg_predictions,color='orange',label='Prediction')\n",
        "#plt.xticks(range(0,df.shape[0],50),df['Date'].loc[::50],rotation=45)\n",
        "plt.xlabel('Date')\n",
        "plt.ylabel('Mid Price')\n",
        "plt.legend(fontsize=18)\n",
        "plt.show()"
      ],
      "metadata": {
        "id": "ry5iU0cwDqlM"
      },
      "execution_count": null,
      "outputs": []
    },
    {
      "cell_type": "code",
      "source": [
        "window_size = 100\n",
        "N = train_data.size\n",
        "\n",
        "run_avg_predictions = []\n",
        "run_avg_x = []\n",
        "\n",
        "mse_errors = []\n",
        "\n",
        "running_mean = 0.0\n",
        "run_avg_predictions.append(running_mean)\n",
        "\n",
        "decay = 0.5\n",
        "\n",
        "for pred_idx in range(1,N):\n",
        "\n",
        "    running_mean = running_mean*decay + (1.0-decay)*train_data[pred_idx-1]\n",
        "    run_avg_predictions.append(running_mean)\n",
        "    mse_errors.append((run_avg_predictions[-1]-train_data[pred_idx])**2)\n",
        "    run_avg_x.append(date)\n",
        "\n",
        "print('MSE error for EMA averaging: %.5f'%(0.5*np.mean(mse_errors)))\n"
      ],
      "metadata": {
        "id": "HTocROMwD-G6"
      },
      "execution_count": null,
      "outputs": []
    },
    {
      "cell_type": "code",
      "source": [
        "\n",
        "plt.figure(figsize = (18,9))\n",
        "plt.plot(range(df.shape[0]),all_mid_data,color='b',label='True')\n",
        "plt.plot(range(0,N),run_avg_predictions,color='orange', label='Prediction')\n",
        "#plt.xticks(range(0,df.shape[0],50),df['Date'].loc[::50],rotation=45)\n",
        "plt.xlabel('Date')\n",
        "plt.ylabel('Mid Price')\n",
        "plt.legend(fontsize=18)\n",
        "plt.show()\n"
      ],
      "metadata": {
        "id": "gOE6qzUTD-D2"
      },
      "execution_count": null,
      "outputs": []
    },
    {
      "cell_type": "code",
      "source": [],
      "metadata": {
        "id": "wG-flMAiD9_8"
      },
      "execution_count": null,
      "outputs": []
    },
    {
      "cell_type": "code",
      "source": [],
      "metadata": {
        "id": "L2CGBrk0D95I"
      },
      "execution_count": null,
      "outputs": []
    }
  ],
  "metadata": {
    "colab": {
      "provenance": []
    },
    "kernelspec": {
      "display_name": "Python 3.9 (tensorflow)",
      "language": "python",
      "name": "tensorflow"
    },
    "language_info": {
      "codemirror_mode": {
        "name": "ipython",
        "version": 3
      },
      "file_extension": ".py",
      "mimetype": "text/x-python",
      "name": "python",
      "nbconvert_exporter": "python",
      "pygments_lexer": "ipython3",
      "version": "3.9.7"
    },
    "vscode": {
      "interpreter": {
        "hash": "3d1c3d4a7f8058a677e0e869aeedd37e6b716847110188d754d93c56bb0e75db"
      }
    }
  },
  "nbformat": 4,
  "nbformat_minor": 0
}