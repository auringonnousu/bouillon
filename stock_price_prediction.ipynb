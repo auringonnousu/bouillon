{
  "cells": [
    {
      "cell_type": "markdown",
      "metadata": {
        "id": "3eiGBNhJF-6k"
      },
      "source": [
        "Correlation Table for S&P 500?"
      ]
    },
    {
      "cell_type": "markdown",
      "metadata": {
        "id": "hHfO_vwvuH1a"
      },
      "source": [
        "## Stock Price prediction based on the usage of RNN | LSTM\n",
        "\n",
        "Predicting the close stock price"
      ]
    },
    {
      "cell_type": "code",
      "execution_count": 1,
      "metadata": {
        "colab": {
          "base_uri": "https://localhost:8080/"
        },
        "id": "OMSNt3q3CJCT",
        "outputId": "9ebef15e-0f38-4368-9a0d-d5ea6fff3849"
      },
      "outputs": [],
      "source": [
        "#!python3.9 -m pip install --upgrade mplfinance\n",
        "#!python3.9 -m pip --upgrade pandas\n",
        "# !python3.9 -m pip install pandas-datareader --upgrade\n",
        "# !python3.9 -m pip install yfinance"
      ]
    },
    {
      "cell_type": "code",
      "execution_count": 2,
      "metadata": {
        "id": "-_46lbpbuH1e"
      },
      "outputs": [
        {
          "name": "stderr",
          "output_type": "stream",
          "text": [
            "2023-02-08 11:47:51.047988: I tensorflow/core/platform/cpu_feature_guard.cc:193] This TensorFlow binary is optimized with oneAPI Deep Neural Network Library (oneDNN) to use the following CPU instructions in performance-critical operations:  AVX2 FMA\n",
            "To enable them in other operations, rebuild TensorFlow with the appropriate compiler flags.\n"
          ]
        }
      ],
      "source": [
        "import math\n",
        "import pandas_datareader.data as web\n",
        "import numpy as np\n",
        "import pandas as pd\n",
        "import datetime\n",
        "from sklearn.preprocessing import MinMaxScaler\n",
        "from keras.models import Sequential\n",
        "from keras.layers import Dense, LSTM\n",
        "import matplotlib.pyplot as plt\n",
        "# from mplfinance import candlestick_ohlc\n",
        "from mplfinance.original_flavor import candlestick_ohlc\n",
        "import matplotlib.dates as mdates\n",
        "plt.style.use('fivethirtyeight')\n"
      ]
    },
    {
      "cell_type": "markdown",
      "metadata": {
        "id": "0ndLW9REuH1g"
      },
      "source": [
        "Fill in the stock you want to crawl:"
      ]
    },
    {
      "cell_type": "code",
      "execution_count": 3,
      "metadata": {
        "id": "l1ZOjYV-A628"
      },
      "outputs": [],
      "source": [
        "company = 'QQQ'\n",
        "provider = 'yahoo'"
      ]
    },
    {
      "cell_type": "code",
      "execution_count": 4,
      "metadata": {
        "id": "rvyzB2eHuH1h"
      },
      "outputs": [],
      "source": [
        "# Get stock quote\n",
        "#start = datetime.datetime(2018-3-1) # Change Date if needed\n",
        "start = datetime.datetime(2018, 1, 1) # Change Date if needed\n",
        "\n",
        "end = datetime.datetime.now()\n",
        "#df = web.DataReader(company, provider, start, end)"
      ]
    },
    {
      "cell_type": "code",
      "execution_count": 5,
      "metadata": {},
      "outputs": [],
      "source": [
        "from pandas_datareader import data as pdr\n",
        "import yfinance as yfin"
      ]
    },
    {
      "cell_type": "code",
      "execution_count": 6,
      "metadata": {
        "id": "5l2g-KMyWmzG"
      },
      "outputs": [
        {
          "name": "stdout",
          "output_type": "stream",
          "text": [
            "[*********************100%***********************]  1 of 1 completed\n"
          ]
        }
      ],
      "source": [
        "# df = web.DataReader(company, provider, start, end)\n",
        "\n",
        "yfin.pdr_override()\n",
        "\n",
        "df = pdr.get_data_yahoo(company, start, end)"
      ]
    },
    {
      "cell_type": "code",
      "execution_count": 7,
      "metadata": {
        "colab": {
          "base_uri": "https://localhost:8080/",
          "height": 53
        },
        "id": "qxMBNpIZBPcT",
        "outputId": "ec9494ee-4b91-4a6f-9658-1520a1e83711"
      },
      "outputs": [
        {
          "data": {
            "text/plain": [
              "\"plt.figure(figsize = (18,9))\\nplt.plot(range(df.shape[0]),(df['Low']+df['High'])/2.0)\\nplt.xticks(range(0,df.shape[0],500),df['Date'].loc[::500],rotation=45)\\nplt.xlabel('Date',fontsize=18)\\nplt.ylabel('Mid Price',fontsize=18)\\nplt.show()\""
            ]
          },
          "execution_count": 7,
          "metadata": {},
          "output_type": "execute_result"
        }
      ],
      "source": [
        "'''plt.figure(figsize = (18,9))\n",
        "plt.plot(range(df.shape[0]),(df['Low']+df['High'])/2.0)\n",
        "plt.xticks(range(0,df.shape[0],500),df['Date'].loc[::500],rotation=45)\n",
        "plt.xlabel('Date',fontsize=18)\n",
        "plt.ylabel('Mid Price',fontsize=18)\n",
        "plt.show()'''"
      ]
    },
    {
      "cell_type": "code",
      "execution_count": 8,
      "metadata": {
        "id": "Qn-RuNBwuH1h"
      },
      "outputs": [
        {
          "data": {
            "text/plain": [
              "\"plt.figure(figsize=(12,6))\\nplt.title('Close Price Hist',fontsize=11)\\nplt.plot(df['Adj Close'])\\nplt.xlabel('Date', fontsize=11)\\nplt.ylabel('Close Price US $', fontsize=11)\""
            ]
          },
          "execution_count": 8,
          "metadata": {},
          "output_type": "execute_result"
        }
      ],
      "source": [
        "# Look at closing price for every day of this year\n",
        "'''plt.figure(figsize=(12,6))\n",
        "plt.title('Close Price Hist',fontsize=11)\n",
        "plt.plot(df['Adj Close'])\n",
        "plt.xlabel('Date', fontsize=11)\n",
        "plt.ylabel('Close Price US $', fontsize=11)'''"
      ]
    },
    {
      "cell_type": "code",
      "execution_count": 9,
      "metadata": {
        "colab": {
          "base_uri": "https://localhost:8080/"
        },
        "id": "oCO5b8mmuH1i",
        "outputId": "b6d7c38a-41e6-4b86-94b1-bbe0383c4b58"
      },
      "outputs": [
        {
          "data": {
            "text/plain": [
              "(1284, 6)"
            ]
          },
          "execution_count": 9,
          "metadata": {},
          "output_type": "execute_result"
        }
      ],
      "source": [
        "df.shape"
      ]
    },
    {
      "cell_type": "code",
      "execution_count": 10,
      "metadata": {
        "id": "0EuFq0bm7Jlw"
      },
      "outputs": [],
      "source": [
        "df['70ma'] = df['Adj Close'].rolling(window=70).mean()\n",
        "df['20ma'] = df['Adj Close'].rolling(window=20).mean()\n",
        "df.dropna(inplace=True)"
      ]
    },
    {
      "cell_type": "code",
      "execution_count": 11,
      "metadata": {
        "colab": {
          "base_uri": "https://localhost:8080/",
          "height": 238
        },
        "id": "BUX_a3P97-8H",
        "outputId": "9b0f660b-d48b-4675-dc1a-e541a089f97c"
      },
      "outputs": [
        {
          "data": {
            "text/html": [
              "<div>\n",
              "<style scoped>\n",
              "    .dataframe tbody tr th:only-of-type {\n",
              "        vertical-align: middle;\n",
              "    }\n",
              "\n",
              "    .dataframe tbody tr th {\n",
              "        vertical-align: top;\n",
              "    }\n",
              "\n",
              "    .dataframe thead th {\n",
              "        text-align: right;\n",
              "    }\n",
              "</style>\n",
              "<table border=\"1\" class=\"dataframe\">\n",
              "  <thead>\n",
              "    <tr style=\"text-align: right;\">\n",
              "      <th></th>\n",
              "      <th>Open</th>\n",
              "      <th>High</th>\n",
              "      <th>Low</th>\n",
              "      <th>Close</th>\n",
              "      <th>Adj Close</th>\n",
              "      <th>Volume</th>\n",
              "      <th>70ma</th>\n",
              "      <th>20ma</th>\n",
              "    </tr>\n",
              "    <tr>\n",
              "      <th>Date</th>\n",
              "      <th></th>\n",
              "      <th></th>\n",
              "      <th></th>\n",
              "      <th></th>\n",
              "      <th></th>\n",
              "      <th></th>\n",
              "      <th></th>\n",
              "      <th></th>\n",
              "    </tr>\n",
              "  </thead>\n",
              "  <tbody>\n",
              "    <tr>\n",
              "      <th>2023-02-01</th>\n",
              "      <td>294.410004</td>\n",
              "      <td>303.429993</td>\n",
              "      <td>292.299988</td>\n",
              "      <td>300.920013</td>\n",
              "      <td>300.920013</td>\n",
              "      <td>67562200</td>\n",
              "      <td>278.641152</td>\n",
              "      <td>281.738997</td>\n",
              "    </tr>\n",
              "    <tr>\n",
              "      <th>2023-02-02</th>\n",
              "      <td>307.570007</td>\n",
              "      <td>313.679993</td>\n",
              "      <td>306.730011</td>\n",
              "      <td>311.720001</td>\n",
              "      <td>311.720001</td>\n",
              "      <td>83070600</td>\n",
              "      <td>279.169121</td>\n",
              "      <td>284.037997</td>\n",
              "    </tr>\n",
              "    <tr>\n",
              "      <th>2023-02-03</th>\n",
              "      <td>304.940002</td>\n",
              "      <td>312.390015</td>\n",
              "      <td>304.540009</td>\n",
              "      <td>306.179993</td>\n",
              "      <td>306.179993</td>\n",
              "      <td>76110300</td>\n",
              "      <td>279.574764</td>\n",
              "      <td>286.267998</td>\n",
              "    </tr>\n",
              "    <tr>\n",
              "      <th>2023-02-06</th>\n",
              "      <td>303.510010</td>\n",
              "      <td>305.910004</td>\n",
              "      <td>302.220001</td>\n",
              "      <td>303.589996</td>\n",
              "      <td>303.589996</td>\n",
              "      <td>40802300</td>\n",
              "      <td>279.861318</td>\n",
              "      <td>288.007498</td>\n",
              "    </tr>\n",
              "    <tr>\n",
              "      <th>2023-02-07</th>\n",
              "      <td>303.459991</td>\n",
              "      <td>311.029999</td>\n",
              "      <td>302.320007</td>\n",
              "      <td>309.880005</td>\n",
              "      <td>309.880005</td>\n",
              "      <td>67415100</td>\n",
              "      <td>280.327230</td>\n",
              "      <td>289.974498</td>\n",
              "    </tr>\n",
              "  </tbody>\n",
              "</table>\n",
              "</div>"
            ],
            "text/plain": [
              "                  Open        High         Low       Close   Adj Close  \\\n",
              "Date                                                                     \n",
              "2023-02-01  294.410004  303.429993  292.299988  300.920013  300.920013   \n",
              "2023-02-02  307.570007  313.679993  306.730011  311.720001  311.720001   \n",
              "2023-02-03  304.940002  312.390015  304.540009  306.179993  306.179993   \n",
              "2023-02-06  303.510010  305.910004  302.220001  303.589996  303.589996   \n",
              "2023-02-07  303.459991  311.029999  302.320007  309.880005  309.880005   \n",
              "\n",
              "              Volume        70ma        20ma  \n",
              "Date                                          \n",
              "2023-02-01  67562200  278.641152  281.738997  \n",
              "2023-02-02  83070600  279.169121  284.037997  \n",
              "2023-02-03  76110300  279.574764  286.267998  \n",
              "2023-02-06  40802300  279.861318  288.007498  \n",
              "2023-02-07  67415100  280.327230  289.974498  "
            ]
          },
          "execution_count": 11,
          "metadata": {},
          "output_type": "execute_result"
        }
      ],
      "source": [
        "df.tail()"
      ]
    },
    {
      "cell_type": "code",
      "execution_count": 12,
      "metadata": {
        "id": "DDFGUz7N-6d9"
      },
      "outputs": [],
      "source": [
        "# df_small = df.tail(100)"
      ]
    },
    {
      "cell_type": "code",
      "execution_count": 13,
      "metadata": {
        "colab": {
          "base_uri": "https://localhost:8080/",
          "height": 71
        },
        "id": "uQ7vXYYe830u",
        "outputId": "78a46937-7ada-49f9-bd8f-f1df2847ac85"
      },
      "outputs": [
        {
          "data": {
            "text/plain": [
              "\"ax1 = plt.subplot2grid((6,1), (0,0), rowspan = 5, colspan = 1)\\nax2 = plt.subplot2grid((6,1), (5,0), rowspan = 1, colspan = 1, sharex=ax1)\\n#ax1.ticklabel_format(useOffset=False)\\nax1.ticklabel_format(style='plain')\\n\\n\\nax1.plot(df_small.index, df_small['Adj Close'])\\nax1.plot(df_small.index, df_small['70ma'])\\n#ax1.plot(df.index, df_small['20ma'])\\nax1.plot(df_small.index, df_small['Volume'])\\n\\nplt.show\""
            ]
          },
          "execution_count": 13,
          "metadata": {},
          "output_type": "execute_result"
        }
      ],
      "source": [
        "\n",
        "'''ax1 = plt.subplot2grid((6,1), (0,0), rowspan = 5, colspan = 1)\n",
        "ax2 = plt.subplot2grid((6,1), (5,0), rowspan = 1, colspan = 1, sharex=ax1)\n",
        "#ax1.ticklabel_format(useOffset=False)\n",
        "ax1.ticklabel_format(style='plain')\n",
        "\n",
        "\n",
        "ax1.plot(df_small.index, df_small['Adj Close'])\n",
        "ax1.plot(df_small.index, df_small['70ma'])\n",
        "#ax1.plot(df.index, df_small['20ma'])\n",
        "ax1.plot(df_small.index, df_small['Volume'])\n",
        "\n",
        "plt.show'''"
      ]
    },
    {
      "cell_type": "code",
      "execution_count": 14,
      "metadata": {
        "id": "Wk-HxNrfAmkd"
      },
      "outputs": [],
      "source": [
        "df_ohlc = df['Adj Close'].resample('10D').ohlc() # open high low close\n",
        "df_ohlc.dropna(inplace=True)\n",
        "df_vol = df['Volume'].resample('10D').sum()"
      ]
    },
    {
      "cell_type": "code",
      "execution_count": 15,
      "metadata": {
        "colab": {
          "base_uri": "https://localhost:8080/",
          "height": 238
        },
        "id": "24QqRSEcBAto",
        "outputId": "ef92d5f2-58e4-4c78-8e23-6e5ffee1495a"
      },
      "outputs": [
        {
          "data": {
            "text/html": [
              "<div>\n",
              "<style scoped>\n",
              "    .dataframe tbody tr th:only-of-type {\n",
              "        vertical-align: middle;\n",
              "    }\n",
              "\n",
              "    .dataframe tbody tr th {\n",
              "        vertical-align: top;\n",
              "    }\n",
              "\n",
              "    .dataframe thead th {\n",
              "        text-align: right;\n",
              "    }\n",
              "</style>\n",
              "<table border=\"1\" class=\"dataframe\">\n",
              "  <thead>\n",
              "    <tr style=\"text-align: right;\">\n",
              "      <th></th>\n",
              "      <th>open</th>\n",
              "      <th>high</th>\n",
              "      <th>low</th>\n",
              "      <th>close</th>\n",
              "    </tr>\n",
              "    <tr>\n",
              "      <th>Date</th>\n",
              "      <th></th>\n",
              "      <th></th>\n",
              "      <th></th>\n",
              "      <th></th>\n",
              "    </tr>\n",
              "  </thead>\n",
              "  <tbody>\n",
              "    <tr>\n",
              "      <th>2022-12-27</th>\n",
              "      <td>263.579987</td>\n",
              "      <td>266.440002</td>\n",
              "      <td>260.100006</td>\n",
              "      <td>261.579987</td>\n",
              "    </tr>\n",
              "    <tr>\n",
              "      <th>2023-01-06</th>\n",
              "      <td>268.799988</td>\n",
              "      <td>280.970001</td>\n",
              "      <td>268.799988</td>\n",
              "      <td>280.970001</td>\n",
              "    </tr>\n",
              "    <tr>\n",
              "      <th>2023-01-16</th>\n",
              "      <td>281.540009</td>\n",
              "      <td>288.959991</td>\n",
              "      <td>275.149994</td>\n",
              "      <td>287.730011</td>\n",
              "    </tr>\n",
              "    <tr>\n",
              "      <th>2023-01-26</th>\n",
              "      <td>293.339996</td>\n",
              "      <td>311.720001</td>\n",
              "      <td>290.269989</td>\n",
              "      <td>306.179993</td>\n",
              "    </tr>\n",
              "    <tr>\n",
              "      <th>2023-02-05</th>\n",
              "      <td>303.589996</td>\n",
              "      <td>309.880005</td>\n",
              "      <td>303.589996</td>\n",
              "      <td>309.880005</td>\n",
              "    </tr>\n",
              "  </tbody>\n",
              "</table>\n",
              "</div>"
            ],
            "text/plain": [
              "                  open        high         low       close\n",
              "Date                                                      \n",
              "2022-12-27  263.579987  266.440002  260.100006  261.579987\n",
              "2023-01-06  268.799988  280.970001  268.799988  280.970001\n",
              "2023-01-16  281.540009  288.959991  275.149994  287.730011\n",
              "2023-01-26  293.339996  311.720001  290.269989  306.179993\n",
              "2023-02-05  303.589996  309.880005  303.589996  309.880005"
            ]
          },
          "execution_count": 15,
          "metadata": {},
          "output_type": "execute_result"
        }
      ],
      "source": [
        "df_ohlc.tail(5)"
      ]
    },
    {
      "cell_type": "code",
      "execution_count": 16,
      "metadata": {
        "id": "4RlzYmTJBv48"
      },
      "outputs": [],
      "source": [
        "df_ohlc.reset_index(inplace=True)"
      ]
    },
    {
      "cell_type": "code",
      "execution_count": 17,
      "metadata": {
        "id": "fmdNUg_gDL3Y"
      },
      "outputs": [],
      "source": [
        "df_ohlc['Date'] = df_ohlc['Date'].map(mdates.date2num)"
      ]
    },
    {
      "cell_type": "code",
      "execution_count": 18,
      "metadata": {
        "colab": {
          "base_uri": "https://localhost:8080/",
          "height": 300
        },
        "id": "39eNstMFDeez",
        "outputId": "a9b5632c-0b7e-4490-c3fd-1ead2374f92f"
      },
      "outputs": [
        {
          "data": {
            "text/plain": [
              "<matplotlib.collections.PolyCollection at 0x155172e50>"
            ]
          },
          "execution_count": 18,
          "metadata": {},
          "output_type": "execute_result"
        },
        {
          "data": {
            "image/png": "[encoded data removed]",
            "text/plain": [
              "<Figure size 432x288 with 2 Axes>"
            ]
          },
          "metadata": {
            "needs_background": "light"
          },
          "output_type": "display_data"
        }
      ],
      "source": [
        "ax1 = plt.subplot2grid((6,1), (0,0), rowspan = 5, colspan = 1)\n",
        "ax2 = plt.subplot2grid((6,1), (5,0), rowspan = 1, colspan = 1, sharex=ax1)\n",
        "ax2.ticklabel_format(style='plain')\n",
        "\n",
        "ax1.xaxis_date()\n",
        "candlestick_ohlc(ax1, df_ohlc.values, width=2, colorup='g')\n",
        "ax2.fill_between(df_vol.index.map(mdates.date2num), df_vol.values,0)"
      ]
    },
    {
      "cell_type": "markdown",
      "metadata": {
        "id": "xGQJ5s84uH1i"
      },
      "source": [
        "## Train the model"
      ]
    },
    {
      "cell_type": "code",
      "execution_count": 19,
      "metadata": {
        "colab": {
          "base_uri": "https://localhost:8080/",
          "height": 143
        },
        "id": "13-itlr891gX",
        "outputId": "906a6292-5229-4ac6-dd7e-ba2008ded234"
      },
      "outputs": [
        {
          "data": {
            "text/html": [
              "<div>\n",
              "<style scoped>\n",
              "    .dataframe tbody tr th:only-of-type {\n",
              "        vertical-align: middle;\n",
              "    }\n",
              "\n",
              "    .dataframe tbody tr th {\n",
              "        vertical-align: top;\n",
              "    }\n",
              "\n",
              "    .dataframe thead th {\n",
              "        text-align: right;\n",
              "    }\n",
              "</style>\n",
              "<table border=\"1\" class=\"dataframe\">\n",
              "  <thead>\n",
              "    <tr style=\"text-align: right;\">\n",
              "      <th></th>\n",
              "      <th>Open</th>\n",
              "      <th>High</th>\n",
              "      <th>Low</th>\n",
              "      <th>Close</th>\n",
              "      <th>Adj Close</th>\n",
              "      <th>Volume</th>\n",
              "      <th>70ma</th>\n",
              "      <th>20ma</th>\n",
              "    </tr>\n",
              "    <tr>\n",
              "      <th>Date</th>\n",
              "      <th></th>\n",
              "      <th></th>\n",
              "      <th></th>\n",
              "      <th></th>\n",
              "      <th></th>\n",
              "      <th></th>\n",
              "      <th></th>\n",
              "      <th></th>\n",
              "    </tr>\n",
              "  </thead>\n",
              "  <tbody>\n",
              "    <tr>\n",
              "      <th>2018-04-12</th>\n",
              "      <td>161.250000</td>\n",
              "      <td>162.770004</td>\n",
              "      <td>161.160004</td>\n",
              "      <td>162.210007</td>\n",
              "      <td>156.971771</td>\n",
              "      <td>30467900</td>\n",
              "      <td>158.909501</td>\n",
              "      <td>156.626057</td>\n",
              "    </tr>\n",
              "    <tr>\n",
              "      <th>2018-04-13</th>\n",
              "      <td>163.020004</td>\n",
              "      <td>163.259995</td>\n",
              "      <td>160.669998</td>\n",
              "      <td>161.369995</td>\n",
              "      <td>156.158859</td>\n",
              "      <td>44604900</td>\n",
              "      <td>158.952864</td>\n",
              "      <td>156.147903</td>\n",
              "    </tr>\n",
              "  </tbody>\n",
              "</table>\n",
              "</div>"
            ],
            "text/plain": [
              "                  Open        High         Low       Close   Adj Close  \\\n",
              "Date                                                                     \n",
              "2018-04-12  161.250000  162.770004  161.160004  162.210007  156.971771   \n",
              "2018-04-13  163.020004  163.259995  160.669998  161.369995  156.158859   \n",
              "\n",
              "              Volume        70ma        20ma  \n",
              "Date                                          \n",
              "2018-04-12  30467900  158.909501  156.626057  \n",
              "2018-04-13  44604900  158.952864  156.147903  "
            ]
          },
          "execution_count": 19,
          "metadata": {},
          "output_type": "execute_result"
        }
      ],
      "source": [
        "df.head(2)"
      ]
    },
    {
      "cell_type": "code",
      "execution_count": 20,
      "metadata": {
        "colab": {
          "base_uri": "https://localhost:8080/"
        },
        "id": "W3wiAi6huH1j",
        "outputId": "855a2bcb-3f22-40f4-df96-29265b92a096"
      },
      "outputs": [
        {
          "data": {
            "text/plain": [
              "972"
            ]
          },
          "execution_count": 20,
          "metadata": {},
          "output_type": "execute_result"
        }
      ],
      "source": [
        "# Create new df w/ \"Close\" col\n",
        "\n",
        "df2 = df.filter(['Close'])\n",
        "# convert to numpy array\n",
        "dataset = df2.values\n",
        "\n",
        "# Get no of rows to train the (LSTM) model on\n",
        "# train it on 80 % of the data \n",
        "training_data_len = math.ceil(len(dataset) * .8)  # math.ceil -> rounding\n",
        "training_data_len"
      ]
    },
    {
      "cell_type": "code",
      "execution_count": 21,
      "metadata": {
        "id": "Y2JEs57kuH1j"
      },
      "outputs": [],
      "source": [
        "# Scale the data (scaling or normalization helps the model)\n",
        "\n",
        "scaler = MinMaxScaler(feature_range=(0,1))  # values / features ranges 0-1 inclusive\n",
        "\n",
        "# Transformed data\n",
        "scaled_data = scaler.fit_transform(dataset.reshape(-1,1))\n",
        "# scaled_data"
      ]
    },
    {
      "cell_type": "code",
      "execution_count": 22,
      "metadata": {
        "id": "Yh3vaiwsuH1k"
      },
      "outputs": [],
      "source": [
        "# Create the training data set\n",
        "# Create scaled training data set\n",
        "# train_data = scaled_data[0:training_data_len, :]\n",
        "\n",
        "# Split data into x_train & y_train data set\n",
        "#reate empty lists\n",
        "x_train = [] # independent variables / features\n",
        "y_train = [] # dependent / target variable\n",
        "\n",
        "prediction_days = 180 # 60 days, modify as needed\n",
        "\n",
        "for i in range(prediction_days, len(scaled_data)):  \n",
        "    x_train.append(scaled_data[i - prediction_days:i, 0]) # never reaches i, not including i\n",
        "    y_train.append(scaled_data[i, 0])\n",
        "    # if i  <= 60:\n",
        "        #print(x_train)\n",
        "        #print()\n",
        "        #print(y_train)\n",
        "        #print()"
      ]
    },
    {
      "cell_type": "code",
      "execution_count": 23,
      "metadata": {
        "id": "auWYVTmKuH1l"
      },
      "outputs": [],
      "source": [
        "# Convert x_train & y_train to numpy arrays\n",
        "x_train, y_train = np.array(x_train), np.array(y_train)"
      ]
    },
    {
      "cell_type": "code",
      "execution_count": 24,
      "metadata": {
        "colab": {
          "base_uri": "https://localhost:8080/"
        },
        "id": "P3XlEH5cuH1l",
        "outputId": "a88e8220-acbb-482f-cf88-0e3c569f0e81"
      },
      "outputs": [
        {
          "data": {
            "text/plain": [
              "(1035, 180)"
            ]
          },
          "execution_count": 24,
          "metadata": {},
          "output_type": "execute_result"
        }
      ],
      "source": [
        "x_train.shape"
      ]
    },
    {
      "cell_type": "code",
      "execution_count": 25,
      "metadata": {
        "id": "vPut2MoEuH1l"
      },
      "outputs": [],
      "source": [
        "# Reshape data, LSTM expects input to be 3-dimensional\n",
        "# x_train = np.shape(x_train, (943, 60, 1))\n",
        "x_train = np.reshape(x_train, (x_train.shape[0], x_train.shape[1], 1))\n",
        "\n"
      ]
    },
    {
      "cell_type": "code",
      "execution_count": 26,
      "metadata": {
        "id": "vNzTPj6buH1m"
      },
      "outputs": [
        {
          "name": "stderr",
          "output_type": "stream",
          "text": [
            "2023-02-08 11:48:16.602373: I tensorflow/core/platform/cpu_feature_guard.cc:193] This TensorFlow binary is optimized with oneAPI Deep Neural Network Library (oneDNN) to use the following CPU instructions in performance-critical operations:  AVX2 FMA\n",
            "To enable them in other operations, rebuild TensorFlow with the appropriate compiler flags.\n"
          ]
        }
      ],
      "source": [
        "# Build LSTM model\n",
        "# This will be the model architecture\n",
        "from keras.layers import Dropout\n",
        "\n",
        "\n",
        "model = Sequential()\n",
        "model.add(LSTM(20, return_sequences=True, input_shape=(x_train.shape[1], 1)))\n",
        "#model.add(Dropout(.2))\n",
        "model.add(LSTM(20, return_sequences=True))\n",
        "#model.add(Dropout(.2))\n",
        "model.add(LSTM(20, return_sequences=False))\n",
        "#model.add(Dense(25))\n",
        "model.add(Dense(1))\n",
        "\n",
        "# the number of hidden units should be in-between the number of input units and output classes"
      ]
    },
    {
      "cell_type": "code",
      "execution_count": 27,
      "metadata": {
        "colab": {
          "base_uri": "https://localhost:8080/",
          "height": 53
        },
        "id": "Z0eg41VQuH1m",
        "outputId": "59e9bb35-d43c-4a84-b1d2-c7a9a218d680"
      },
      "outputs": [
        {
          "data": {
            "text/plain": [
              "'# Build LSTM model\\n# This will be the model architecture\\nmodel = Sequential()\\nmodel.add(LSTM(50, return_sequences=True, input_shape=(x_train.shape[1], 1)))\\nmodel.add(LSTM(50, return_sequences=False))\\nmodel.add(Dense(25))\\nmodel.add(Dense(1))'"
            ]
          },
          "execution_count": 27,
          "metadata": {},
          "output_type": "execute_result"
        }
      ],
      "source": [
        "'''# Build LSTM model\n",
        "# This will be the model architecture\n",
        "model = Sequential()\n",
        "model.add(LSTM(50, return_sequences=True, input_shape=(x_train.shape[1], 1)))\n",
        "model.add(LSTM(50, return_sequences=False))\n",
        "model.add(Dense(25))\n",
        "model.add(Dense(1))'''"
      ]
    },
    {
      "cell_type": "code",
      "execution_count": 28,
      "metadata": {
        "id": "Aa1LkA5-TNY_"
      },
      "outputs": [],
      "source": [
        "# cat boost -> https://catboost.ai/en/docs/concepts/parameter-tuning"
      ]
    },
    {
      "cell_type": "code",
      "execution_count": 29,
      "metadata": {
        "id": "S5TWITnKuH1n"
      },
      "outputs": [],
      "source": [
        "# Compile model\n",
        "model.compile(optimizer='adam', loss='mean_squared_error', metrics=['accuracy'])"
      ]
    },
    {
      "cell_type": "code",
      "execution_count": 30,
      "metadata": {
        "colab": {
          "base_uri": "https://localhost:8080/"
        },
        "id": "ghGrZFsyuH1n",
        "outputId": "ac8a51ab-a50d-4f3c-c9cd-d90c39d14d6f"
      },
      "outputs": [
        {
          "name": "stdout",
          "output_type": "stream",
          "text": [
            "Epoch 1/10\n",
            "207/207 [==============================] - 42s 163ms/step - loss: 0.0155 - accuracy: 9.6618e-04\n",
            "Epoch 2/10\n",
            "207/207 [==============================] - 28s 137ms/step - loss: 0.0027 - accuracy: 9.6618e-04\n",
            "Epoch 3/10\n",
            "207/207 [==============================] - 34s 166ms/step - loss: 0.0023 - accuracy: 9.6618e-04\n",
            "Epoch 4/10\n",
            "207/207 [==============================] - 28s 137ms/step - loss: 0.0021 - accuracy: 9.6618e-04\n",
            "Epoch 5/10\n",
            "207/207 [==============================] - 26s 123ms/step - loss: 0.0022 - accuracy: 9.6618e-04\n",
            "Epoch 6/10\n",
            "207/207 [==============================] - 25s 122ms/step - loss: 0.0016 - accuracy: 9.6618e-04\n",
            "Epoch 7/10\n",
            "207/207 [==============================] - 29s 139ms/step - loss: 0.0015 - accuracy: 9.6618e-04\n",
            "Epoch 8/10\n",
            "207/207 [==============================] - 30s 143ms/step - loss: 0.0013 - accuracy: 9.6618e-04\n",
            "Epoch 9/10\n",
            "207/207 [==============================] - 27s 131ms/step - loss: 0.0012 - accuracy: 9.6618e-04\n",
            "Epoch 10/10\n",
            "207/207 [==============================] - 27s 128ms/step - loss: 0.0011 - accuracy: 9.6618e-04\n"
          ]
        }
      ],
      "source": [
        "# Train model\n",
        "# model.fit(x_train, y_train, batch_size=5, epochs=7) \n",
        "history = model.fit(x_train, y_train, epochs=10, batch_size=5) #validation_split=0.33  , verbose=0\n"
      ]
    },
    {
      "cell_type": "code",
      "execution_count": 31,
      "metadata": {
        "colab": {
          "base_uri": "https://localhost:8080/",
          "height": 53
        },
        "id": "ov6eDSju5fEM",
        "outputId": "cbbfc283-c826-41de-a1eb-37af67ef6748"
      },
      "outputs": [
        {
          "data": {
            "text/plain": [
              "\"plt.plot(history.history['accuracy'])\\nplt.plot(history.history['val_accuracy'])\\nplt.title('model accuracy')\\nplt.ylabel('accuracy')\\nplt.xlabel('epoch')\\nplt.legend(['train', 'test'], loc='upper left')\\nplt.show()\""
            ]
          },
          "execution_count": 31,
          "metadata": {},
          "output_type": "execute_result"
        }
      ],
      "source": [
        "'''plt.plot(history.history['accuracy'])\n",
        "plt.plot(history.history['val_accuracy'])\n",
        "plt.title('model accuracy')\n",
        "plt.ylabel('accuracy')\n",
        "plt.xlabel('epoch')\n",
        "plt.legend(['train', 'test'], loc='upper left')\n",
        "plt.show()'''"
      ]
    },
    {
      "cell_type": "code",
      "execution_count": 32,
      "metadata": {
        "id": "fGCs3SN9uH1o"
      },
      "outputs": [],
      "source": [
        "# Create testing dataset\n",
        "# Create new array containing scaled values from 900 - 960\n",
        "test_data = scaled_data[training_data_len - prediction_days: , :]\n",
        "\n",
        "# Create data set x_test & y_test\n",
        "x_test = []\n",
        "y_test = dataset[training_data_len: , :]  # all of values that we want the model to predict, the actual test values\n",
        "for i in range(prediction_days, len(test_data)):\n",
        "    x_test.append(test_data[i- prediction_days:i, 0])"
      ]
    },
    {
      "cell_type": "code",
      "execution_count": 33,
      "metadata": {
        "id": "FcasJTj9uH1o"
      },
      "outputs": [],
      "source": [
        "# Convert data to numpy array\n",
        "x_test = np.array(x_test)"
      ]
    },
    {
      "cell_type": "code",
      "execution_count": 34,
      "metadata": {
        "id": "PIrpJrUNuH1o"
      },
      "outputs": [],
      "source": [
        "# Reshape data -> 3-dimensional shape\n",
        "x_test = np.reshape(x_test, (x_test.shape[0], x_test.shape[1], 1))   # x_test.shape[0] -> number of samples ; x_test.shape[1] -> number of timesteps; number of features: 1 (close price)\n"
      ]
    },
    {
      "cell_type": "code",
      "execution_count": 35,
      "metadata": {
        "colab": {
          "base_uri": "https://localhost:8080/"
        },
        "id": "LF3_dbb0uH1o",
        "outputId": "6809389c-06c4-44e0-857f-45a76cdccb9e"
      },
      "outputs": [
        {
          "name": "stdout",
          "output_type": "stream",
          "text": [
            "8/8 [==============================] - 2s 47ms/step\n"
          ]
        }
      ],
      "source": [
        "# Get the models predicted price values\n",
        "\n",
        "predictions = model.predict(x_test)\n",
        "# we want predictions to contain same values as y_test data set\n",
        "predictions = scaler.inverse_transform(predictions)  # unscale values"
      ]
    },
    {
      "cell_type": "code",
      "execution_count": 36,
      "metadata": {
        "id": "xuOVS6LIuH1p"
      },
      "outputs": [],
      "source": [
        "# Get root mean square error (RSME)\n",
        "rmse = np.sqrt(np.mean(((predictions- y_test)**2)))"
      ]
    },
    {
      "cell_type": "code",
      "execution_count": 37,
      "metadata": {
        "id": "Dxn-rpQ4uH1p"
      },
      "outputs": [],
      "source": [
        "# rmse =np.sqrt(np.mean(((predictions- y_test)**2)))\n",
        "# rmse = np.sqrt(np.mean(np.power((np.array(y_test)-np.array(predictions)),2)))\n",
        "# rmse = np.sqrt(((predictions - y_test) ** 2).mean())"
      ]
    },
    {
      "cell_type": "code",
      "execution_count": 38,
      "metadata": {
        "colab": {
          "base_uri": "https://localhost:8080/"
        },
        "id": "X-B66FU2uH1p",
        "outputId": "64f6b108-e14c-462b-ea1e-d9c088d1097e"
      },
      "outputs": [
        {
          "data": {
            "text/plain": [
              "11.363572086485561"
            ]
          },
          "execution_count": 38,
          "metadata": {},
          "output_type": "execute_result"
        }
      ],
      "source": [
        "rmse"
      ]
    },
    {
      "cell_type": "markdown",
      "metadata": {
        "id": "gG2w92OIuH1p"
      },
      "source": [
        "### Plotting "
      ]
    },
    {
      "cell_type": "code",
      "execution_count": 39,
      "metadata": {
        "colab": {
          "base_uri": "https://localhost:8080/",
          "height": 558
        },
        "id": "y7s0Hq1xuH1p",
        "outputId": "a00b726f-2b55-4d56-f26c-737a606a5088"
      },
      "outputs": [
        {
          "name": "stderr",
          "output_type": "stream",
          "text": [
            "/var/folders/gr/77dww1vx4k945hzph39jwlc40000gn/T/ipykernel_12639/789320371.py:4: SettingWithCopyWarning: \n",
            "A value is trying to be set on a copy of a slice from a DataFrame.\n",
            "Try using .loc[row_indexer,col_indexer] = value instead\n",
            "\n",
            "See the caveats in the documentation: https://pandas.pydata.org/pandas-docs/stable/user_guide/indexing.html#returning-a-view-versus-a-copy\n",
            "  valid['Predictions'] = predictions\n"
          ]
        },
        {
          "data": {
            "text/plain": [
              "<matplotlib.legend.Legend at 0x156b80640>"
            ]
          },
          "execution_count": 39,
          "metadata": {},
          "output_type": "execute_result"
        },
        {
          "data": {
            "image/png": "[encoded data removed]",
            "text/plain": [
              "<Figure size 1008x432 with 1 Axes>"
            ]
          },
          "metadata": {
            "needs_background": "light"
          },
          "output_type": "display_data"
        }
      ],
      "source": [
        "# Plot data\n",
        "train = df[:training_data_len]\n",
        "valid = df[training_data_len:]\n",
        "valid['Predictions'] = predictions\n",
        "\n",
        "# Viz\n",
        "plt.figure(figsize=(14,6))\n",
        "plt.title('Model')\n",
        "plt.xlabel('Date', fontsize=11)\n",
        "plt.ylabel('Close Price US $', fontsize=11)\n",
        "plt.plot(train['Close'])\n",
        "plt.plot(valid[['Close', 'Predictions']])\n",
        "plt.legend(['Train', 'Validation', 'Predictions'], loc='lower left')"
      ]
    },
    {
      "cell_type": "markdown",
      "metadata": {
        "id": "7oT8nzn5uH1q"
      },
      "source": [
        "blue = data the model was trained on\n",
        "red = actual values / actual closing price for the dates\n",
        "orange = what model predicted to be"
      ]
    },
    {
      "cell_type": "code",
      "execution_count": 40,
      "metadata": {
        "colab": {
          "base_uri": "https://localhost:8080/",
          "height": 238
        },
        "id": "W_o5POkJuH1q",
        "outputId": "7ee01db2-cbb6-4981-d7bd-265f6829a167"
      },
      "outputs": [
        {
          "data": {
            "text/html": [
              "<div>\n",
              "<style scoped>\n",
              "    .dataframe tbody tr th:only-of-type {\n",
              "        vertical-align: middle;\n",
              "    }\n",
              "\n",
              "    .dataframe tbody tr th {\n",
              "        vertical-align: top;\n",
              "    }\n",
              "\n",
              "    .dataframe thead th {\n",
              "        text-align: right;\n",
              "    }\n",
              "</style>\n",
              "<table border=\"1\" class=\"dataframe\">\n",
              "  <thead>\n",
              "    <tr style=\"text-align: right;\">\n",
              "      <th></th>\n",
              "      <th>Open</th>\n",
              "      <th>High</th>\n",
              "      <th>Low</th>\n",
              "      <th>Close</th>\n",
              "      <th>Adj Close</th>\n",
              "      <th>Volume</th>\n",
              "      <th>70ma</th>\n",
              "      <th>20ma</th>\n",
              "      <th>Predictions</th>\n",
              "    </tr>\n",
              "    <tr>\n",
              "      <th>Date</th>\n",
              "      <th></th>\n",
              "      <th></th>\n",
              "      <th></th>\n",
              "      <th></th>\n",
              "      <th></th>\n",
              "      <th></th>\n",
              "      <th></th>\n",
              "      <th></th>\n",
              "      <th></th>\n",
              "    </tr>\n",
              "  </thead>\n",
              "  <tbody>\n",
              "    <tr>\n",
              "      <th>2023-02-01</th>\n",
              "      <td>294.410004</td>\n",
              "      <td>303.429993</td>\n",
              "      <td>292.299988</td>\n",
              "      <td>300.920013</td>\n",
              "      <td>300.920013</td>\n",
              "      <td>67562200</td>\n",
              "      <td>278.641152</td>\n",
              "      <td>281.738997</td>\n",
              "      <td>293.554871</td>\n",
              "    </tr>\n",
              "    <tr>\n",
              "      <th>2023-02-02</th>\n",
              "      <td>307.570007</td>\n",
              "      <td>313.679993</td>\n",
              "      <td>306.730011</td>\n",
              "      <td>311.720001</td>\n",
              "      <td>311.720001</td>\n",
              "      <td>83070600</td>\n",
              "      <td>279.169121</td>\n",
              "      <td>284.037997</td>\n",
              "      <td>295.131897</td>\n",
              "    </tr>\n",
              "    <tr>\n",
              "      <th>2023-02-03</th>\n",
              "      <td>304.940002</td>\n",
              "      <td>312.390015</td>\n",
              "      <td>304.540009</td>\n",
              "      <td>306.179993</td>\n",
              "      <td>306.179993</td>\n",
              "      <td>76110300</td>\n",
              "      <td>279.574764</td>\n",
              "      <td>286.267998</td>\n",
              "      <td>297.419189</td>\n",
              "    </tr>\n",
              "    <tr>\n",
              "      <th>2023-02-06</th>\n",
              "      <td>303.510010</td>\n",
              "      <td>305.910004</td>\n",
              "      <td>302.220001</td>\n",
              "      <td>303.589996</td>\n",
              "      <td>303.589996</td>\n",
              "      <td>40802300</td>\n",
              "      <td>279.861318</td>\n",
              "      <td>288.007498</td>\n",
              "      <td>300.046692</td>\n",
              "    </tr>\n",
              "    <tr>\n",
              "      <th>2023-02-07</th>\n",
              "      <td>303.459991</td>\n",
              "      <td>311.029999</td>\n",
              "      <td>302.320007</td>\n",
              "      <td>309.880005</td>\n",
              "      <td>309.880005</td>\n",
              "      <td>67415100</td>\n",
              "      <td>280.327230</td>\n",
              "      <td>289.974498</td>\n",
              "      <td>302.573212</td>\n",
              "    </tr>\n",
              "  </tbody>\n",
              "</table>\n",
              "</div>"
            ],
            "text/plain": [
              "                  Open        High         Low       Close   Adj Close  \\\n",
              "Date                                                                     \n",
              "2023-02-01  294.410004  303.429993  292.299988  300.920013  300.920013   \n",
              "2023-02-02  307.570007  313.679993  306.730011  311.720001  311.720001   \n",
              "2023-02-03  304.940002  312.390015  304.540009  306.179993  306.179993   \n",
              "2023-02-06  303.510010  305.910004  302.220001  303.589996  303.589996   \n",
              "2023-02-07  303.459991  311.029999  302.320007  309.880005  309.880005   \n",
              "\n",
              "              Volume        70ma        20ma  Predictions  \n",
              "Date                                                       \n",
              "2023-02-01  67562200  278.641152  281.738997   293.554871  \n",
              "2023-02-02  83070600  279.169121  284.037997   295.131897  \n",
              "2023-02-03  76110300  279.574764  286.267998   297.419189  \n",
              "2023-02-06  40802300  279.861318  288.007498   300.046692  \n",
              "2023-02-07  67415100  280.327230  289.974498   302.573212  "
            ]
          },
          "execution_count": 40,
          "metadata": {},
          "output_type": "execute_result"
        }
      ],
      "source": [
        "# Show valid and predicted price\n",
        "valid.tail()"
      ]
    },
    {
      "cell_type": "markdown",
      "metadata": {
        "id": "5WTZmE2_uH1q"
      },
      "source": [
        "# Predict close price for future"
      ]
    },
    {
      "cell_type": "code",
      "execution_count": 41,
      "metadata": {
        "colab": {
          "base_uri": "https://localhost:8080/"
        },
        "id": "kmjUi3ATuH1q",
        "outputId": "b1bd29eb-333a-4594-9388-55279801a763"
      },
      "outputs": [
        {
          "name": "stdout",
          "output_type": "stream",
          "text": [
            "1/1 [==============================] - 0s 49ms/step\n",
            "[[305.06833]]\n"
          ]
        }
      ],
      "source": [
        "df_future = df.filter(['Close'])\n",
        "last_60_days = df_future[-prediction_days:].values\n",
        "last_60_days_scaled = scaler.transform(last_60_days)\n",
        "X_test = []\n",
        "X_test.append(last_60_days_scaled)\n",
        "X_test = np.array(X_test)\n",
        "X_test = np.reshape(X_test, (X_test.shape[0], X_test.shape[1], 1))\n",
        "\n",
        "pred_price = model.predict(X_test)\n",
        "pred_price = scaler.inverse_transform(pred_price)\n",
        "print(pred_price)"
      ]
    },
    {
      "cell_type": "code",
      "execution_count": 42,
      "metadata": {
        "colab": {
          "base_uri": "https://localhost:8080/"
        },
        "id": "At381F-GuH1q",
        "outputId": "f4c87f9b-c2c0-4dbb-d09b-d8b9a0e8cd5a"
      },
      "outputs": [
        {
          "name": "stdout",
          "output_type": "stream",
          "text": [
            "1/1 [==============================] - 2s 2s/step\n",
            "Prediction: [[305.06833]]\n"
          ]
        }
      ],
      "source": [
        "df_future = df.filter(['Close'])\n",
        "last_60_days = df_future[-prediction_days-2:].values\n",
        "last_60_days_scaled = scaler.transform(last_60_days)\n",
        "X_test = []\n",
        "X_test.append(last_60_days_scaled)\n",
        "X_test = np.array(X_test)\n",
        "X_test = np.reshape(X_test, (X_test.shape[0], X_test.shape[1], 1))\n",
        "\n",
        "pred_price = model.predict(X_test)\n",
        "pred_price = scaler.inverse_transform(pred_price)\n",
        "print(f'Prediction: {pred_price}')\n"
      ]
    },
    {
      "cell_type": "code",
      "execution_count": 43,
      "metadata": {
        "id": "CSBUpO7BK5Fh"
      },
      "outputs": [],
      "source": [
        "# Prediction: [[283.78705]]\n"
      ]
    },
    {
      "cell_type": "markdown",
      "metadata": {
        "id": "Oc4ONsIdE4yS"
      },
      "source": [
        "--------------------\n",
        "--------------------"
      ]
    },
    {
      "cell_type": "markdown",
      "metadata": {
        "id": "G53tq__vGYdu"
      },
      "source": [
        "## Different approach"
      ]
    },
    {
      "cell_type": "code",
      "execution_count": 44,
      "metadata": {
        "id": "mvrKGBtqE6GL"
      },
      "outputs": [
        {
          "data": {
            "text/plain": [
              "\"test_start = datetime.datetime(2022,1,1)\\ntest_end = datetime.datetime.now()\\n\\ntest_df = web.DataReader(company, 'yahoo', test_start, test_end)\\nactual_prices = test_df['Close'].values\\n\\ntotal_dataset = pd.concat((df['Close'], test_df['Close']), axis=0)\\n\\nmodel_inputs = total_dataset[len(total_dataset) - len(test_df) - prediction_days:].values\\nmodel_inputs = model_inputs.reshape(-1,1)\\nmodel_inputs = scaler.transform(model_inputs)\""
            ]
          },
          "execution_count": 44,
          "metadata": {},
          "output_type": "execute_result"
        }
      ],
      "source": [
        "'''test_start = datetime.datetime(2022,1,1)\n",
        "test_end = datetime.datetime.now()\n",
        "\n",
        "test_df = web.DataReader(company, 'yahoo', test_start, test_end)\n",
        "actual_prices = test_df['Close'].values\n",
        "\n",
        "total_dataset = pd.concat((df['Close'], test_df['Close']), axis=0)\n",
        "\n",
        "model_inputs = total_dataset[len(total_dataset) - len(test_df) - prediction_days:].values\n",
        "model_inputs = model_inputs.reshape(-1,1)\n",
        "model_inputs = scaler.transform(model_inputs)'''"
      ]
    },
    {
      "cell_type": "code",
      "execution_count": 45,
      "metadata": {
        "id": "VlqkzPf8GE3j"
      },
      "outputs": [],
      "source": [
        "# Make predictions on test data"
      ]
    },
    {
      "cell_type": "code",
      "execution_count": 69,
      "metadata": {
        "colab": {
          "base_uri": "https://localhost:8080/"
        },
        "id": "iqxQg4xbGcoe",
        "outputId": "5d553abc-76c8-4e89-a784-861f7328548f"
      },
      "outputs": [
        {
          "ename": "IndexError",
          "evalue": "tuple index out of range",
          "output_type": "error",
          "traceback": [
            "\u001b[0;31m---------------------------------------------------------------------------\u001b[0m",
            "\u001b[0;31mIndexError\u001b[0m                                Traceback (most recent call last)",
            "\u001b[1;32m/Users/julialandsiedel/github/bouillon/stock_price_prediction.ipynb Cell 56\u001b[0m in \u001b[0;36m<cell line: 7>\u001b[0;34m()\u001b[0m\n\u001b[1;32m      <a href='vscode-notebook-cell:/Users/julialandsiedel/github/bouillon/stock_price_prediction.ipynb#Y104sZmlsZQ%3D%3D?line=3'>4</a>\u001b[0m   x_test\u001b[39m.\u001b[39mappend(model_inputs[i\u001b[39m-\u001b[39mprediction_days:i,\u001b[39m0\u001b[39m])\n\u001b[1;32m      <a href='vscode-notebook-cell:/Users/julialandsiedel/github/bouillon/stock_price_prediction.ipynb#Y104sZmlsZQ%3D%3D?line=5'>6</a>\u001b[0m x_test \u001b[39m=\u001b[39m np\u001b[39m.\u001b[39marray(x_test)\n\u001b[0;32m----> <a href='vscode-notebook-cell:/Users/julialandsiedel/github/bouillon/stock_price_prediction.ipynb#Y104sZmlsZQ%3D%3D?line=6'>7</a>\u001b[0m x_test \u001b[39m=\u001b[39m np\u001b[39m.\u001b[39mreshape(x_test, (x_test\u001b[39m.\u001b[39mshape[\u001b[39m0\u001b[39m], x_test\u001b[39m.\u001b[39;49mshape[\u001b[39m1\u001b[39;49m], \u001b[39m1\u001b[39m))\n\u001b[1;32m      <a href='vscode-notebook-cell:/Users/julialandsiedel/github/bouillon/stock_price_prediction.ipynb#Y104sZmlsZQ%3D%3D?line=8'>9</a>\u001b[0m predicted_prices \u001b[39m=\u001b[39m model\u001b[39m.\u001b[39mpredict(x_test)\n\u001b[1;32m     <a href='vscode-notebook-cell:/Users/julialandsiedel/github/bouillon/stock_price_prediction.ipynb#Y104sZmlsZQ%3D%3D?line=9'>10</a>\u001b[0m predicted_prices \u001b[39m=\u001b[39m scaler\u001b[39m.\u001b[39minverse_transform(predicted_prices)\n",
            "\u001b[0;31mIndexError\u001b[0m: tuple index out of range"
          ]
        }
      ],
      "source": [
        "x_test = []\n",
        "\n",
        "for i in range(prediction_days, len(model_inputs)):\n",
        "  x_test.append(model_inputs[i-prediction_days:i,0])\n",
        "\n",
        "x_test = np.array(x_test)\n",
        "x_test = np.reshape(x_test, (x_test.shape[0], x_test.shape[1], 1))\n",
        "\n",
        "predicted_prices = model.predict(x_test)\n",
        "predicted_prices = scaler.inverse_transform(predicted_prices)"
      ]
    },
    {
      "cell_type": "code",
      "execution_count": 68,
      "metadata": {
        "colab": {
          "base_uri": "https://localhost:8080/",
          "height": 459
        },
        "id": "Yzg5CjTtHNTS",
        "outputId": "3660a78e-9567-4aa5-bdc2-67d1ab384166"
      },
      "outputs": [
        {
          "ename": "NameError",
          "evalue": "name 'predicted_prices' is not defined",
          "output_type": "error",
          "traceback": [
            "\u001b[0;31m---------------------------------------------------------------------------\u001b[0m",
            "\u001b[0;31mNameError\u001b[0m                                 Traceback (most recent call last)",
            "\u001b[1;32m/Users/julialandsiedel/github/bouillon/stock_price_prediction.ipynb Cell 57\u001b[0m in \u001b[0;36m<cell line: 4>\u001b[0;34m()\u001b[0m\n\u001b[1;32m      <a href='vscode-notebook-cell:/Users/julialandsiedel/github/bouillon/stock_price_prediction.ipynb#Y105sZmlsZQ%3D%3D?line=1'>2</a>\u001b[0m plt\u001b[39m.\u001b[39mfigure(figsize\u001b[39m=\u001b[39m(\u001b[39m14\u001b[39m,\u001b[39m6\u001b[39m))\n\u001b[1;32m      <a href='vscode-notebook-cell:/Users/julialandsiedel/github/bouillon/stock_price_prediction.ipynb#Y105sZmlsZQ%3D%3D?line=2'>3</a>\u001b[0m plt\u001b[39m.\u001b[39mplot(actual_prices, color\u001b[39m=\u001b[39m\u001b[39m'\u001b[39m\u001b[39mblack\u001b[39m\u001b[39m'\u001b[39m, label\u001b[39m=\u001b[39m\u001b[39mf\u001b[39m\u001b[39m'\u001b[39m\u001b[39mActual \u001b[39m\u001b[39m{\u001b[39;00mcompany\u001b[39m}\u001b[39;00m\u001b[39m Price\u001b[39m\u001b[39m'\u001b[39m)\n\u001b[0;32m----> <a href='vscode-notebook-cell:/Users/julialandsiedel/github/bouillon/stock_price_prediction.ipynb#Y105sZmlsZQ%3D%3D?line=3'>4</a>\u001b[0m plt\u001b[39m.\u001b[39mplot(predicted_prices, color\u001b[39m=\u001b[39m\u001b[39m'\u001b[39m\u001b[39mgreen\u001b[39m\u001b[39m'\u001b[39m, label\u001b[39m=\u001b[39m\u001b[39mf\u001b[39m\u001b[39m'\u001b[39m\u001b[39mPredicted \u001b[39m\u001b[39m{\u001b[39;00mcompany\u001b[39m}\u001b[39;00m\u001b[39m Price\u001b[39m\u001b[39m'\u001b[39m)\n\u001b[1;32m      <a href='vscode-notebook-cell:/Users/julialandsiedel/github/bouillon/stock_price_prediction.ipynb#Y105sZmlsZQ%3D%3D?line=4'>5</a>\u001b[0m plt\u001b[39m.\u001b[39mtitle(\u001b[39mf\u001b[39m\u001b[39m'\u001b[39m\u001b[39m{\u001b[39;00mcompany\u001b[39m}\u001b[39;00m\u001b[39m Share Price\u001b[39m\u001b[39m'\u001b[39m)\n\u001b[1;32m      <a href='vscode-notebook-cell:/Users/julialandsiedel/github/bouillon/stock_price_prediction.ipynb#Y105sZmlsZQ%3D%3D?line=5'>6</a>\u001b[0m plt\u001b[39m.\u001b[39mxlabel(\u001b[39m'\u001b[39m\u001b[39mTime\u001b[39m\u001b[39m'\u001b[39m)\n",
            "\u001b[0;31mNameError\u001b[0m: name 'predicted_prices' is not defined"
          ]
        },
        {
          "data": {
            "image/png": "[encoded data removed]",
            "text/plain": [
              "<Figure size 1008x432 with 1 Axes>"
            ]
          },
          "metadata": {
            "needs_background": "light"
          },
          "output_type": "display_data"
        }
      ],
      "source": [
        "# Plot the test pred\n",
        "plt.figure(figsize=(14,6))\n",
        "plt.plot(actual_prices, color='black', label=f'Actual {company} Price')\n",
        "plt.plot(predicted_prices, color='green', label=f'Predicted {company} Price')\n",
        "plt.title(f'{company} Share Price')\n",
        "plt.xlabel('Time')\n",
        "plt.ylabel(f'{company} Share Price in US $')\n",
        "plt.legend(loc='upper left')"
      ]
    },
    {
      "cell_type": "code",
      "execution_count": null,
      "metadata": {
        "colab": {
          "base_uri": "https://localhost:8080/"
        },
        "id": "QLCdCsV1Hy_N",
        "outputId": "0f727b16-5b5d-4bd7-ccb6-5aa8629edd54"
      },
      "outputs": [
        {
          "name": "stdout",
          "output_type": "stream",
          "text": [
            "1/1 [==============================] - 0s 48ms/step\n",
            "Prediction: [[281.6141]]\n"
          ]
        }
      ],
      "source": [
        "# Predict next day\n",
        "\n",
        "real_data = [model_inputs[len(model_inputs) + 1 - prediction_days:len(model_inputs + 1), 0]]\n",
        "real_data = np.array(real_data)\n",
        "real_data = np.reshape(real_data, (real_data.shape[0], real_data.shape[1],1))\n",
        "\n",
        "# print(scaler.inverse_transform(real_data[-1]))\n",
        "\n",
        "prediction = model.predict(real_data)\n",
        "prediction = scaler.inverse_transform(prediction)\n",
        "print(f'Prediction: {prediction}')\n"
      ]
    },
    {
      "cell_type": "markdown",
      "metadata": {
        "id": "WYAoRIqzCISC"
      },
      "source": [
        "Different approach w/ avg of highest and lowest price\n",
        "\n"
      ]
    },
    {
      "cell_type": "code",
      "execution_count": null,
      "metadata": {
        "id": "xRBHgoz4CO3p"
      },
      "outputs": [],
      "source": [
        "# First calculate the mid prices from the highest and lowest\n",
        "high_prices = df.loc[:,'High'].as_matrix()\n",
        "low_prices = df.loc[:,'Low'].as_matrix()\n",
        "mid_prices = (high_prices+low_prices)/2.0"
      ]
    },
    {
      "cell_type": "code",
      "execution_count": null,
      "metadata": {
        "id": "s44s2SW9CXOz"
      },
      "outputs": [],
      "source": [
        "train_data = mid_prices[:11000]\n",
        "test_data = mid_prices[11000:]"
      ]
    },
    {
      "cell_type": "code",
      "execution_count": null,
      "metadata": {
        "id": "-aTmbMEECXE6"
      },
      "outputs": [],
      "source": [
        "scaler = MinMaxScaler()\n",
        "train_data = train_data.reshape(-1,1)\n",
        "test_data = test_data.reshape(-1,1)"
      ]
    },
    {
      "cell_type": "code",
      "execution_count": null,
      "metadata": {
        "id": "qwgjHgdlCW9o"
      },
      "outputs": [],
      "source": [
        "# Train the Scaler with training data and smooth data\n",
        "smoothing_window_size = 2500\n",
        "for di in range(0,10000,smoothing_window_size):\n",
        "    scaler.fit(train_data[di:di+smoothing_window_size,:])\n",
        "    train_data[di:di+smoothing_window_size,:] = scaler.transform(train_data[di:di+smoothing_window_size,:])\n",
        "\n",
        "# You normalize the last bit of remaining data\n",
        "scaler.fit(train_data[di+smoothing_window_size:,:])\n",
        "train_data[di+smoothing_window_size:,:] = scaler.transform(train_data[di+smoothing_window_size:,:])"
      ]
    },
    {
      "cell_type": "code",
      "execution_count": null,
      "metadata": {
        "id": "rexOhbRnCW6O"
      },
      "outputs": [],
      "source": [
        "train_data = train_data.reshape(-1)\n",
        "\n",
        "# Normalize test data\n",
        "test_data = scaler.transform(test_data).reshape(-1)"
      ]
    },
    {
      "cell_type": "code",
      "execution_count": null,
      "metadata": {
        "id": "XEQQdggxDqyu"
      },
      "outputs": [],
      "source": [
        "EMA = 0.0\n",
        "gamma = 0.1\n",
        "for ti in range(11000):\n",
        "  EMA = gamma*train_data[ti] + (1-gamma)*EMA\n",
        "  train_data[ti] = EMA\n",
        "\n",
        "# Used for visualization and test purposes\n",
        "all_mid_data = np.concatenate([train_data,test_data],axis=0)"
      ]
    },
    {
      "cell_type": "code",
      "execution_count": null,
      "metadata": {
        "id": "EEbRS9UjDquE"
      },
      "outputs": [],
      "source": [
        "window_size = 100\n",
        "N = train_data.size\n",
        "std_avg_predictions = []\n",
        "std_avg_x = []\n",
        "mse_errors = []\n",
        "\n",
        "for pred_idx in range(window_size,N):\n",
        "\n",
        "    if pred_idx >= N:\n",
        "        date = dt.datetime.strptime(k, '%Y-%m-%d').date() + dt.timedelta(days=1)\n",
        "    else:\n",
        "        date = df.loc[pred_idx,'Date']\n",
        "\n",
        "    std_avg_predictions.append(np.mean(train_data[pred_idx-window_size:pred_idx]))\n",
        "    mse_errors.append((std_avg_predictions[-1]-train_data[pred_idx])**2)\n",
        "    std_avg_x.append(date)\n",
        "\n",
        "print('MSE error for standard averaging: %.5f'%(0.5*np.mean(mse_errors)))"
      ]
    },
    {
      "cell_type": "code",
      "execution_count": null,
      "metadata": {
        "id": "ry5iU0cwDqlM"
      },
      "outputs": [],
      "source": [
        "plt.figure(figsize = (18,9))\n",
        "plt.plot(range(df.shape[0]),all_mid_data,color='b',label='True')\n",
        "plt.plot(range(window_size,N),std_avg_predictions,color='orange',label='Prediction')\n",
        "#plt.xticks(range(0,df.shape[0],50),df['Date'].loc[::50],rotation=45)\n",
        "plt.xlabel('Date')\n",
        "plt.ylabel('Mid Price')\n",
        "plt.legend(fontsize=18)\n",
        "plt.show()"
      ]
    },
    {
      "cell_type": "code",
      "execution_count": null,
      "metadata": {
        "id": "HTocROMwD-G6"
      },
      "outputs": [],
      "source": [
        "window_size = 100\n",
        "N = train_data.size\n",
        "\n",
        "run_avg_predictions = []\n",
        "run_avg_x = []\n",
        "\n",
        "mse_errors = []\n",
        "\n",
        "running_mean = 0.0\n",
        "run_avg_predictions.append(running_mean)\n",
        "\n",
        "decay = 0.5\n",
        "\n",
        "for pred_idx in range(1,N):\n",
        "\n",
        "    running_mean = running_mean*decay + (1.0-decay)*train_data[pred_idx-1]\n",
        "    run_avg_predictions.append(running_mean)\n",
        "    mse_errors.append((run_avg_predictions[-1]-train_data[pred_idx])**2)\n",
        "    run_avg_x.append(date)\n",
        "\n",
        "print('MSE error for EMA averaging: %.5f'%(0.5*np.mean(mse_errors)))\n"
      ]
    },
    {
      "cell_type": "code",
      "execution_count": null,
      "metadata": {
        "id": "gOE6qzUTD-D2"
      },
      "outputs": [],
      "source": [
        "\n",
        "plt.figure(figsize = (18,9))\n",
        "plt.plot(range(df.shape[0]),all_mid_data,color='b',label='True')\n",
        "plt.plot(range(0,N),run_avg_predictions,color='orange', label='Prediction')\n",
        "#plt.xticks(range(0,df.shape[0],50),df['Date'].loc[::50],rotation=45)\n",
        "plt.xlabel('Date')\n",
        "plt.ylabel('Mid Price')\n",
        "plt.legend(fontsize=18)\n",
        "plt.show()\n"
      ]
    }
  ],
  "metadata": {
    "colab": {
      "provenance": []
    },
    "kernelspec": {
      "display_name": "Python 3.9.13 64-bit",
      "language": "python",
      "name": "python3"
    },
    "language_info": {
      "codemirror_mode": {
        "name": "ipython",
        "version": 3
      },
      "file_extension": ".py",
      "mimetype": "text/x-python",
      "name": "python",
      "nbconvert_exporter": "python",
      "pygments_lexer": "ipython3",
      "version": "3.9.13"
    },
    "vscode": {
      "interpreter": {
        "hash": "aee8b7b246df8f9039afb4144a1f6fd8d2ca17a180786b69acc140d282b71a49"
      }
    }
  },
  "nbformat": 4,
  "nbformat_minor": 0
}
