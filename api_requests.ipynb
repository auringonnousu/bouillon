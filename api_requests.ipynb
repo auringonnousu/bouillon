{
 "cells": [
  {
   "cell_type": "code",
   "execution_count": null,
   "metadata": {},
   "outputs": [],
   "source": [
    "## APIs\n",
    "\n",
    "import requests\n",
    "import pandas as pd\n",
    "\n",
    "import config \n",
    "from config import API_URL, API_KEY, url, CSV_URL, news_url"
   ]
  },
  {
   "cell_type": "code",
   "execution_count": null,
   "metadata": {},
   "outputs": [],
   "source": [
    "symbol = \"AMC\" "
   ]
  },
  {
   "cell_type": "code",
   "execution_count": null,
   "metadata": {},
   "outputs": [],
   "source": [
    "# url = 'https://www.alphavantage.co/query?function=TIME_SERIES_DAILY_ADJUSTED&symbol=AMC&apikey=demo'\n",
    "r = requests.get(url)\n",
    "data = r.json()\n",
    "\n",
    "time_series = data['Time Series (Daily)']\n",
    "column_labels = ['1. open', '2. high', '3. low', '4. close', '5. adjusted close', '6. volume', '7. dividend amount', '8. split coefficient']\n",
    "\n",
    "# create a DataFrame with the time series data and column labels\n",
    "df = pd.DataFrame.from_dict(time_series, orient='index', dtype=float, columns=column_labels)\n",
    "\n",
    "# sort the DataFrame by the date index in descending order (most recent date first)\n",
    "df = df.sort_index(ascending=False)\n",
    "df.columns = ['Open', 'High', 'Low', 'Close', 'Adjusted Close', 'Volume', 'Dividend Amount', 'Split Coefficient']"
   ]
  },
  {
   "cell_type": "code",
   "execution_count": null,
   "metadata": {},
   "outputs": [],
   "source": [
    "r = requests.get(news_url)\n",
    "news_data = r.json()"
   ]
  },
  {
   "cell_type": "code",
   "execution_count": null,
   "metadata": {},
   "outputs": [],
   "source": [
    "df2 = pd.DataFrame(news_data['feed'])"
   ]
  },
  {
   "cell_type": "code",
   "execution_count": null,
   "metadata": {},
   "outputs": [],
   "source": [
    "df2.head(2)"
   ]
  },
  {
   "cell_type": "code",
   "execution_count": null,
   "metadata": {},
   "outputs": [],
   "source": [
    "# df.set_index('Date', inplace=True)\n",
    "df = df.reset_index(level=0)"
   ]
  },
  {
   "cell_type": "code",
   "execution_count": null,
   "metadata": {},
   "outputs": [],
   "source": [
    "import csv\n",
    "import requests\n",
    "\n",
    "# replace the \"demo\" apikey below with your own key from https://www.alphavantage.co/support/#api-key\n",
    "# CSV_URL = 'https://www.alphavantage.co/query?function=EARNINGS_CALENDAR&horizon=3month&apikey=demo'\n",
    "\n",
    "with requests.Session() as s:\n",
    "    download = s.get(CSV_URL)\n",
    "    decoded_content = download.content.decode('utf-8')\n",
    "    cr = csv.reader(decoded_content.splitlines(), delimiter=',')\n",
    "    my_list = list(cr)\n",
    "    for row in my_list:\n",
    "        print(row)"
   ]
  },
  {
   "attachments": {},
   "cell_type": "markdown",
   "metadata": {},
   "source": [
    "1. Market capitalization | Alpha Vantage\n",
    "\n",
    "    value of a company's outstanding shares, can be used to detect changes in the company's overall value"
   ]
  },
  {
   "cell_type": "code",
   "execution_count": null,
   "metadata": {},
   "outputs": [],
   "source": [
    "\n",
    "params = {\n",
    "    \"function\": \"OVERVIEW\",\n",
    "    \"symbol\": symbol,\n",
    "    \"apikey\": API_KEY,\n",
    "}\n",
    "\n",
    "response = requests.get(API_URL, params=params)\n",
    "\n",
    "data = response.json()\n",
    "\n",
    "market_cap = data[\"MarketCapitalization\"]\n",
    "print(f\"Market capitalization of {symbol}: {market_cap}\")\n"
   ]
  },
  {
   "attachments": {},
   "cell_type": "markdown",
   "metadata": {},
   "source": [
    "2. Earnings per share (EPS) | \n",
    "\n",
    "    amount of a company's profit allocated to each outstanding share of stock, can be used to detect changes in a company's profitability"
   ]
  },
  {
   "cell_type": "code",
   "execution_count": null,
   "metadata": {},
   "outputs": [],
   "source": [
    "\n",
    "params = {\n",
    "    \"function\": \"OVERVIEW\",\n",
    "    \"symbol\": symbol,\n",
    "    \"apikey\": API_KEY,\n",
    "}\n",
    "\n",
    "response = requests.get(API_URL, params=params)\n",
    "\n",
    "data = response.json()\n",
    "\n",
    "eps = data[\"EPS\"]\n",
    "print(f\"Earnings per share of {symbol}: {eps}\")\n"
   ]
  },
  {
   "attachments": {},
   "cell_type": "markdown",
   "metadata": {},
   "source": [
    "3. Price-to-earnings ratio (P/E ratio)\n",
    "\n",
    "    the price of a stock divided by its earnings per share, can be used to detect changes in a company's valuation"
   ]
  },
  {
   "cell_type": "code",
   "execution_count": null,
   "metadata": {},
   "outputs": [],
   "source": [
    "time_series = data['Time Series (Daily)']"
   ]
  },
  {
   "cell_type": "code",
   "execution_count": null,
   "metadata": {},
   "outputs": [],
   "source": [
    "latest_date = list(data['Time Series (Daily)'].keys())[0]\n",
    "pe_ratio = float(data['Time Series (Daily)'][latest_date]['8. Price']) / float(data['Time Series (Daily)'][latest_date]['4. Close'])\n",
    "print(f\"P/E Ratio on {latest_date}: {pe_ratio:.2f}\")"
   ]
  },
  {
   "cell_type": "code",
   "execution_count": null,
   "metadata": {},
   "outputs": [],
   "source": [
    "\n",
    "params = {\n",
    "    \"function\": \"OVERVIEW\",\n",
    "    \"symbol\": symbol,\n",
    "    \"apikey\": API_KEY,\n",
    "}\n",
    "\n",
    "response = requests.get(API_URL, params=params)\n",
    "\n",
    "data = response.json()\n",
    "\n",
    "pe_ratio = data[\"PERatio\"]\n",
    "print(f\"P/E ratio of {symbol}: {pe_ratio}\")\n"
   ]
  },
  {
   "attachments": {},
   "cell_type": "markdown",
   "metadata": {},
   "source": [
    "4. Dividend yield\n",
    "\n",
    "    percentage of a company's stock price paid out as dividends, can be used to detect changes in a company's financial health\n",
    "\n"
   ]
  },
  {
   "cell_type": "code",
   "execution_count": null,
   "metadata": {},
   "outputs": [],
   "source": [
    "import yfinance as yf\n",
    "\n",
    "symbol = 'AAPL'\n",
    "stock = yf.Ticker(symbol)\n",
    "dividend_yield = stock.info['dividendYield']\n",
    "print(f\"Dividend Yield: {dividend_yield}\")"
   ]
  },
  {
   "cell_type": "code",
   "execution_count": null,
   "metadata": {},
   "outputs": [],
   "source": [
    "\n",
    "response = requests.get(API_URL, params=params)\n",
    "\n",
    "data = response.json()\n",
    "\n",
    "div_yield = data[\"DividendYield\"]\n",
    "print(f\"Dividend yield of {symbol}: {div_yield}\")\n"
   ]
  },
  {
   "attachments": {},
   "cell_type": "markdown",
   "metadata": {},
   "source": [
    "5. BETA"
   ]
  },
  {
   "cell_type": "code",
   "execution_count": null,
   "metadata": {},
   "outputs": [],
   "source": [
    "import requests\n",
    "\n",
    "# Replace YOUR_API_KEY and SYMBOL with your actual API key and stock symbol from Alpha Vantage\n",
    "url_beta = 'https://www.alphavantage.co/query?function=BETA&symbol=IBM&apikey=7Q8F27YW5VXWLFHU'\n",
    "response = requests.get(url_beta)\n",
    "data = response.json()\n",
    "\n",
    "beta = data['BETA']\n",
    "print(f\"Beta: {beta}\")\n"
   ]
  },
  {
   "attachments": {},
   "cell_type": "markdown",
   "metadata": {},
   "source": [
    "6. Debt to Equity Ratio"
   ]
  },
  {
   "cell_type": "code",
   "execution_count": null,
   "metadata": {},
   "outputs": [],
   "source": [
    "import requests\n",
    "\n",
    "# Replace YOUR_API_KEY and SYMBOL with your actual API key and stock symbol from Intrinio\n",
    "url = 'https://api-v2.intrinio.com/securities/{}/data_point/debt_to_equity?api_key=YOUR_API_KEY'.format(SYMBOL)\n",
    "response = requests.get(url)\n",
    "data = response.json()\n",
    "\n",
    "debt_to_equity_ratio = data['value']\n",
    "print(f\"Debt-to-Equity Ratio: {debt_to_equity_ratio}\")\n"
   ]
  },
  {
   "attachments": {},
   "cell_type": "markdown",
   "metadata": {},
   "source": [
    "7. Price-to-Book (P/B) Ratio:"
   ]
  },
  {
   "cell_type": "code",
   "execution_count": null,
   "metadata": {},
   "outputs": [],
   "source": [
    "import requests\n",
    "\n",
    "# Replace YOUR_API_KEY and SYMBOL with your actual API key and stock symbol from Intrinio\n",
    "url = 'https://api-v2.intrinio.com/securities/{}/data_point/book_value_per_share?api_key=YOUR_API_KEY'.format(SYMBOL)\n",
    "response = requests.get(url)\n",
    "data = response.json()\n",
    "\n",
    "price = 100 # replace with actual stock price\n",
    "pb_ratio = price / data['value']\n",
    "print(f\"P/B Ratio: {pb_ratio}\")\n"
   ]
  },
  {
   "attachments": {},
   "cell_type": "markdown",
   "metadata": {},
   "source": [
    "IPO Calender"
   ]
  },
  {
   "cell_type": "code",
   "execution_count": null,
   "metadata": {},
   "outputs": [],
   "source": [
    "import csv\n",
    "IPO_URL = 'https://www.alphavantage.co/query?function=IPO_CALENDAR&apikey=7Q8F27YW5VXWLFHU'\n",
    "\n",
    "with requests.Session() as s:\n",
    "    download = s.get(IPO_URL)\n",
    "    decoded_content = download.content.decode('utf-8')\n",
    "    cr = csv.reader(decoded_content.splitlines(), delimiter=',')\n",
    "    my_list = list(cr)\n",
    "    for row in my_list:\n",
    "        print(row)"
   ]
  },
  {
   "cell_type": "markdown",
   "metadata": {},
   "source": []
  }
 ],
 "metadata": {
  "kernelspec": {
   "display_name": "Python 3.9.13 64-bit",
   "language": "python",
   "name": "python3"
  },
  "language_info": {
   "codemirror_mode": {
    "name": "ipython",
    "version": 3
   },
   "file_extension": ".py",
   "mimetype": "text/x-python",
   "name": "python",
   "nbconvert_exporter": "python",
   "pygments_lexer": "ipython3",
   "version": "3.9.13"
  },
  "orig_nbformat": 4,
  "vscode": {
   "interpreter": {
    "hash": "aee8b7b246df8f9039afb4144a1f6fd8d2ca17a180786b69acc140d282b71a49"
   }
  }
 },
 "nbformat": 4,
 "nbformat_minor": 2
}
