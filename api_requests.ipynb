{
 "cells": [
  {
   "cell_type": "code",
   "execution_count": 1,
   "metadata": {},
   "outputs": [],
   "source": [
    "## APIs\n",
    "\n",
    "import pandas as pd\n",
    "\n",
    "import csv\n",
    "import requests\n",
    "\n",
    "\n",
    "import config \n",
    "from config import API_URL, API_KEY, url, CSV_URL, news_url, BETA, IPO_URL"
   ]
  },
  {
   "cell_type": "code",
   "execution_count": 2,
   "metadata": {},
   "outputs": [],
   "source": [
    "symbol = \"AAPL\" "
   ]
  },
  {
   "cell_type": "code",
   "execution_count": 3,
   "metadata": {},
   "outputs": [],
   "source": [
    "# url = 'https://www.alphavantage.co/query?function=TIME_SERIES_DAILY_ADJUSTED&symbol=AMC&apikey=demo'\n",
    "r = requests.get(url)\n",
    "data = r.json()\n",
    "\n",
    "time_series = data['Time Series (Daily)']\n",
    "column_labels = ['1. open', '2. high', '3. low', '4. close', '5. adjusted close', '6. volume', '7. dividend amount', '8. split coefficient']\n",
    "\n",
    "# create a DataFrame with the time series data and column labels\n",
    "df = pd.DataFrame.from_dict(time_series, orient='index', dtype=float, columns=column_labels)\n",
    "\n",
    "# sort the DataFrame by the date index in descending order (most recent date first)\n",
    "df = df.sort_index(ascending=False)\n",
    "df.columns = ['Open', 'High', 'Low', 'Close', 'Adjusted Close', 'Volume', 'Dividend Amount', 'Split Coefficient']"
   ]
  },
  {
   "cell_type": "code",
   "execution_count": 4,
   "metadata": {},
   "outputs": [],
   "source": [
    "r = requests.get(news_url)\n",
    "news_data = r.json()"
   ]
  },
  {
   "cell_type": "code",
   "execution_count": 5,
   "metadata": {},
   "outputs": [],
   "source": [
    "df_news = pd.DataFrame(news_data['feed'])"
   ]
  },
  {
   "cell_type": "code",
   "execution_count": 6,
   "metadata": {},
   "outputs": [],
   "source": [
    "# df2.loc[0,'topics']"
   ]
  },
  {
   "cell_type": "code",
   "execution_count": 7,
   "metadata": {},
   "outputs": [],
   "source": [
    "df_news['ticker'] = df_news['ticker_sentiment'].apply(lambda x: [d['ticker'] for d in x])\n",
    "df_news['ticker_sentiment_score'] = df_news['ticker_sentiment'].apply(lambda x: [d['ticker_sentiment_score'] for d in x])\n",
    "df_news['ticker_sentiment_label'] = df_news['ticker_sentiment'].apply(lambda x: [d['ticker_sentiment_label'] for d in x])\n",
    "df_news['relevance_score'] = df_news['ticker_sentiment'].apply(lambda x: [d['relevance_score'] for d in x])\n",
    "\n",
    "df_news['topic'] = df_news['topics'].apply(lambda x: [d['topic'] for d in x])\n",
    "df_news['relevance_score_topic'] = df_news['topics'].apply(lambda x: [d['relevance_score'] for d in x])\n"
   ]
  },
  {
   "cell_type": "code",
   "execution_count": 8,
   "metadata": {},
   "outputs": [
    {
     "data": {
      "text/html": [
       "<div>\n",
       "<style scoped>\n",
       "    .dataframe tbody tr th:only-of-type {\n",
       "        vertical-align: middle;\n",
       "    }\n",
       "\n",
       "    .dataframe tbody tr th {\n",
       "        vertical-align: top;\n",
       "    }\n",
       "\n",
       "    .dataframe thead th {\n",
       "        text-align: right;\n",
       "    }\n",
       "</style>\n",
       "<table border=\"1\" class=\"dataframe\">\n",
       "  <thead>\n",
       "    <tr style=\"text-align: right;\">\n",
       "      <th></th>\n",
       "      <th>relevance_score_topic</th>\n",
       "      <th>topic</th>\n",
       "      <th>relevance_score</th>\n",
       "      <th>ticker_sentiment_label</th>\n",
       "      <th>ticker_sentiment_score</th>\n",
       "      <th>overall_sentiment_label</th>\n",
       "      <th>overall_sentiment_score</th>\n",
       "    </tr>\n",
       "  </thead>\n",
       "  <tbody>\n",
       "    <tr>\n",
       "      <th>0</th>\n",
       "      <td>[0.684621, 0.980922, 1.0, 0.158519]</td>\n",
       "      <td>[Financial Markets, Earnings, Technology, Econ...</td>\n",
       "      <td>[0.151539, 0.475838, 0.389636]</td>\n",
       "      <td>[Somewhat-Bullish, Bullish, Somewhat-Bullish]</td>\n",
       "      <td>[0.239377, 0.352506, 0.328757]</td>\n",
       "      <td>Somewhat-Bullish</td>\n",
       "      <td>0.236647</td>\n",
       "    </tr>\n",
       "    <tr>\n",
       "      <th>1</th>\n",
       "      <td>[0.5, 0.983605, 0.5]</td>\n",
       "      <td>[Life Sciences, Blockchain, Manufacturing]</td>\n",
       "      <td>[0.114956, 0.114956, 0.114956, 0.114956, 0.282...</td>\n",
       "      <td>[Somewhat-Bullish, Somewhat-Bullish, Neutral, ...</td>\n",
       "      <td>[0.299005, 0.299005, 0.0, 0.299005, 0.132216, ...</td>\n",
       "      <td>Somewhat-Bullish</td>\n",
       "      <td>0.238351</td>\n",
       "    </tr>\n",
       "  </tbody>\n",
       "</table>\n",
       "</div>"
      ],
      "text/plain": [
       "                 relevance_score_topic  \\\n",
       "0  [0.684621, 0.980922, 1.0, 0.158519]   \n",
       "1                 [0.5, 0.983605, 0.5]   \n",
       "\n",
       "                                               topic  \\\n",
       "0  [Financial Markets, Earnings, Technology, Econ...   \n",
       "1         [Life Sciences, Blockchain, Manufacturing]   \n",
       "\n",
       "                                     relevance_score  \\\n",
       "0                     [0.151539, 0.475838, 0.389636]   \n",
       "1  [0.114956, 0.114956, 0.114956, 0.114956, 0.282...   \n",
       "\n",
       "                              ticker_sentiment_label  \\\n",
       "0      [Somewhat-Bullish, Bullish, Somewhat-Bullish]   \n",
       "1  [Somewhat-Bullish, Somewhat-Bullish, Neutral, ...   \n",
       "\n",
       "                              ticker_sentiment_score overall_sentiment_label  \\\n",
       "0                     [0.239377, 0.352506, 0.328757]        Somewhat-Bullish   \n",
       "1  [0.299005, 0.299005, 0.0, 0.299005, 0.132216, ...        Somewhat-Bullish   \n",
       "\n",
       "   overall_sentiment_score  \n",
       "0                 0.236647  \n",
       "1                 0.238351  "
      ]
     },
     "execution_count": 8,
     "metadata": {},
     "output_type": "execute_result"
    }
   ],
   "source": [
    "df_news = df_news[['relevance_score_topic','topic','relevance_score', 'ticker_sentiment_label','ticker_sentiment_score', 'overall_sentiment_label', 'overall_sentiment_score'  ]]\n",
    "df_news.head(2)"
   ]
  },
  {
   "cell_type": "code",
   "execution_count": 9,
   "metadata": {},
   "outputs": [],
   "source": [
    "# df.set_index('Date', inplace=True)\n",
    "df = df.reset_index(level=0)"
   ]
  },
  {
   "cell_type": "code",
   "execution_count": 10,
   "metadata": {},
   "outputs": [
    {
     "name": "stdout",
     "output_type": "stream",
     "text": [
      "['AAPL', 'Apple Inc', '2023-04-26', '2023-03-31', '1.43', 'USD']\n"
     ]
    }
   ],
   "source": [
    "\n",
    "with requests.Session() as s:\n",
    "    download = s.get(CSV_URL)\n",
    "    decoded_content = download.content.decode('utf-8')\n",
    "    cr = csv.reader(decoded_content.splitlines(), delimiter=',')\n",
    "    my_list = list(cr)\n",
    "    for row in my_list:\n",
    "        if row[0] == symbol:\n",
    "            print(row)"
   ]
  },
  {
   "cell_type": "code",
   "execution_count": 11,
   "metadata": {},
   "outputs": [
    {
     "data": {
      "text/plain": [
       "'import csv\\nimport requests\\n\\n# replace the \"demo\" apikey below with your own key from https://www.alphavantage.co/support/#api-key\\n# CSV_URL = \\'https://www.alphavantage.co/query?function=EARNINGS_CALENDAR&horizon=3month&apikey=demo\\'\\n\\nwith requests.Session() as s:\\n    download = s.get(CSV_URL)\\n    decoded_content = download.content.decode(\\'utf-8\\')\\n    cr = csv.reader(decoded_content.splitlines(), delimiter=\\',\\')\\n    my_list = list(cr)\\n    for row in my_list:\\n        print(row)'"
      ]
     },
     "execution_count": 11,
     "metadata": {},
     "output_type": "execute_result"
    }
   ],
   "source": [
    "'''import csv\n",
    "import requests\n",
    "\n",
    "# replace the \"demo\" apikey below with your own key from https://www.alphavantage.co/support/#api-key\n",
    "# CSV_URL = 'https://www.alphavantage.co/query?function=EARNINGS_CALENDAR&horizon=3month&apikey=demo'\n",
    "\n",
    "with requests.Session() as s:\n",
    "    download = s.get(CSV_URL)\n",
    "    decoded_content = download.content.decode('utf-8')\n",
    "    cr = csv.reader(decoded_content.splitlines(), delimiter=',')\n",
    "    my_list = list(cr)\n",
    "    for row in my_list:\n",
    "        print(row)'''"
   ]
  },
  {
   "attachments": {},
   "cell_type": "markdown",
   "metadata": {},
   "source": [
    "1. Market capitalization | Alpha Vantage\n",
    "\n",
    "    value of a company's outstanding shares, can be used to detect changes in the company's overall value"
   ]
  },
  {
   "cell_type": "code",
   "execution_count": 12,
   "metadata": {},
   "outputs": [
    {
     "data": {
      "text/plain": [
       "'\\nparams = {\\n    \"function\": \"OVERVIEW\",\\n    \"symbol\": symbol,\\n    \"apikey\": API_KEY,\\n}\\n\\nresponse = requests.get(API_URL, params=params)\\n\\ndata = response.json()\\n\\nmarket_cap = data[\"MarketCapitalization\"]\\nprint(f\"Market capitalization of {symbol}: {market_cap}\")'"
      ]
     },
     "execution_count": 12,
     "metadata": {},
     "output_type": "execute_result"
    }
   ],
   "source": [
    "# MarketCapitalization\n",
    "\n",
    "params = {\n",
    "    \"function\": \"OVERVIEW\",\n",
    "    \"symbol\": symbol,\n",
    "    \"apikey\": API_KEY,\n",
    "}\n",
    "\n",
    "response = requests.get(API_URL, params=params)\n",
    "data = response.json()\n",
    "market_cap = data[\"MarketCapitalization\"]\n",
    "\n",
    "params = {\n",
    "    \"function\": \"TIME_SERIES_DAILY_ADJUSTED\",\n",
    "    \"symbol\": symbol,\n",
    "    \"outputsize\": \"compact\",\n",
    "    \"apikey\": API_KEY,\n",
    "}\n",
    "\n",
    "response = requests.get(API_URL, params=params)\n",
    "data = response.json()\n",
    "prices = data[\"Time Series (Daily)\"]\n",
    "\n",
    "last_180_days = list(prices)[:365]\n",
    "\n",
    "data_dict = {\"date\": [], \"market_cap\": []}\n",
    "\n",
    "for date in last_180_days:\n",
    "    market_cap_for_date = float(prices[date][\"7. dividend amount\"]) * float(prices[date][\"5. adjusted close\"])\n",
    "    data_dict[\"date\"].append(date)\n",
    "    data_dict[\"market_cap\"].append(market_cap_for_date)\n",
    "\n",
    "df_MC = pd.DataFrame(data_dict)\n",
    "\n",
    "'''import requests\n",
    "\n",
    "\n",
    "params = {\n",
    "    \"function\": \"OVERVIEW\",\n",
    "    \"symbol\": symbol,\n",
    "    \"apikey\": API_KEY,\n",
    "}\n",
    "\n",
    "response = requests.get(API_URL, params=params)\n",
    "data = response.json()\n",
    "market_cap = data[\"MarketCapitalization\"]\n",
    "\n",
    "params = {\n",
    "    \"function\": \"TIME_SERIES_DAILY_ADJUSTED\",\n",
    "    \"symbol\": symbol,\n",
    "    \"outputsize\": \"compact\",\n",
    "    \"apikey\": API_KEY,\n",
    "}\n",
    "\n",
    "response = requests.get(API_URL, params=params)\n",
    "data = response.json()\n",
    "prices = data[\"Time Series (Daily)\"]\n",
    "\n",
    "last_180_days = list(prices)[:180]\n",
    "\n",
    "for date in last_180_days:\n",
    "    market_cap_for_date = float(prices[date][\"7. dividend amount\"]) * float(prices[date][\"5. adjusted close\"])\n",
    "    print(f\"Market capitalization of {symbol} on {date}: {market_cap_for_date}\")'''\n",
    "\n",
    "\n",
    "'''\n",
    "params = {\n",
    "    \"function\": \"OVERVIEW\",\n",
    "    \"symbol\": symbol,\n",
    "    \"apikey\": API_KEY,\n",
    "}\n",
    "\n",
    "response = requests.get(API_URL, params=params)\n",
    "\n",
    "data = response.json()\n",
    "\n",
    "market_cap = data[\"MarketCapitalization\"]\n",
    "print(f\"Market capitalization of {symbol}: {market_cap}\")'''\n"
   ]
  },
  {
   "attachments": {},
   "cell_type": "markdown",
   "metadata": {},
   "source": [
    "2. Earnings per share (EPS) | \n",
    "\n",
    "    amount of a company's profit allocated to each outstanding share of stock, can be used to detect changes in a company's profitability"
   ]
  },
  {
   "cell_type": "code",
   "execution_count": 13,
   "metadata": {},
   "outputs": [
    {
     "data": {
      "text/plain": [
       "'import requests\\n\\n\\nparams = {\\n    \"function\": \"EARNINGS\",\\n    \"symbol\": symbol,\\n    \"apikey\": API_KEY,\\n}\\n\\nresponse = requests.get(API_URL, params=params)\\ndata = response.json()\\n\\nfor quarter in data[\"quarterlyEarnings\"]:\\n    if quarter[\"fiscalDateEnding\"] >= \"2022-02-19\": # change the date to 180 days ago\\n        eps = quarter[\"reportedEPS\"]\\n        print(f\"EPS for quarter ending {quarter[\\'fiscalDateEnding\\']}: {eps}\")'"
      ]
     },
     "execution_count": 13,
     "metadata": {},
     "output_type": "execute_result"
    }
   ],
   "source": [
    "params = {\n",
    "    \"function\": \"EARNINGS\",\n",
    "    \"symbol\": symbol,\n",
    "    \"apikey\": API_KEY,\n",
    "}\n",
    "import time\n",
    "time.sleep(100)\n",
    "\n",
    "response = requests.get(API_URL, params=params)\n",
    "data = response.json()\n",
    "\n",
    "eps_data = []\n",
    "\n",
    "for quarter in data[\"quarterlyEarnings\"]:\n",
    "    if quarter[\"fiscalDateEnding\"] >= \"2022-02-19\": # change the date to 180 days ago\n",
    "        eps_data.append({\n",
    "            \"fiscalDateEnding\": quarter[\"fiscalDateEnding\"],\n",
    "            \"reportedEPS\": quarter[\"reportedEPS\"]\n",
    "        })\n",
    "\n",
    "df_eps = pd.DataFrame(eps_data)\n",
    "\n",
    "'''\n",
    "params = {\n",
    "    \"function\": \"OVERVIEW\",\n",
    "    \"symbol\": symbol,\n",
    "    \"apikey\": API_KEY,\n",
    "}\n",
    "\n",
    "response = requests.get(API_URL, params=params)\n",
    "\n",
    "data = response.json()\n",
    "\n",
    "eps = data[\"EPS\"]\n",
    "print(f\"Earnings per share of {symbol}: {eps}\")'''\n",
    "\n",
    "'''import requests\n",
    "\n",
    "\n",
    "params = {\n",
    "    \"function\": \"EARNINGS\",\n",
    "    \"symbol\": symbol,\n",
    "    \"apikey\": API_KEY,\n",
    "}\n",
    "\n",
    "response = requests.get(API_URL, params=params)\n",
    "data = response.json()\n",
    "\n",
    "for quarter in data[\"quarterlyEarnings\"]:\n",
    "    if quarter[\"fiscalDateEnding\"] >= \"2022-02-19\": # change the date to 180 days ago\n",
    "        eps = quarter[\"reportedEPS\"]\n",
    "        print(f\"EPS for quarter ending {quarter['fiscalDateEnding']}: {eps}\")'''\n"
   ]
  },
  {
   "attachments": {},
   "cell_type": "markdown",
   "metadata": {},
   "source": [
    "3. Price-to-earnings ratio (P/E ratio)\n",
    "\n",
    "    the price of a stock divided by its earnings per share, can be used to detect changes in a company's valuation"
   ]
  },
  {
   "cell_type": "code",
   "execution_count": 14,
   "metadata": {},
   "outputs": [],
   "source": [
    "# time_series = data['Time Series (Daily)']"
   ]
  },
  {
   "cell_type": "code",
   "execution_count": 15,
   "metadata": {},
   "outputs": [
    {
     "data": {
      "text/plain": [
       "'latest_date = list(data[\\'Time Series (Daily)\\'].keys())[0]\\npe_ratio = float(data[\\'Time Series (Daily)\\'][latest_date][\\'8. Price\\']) / float(data[\\'Time Series (Daily)\\'][latest_date][\\'4. Close\\'])\\nprint(f\"P/E Ratio on {latest_date}: {pe_ratio:.2f}\")'"
      ]
     },
     "execution_count": 15,
     "metadata": {},
     "output_type": "execute_result"
    }
   ],
   "source": [
    "'''latest_date = list(data['Time Series (Daily)'].keys())[0]\n",
    "pe_ratio = float(data['Time Series (Daily)'][latest_date]['8. Price']) / float(data['Time Series (Daily)'][latest_date]['4. Close'])\n",
    "print(f\"P/E Ratio on {latest_date}: {pe_ratio:.2f}\")'''"
   ]
  },
  {
   "cell_type": "code",
   "execution_count": 16,
   "metadata": {},
   "outputs": [
    {
     "ename": "KeyError",
     "evalue": "'PERatio'",
     "output_type": "error",
     "traceback": [
      "\u001b[0;31m---------------------------------------------------------------------------\u001b[0m",
      "\u001b[0;31mKeyError\u001b[0m                                  Traceback (most recent call last)",
      "\u001b[1;32m/Users/julialandsiedel/github/bouillon/api_requests.ipynb Cell 19\u001b[0m in \u001b[0;36m<cell line: 27>\u001b[0;34m()\u001b[0m\n\u001b[1;32m     <a href='vscode-notebook-cell:/Users/julialandsiedel/github/bouillon/api_requests.ipynb#X24sZmlsZQ%3D%3D?line=32'>33</a>\u001b[0m     response \u001b[39m=\u001b[39m requests\u001b[39m.\u001b[39mget(API_URL, params\u001b[39m=\u001b[39mparams)\n\u001b[1;32m     <a href='vscode-notebook-cell:/Users/julialandsiedel/github/bouillon/api_requests.ipynb#X24sZmlsZQ%3D%3D?line=33'>34</a>\u001b[0m     data \u001b[39m=\u001b[39m response\u001b[39m.\u001b[39mjson()\n\u001b[0;32m---> <a href='vscode-notebook-cell:/Users/julialandsiedel/github/bouillon/api_requests.ipynb#X24sZmlsZQ%3D%3D?line=34'>35</a>\u001b[0m     pe_ratio \u001b[39m=\u001b[39m data[\u001b[39m\"\u001b[39;49m\u001b[39mPERatio\u001b[39;49m\u001b[39m\"\u001b[39;49m]\n\u001b[1;32m     <a href='vscode-notebook-cell:/Users/julialandsiedel/github/bouillon/api_requests.ipynb#X24sZmlsZQ%3D%3D?line=35'>36</a>\u001b[0m     pe_ratios\u001b[39m.\u001b[39mappend({\n\u001b[1;32m     <a href='vscode-notebook-cell:/Users/julialandsiedel/github/bouillon/api_requests.ipynb#X24sZmlsZQ%3D%3D?line=36'>37</a>\u001b[0m         \u001b[39m'\u001b[39m\u001b[39mdate\u001b[39m\u001b[39m'\u001b[39m: date,\n\u001b[1;32m     <a href='vscode-notebook-cell:/Users/julialandsiedel/github/bouillon/api_requests.ipynb#X24sZmlsZQ%3D%3D?line=37'>38</a>\u001b[0m         \u001b[39m'\u001b[39m\u001b[39mpe_ratio\u001b[39m\u001b[39m'\u001b[39m: pe_ratio,\n\u001b[1;32m     <a href='vscode-notebook-cell:/Users/julialandsiedel/github/bouillon/api_requests.ipynb#X24sZmlsZQ%3D%3D?line=38'>39</a>\u001b[0m     })\n\u001b[1;32m     <a href='vscode-notebook-cell:/Users/julialandsiedel/github/bouillon/api_requests.ipynb#X24sZmlsZQ%3D%3D?line=40'>41</a>\u001b[0m df_pe \u001b[39m=\u001b[39m pd\u001b[39m.\u001b[39mDataFrame(pe_ratios)\n",
      "\u001b[0;31mKeyError\u001b[0m: 'PERatio'"
     ]
    }
   ],
   "source": [
    "\n",
    "params = {\n",
    "    \"function\": \"OVERVIEW\",\n",
    "    \"symbol\": symbol,\n",
    "    \"apikey\": API_KEY,\n",
    "}\n",
    "import time\n",
    "time.sleep(100)\n",
    "\n",
    "response = requests.get(API_URL, params=params)\n",
    "data = response.json()\n",
    "pe_ratio = data[\"PERatio\"]\n",
    "\n",
    "params = {\n",
    "    \"function\": \"TIME_SERIES_DAILY_ADJUSTED\",\n",
    "    \"symbol\": symbol,\n",
    "    \"outputsize\": \"compact\",\n",
    "    \"apikey\": API_KEY,\n",
    "}\n",
    "\n",
    "response = requests.get(API_URL, params=params)\n",
    "data = response.json()\n",
    "prices = data[\"Time Series (Daily)\"]\n",
    "\n",
    "last_180_days = list(prices)[:180]\n",
    "\n",
    "pe_ratios = []\n",
    "for date in last_180_days:\n",
    "    params = {\n",
    "        \"function\": \"OVERVIEW\",\n",
    "        \"symbol\": symbol,\n",
    "        \"apikey\": API_KEY,\n",
    "    }\n",
    "    response = requests.get(API_URL, params=params)\n",
    "    data = response.json()\n",
    "    pe_ratio = data[\"PERatio\"]\n",
    "    pe_ratios.append({\n",
    "        'date': date,\n",
    "        'pe_ratio': pe_ratio,\n",
    "    })\n",
    "\n",
    "df_pe = pd.DataFrame(pe_ratios)\n",
    "\n"
   ]
  },
  {
   "cell_type": "code",
   "execution_count": null,
   "metadata": {},
   "outputs": [],
   "source": [
    "df_pe.head(2)"
   ]
  },
  {
   "cell_type": "code",
   "execution_count": null,
   "metadata": {},
   "outputs": [
    {
     "name": "stdout",
     "output_type": "stream",
     "text": [
      "P/E ratio of AAPL: 25.9\n"
     ]
    }
   ],
   "source": [
    "'''\n",
    "params = {\n",
    "    \"function\": \"OVERVIEW\",\n",
    "    \"symbol\": symbol,\n",
    "    \"apikey\": API_KEY,\n",
    "}\n",
    "\n",
    "response = requests.get(API_URL, params=params)\n",
    "\n",
    "data = response.json()\n",
    "\n",
    "pe_ratio = data[\"PERatio\"]\n",
    "print(f\"P/E ratio of {symbol}: {pe_ratio}\")\n",
    "'''\n"
   ]
  },
  {
   "attachments": {},
   "cell_type": "markdown",
   "metadata": {},
   "source": [
    "4. Dividend yield\n",
    "\n",
    "    percentage of a company's stock price paid out as dividends, can be used to detect changes in a company's financial health\n",
    "\n"
   ]
  },
  {
   "cell_type": "code",
   "execution_count": null,
   "metadata": {},
   "outputs": [
    {
     "name": "stdout",
     "output_type": "stream",
     "text": [
      "WARNING: No decryption keys could be extracted from JS file. Falling back to backup decrypt methods.\n"
     ]
    },
    {
     "ename": "Exception",
     "evalue": "yfinance failed to decrypt Yahoo data response",
     "output_type": "error",
     "traceback": [
      "\u001b[0;31m---------------------------------------------------------------------------\u001b[0m",
      "\u001b[0;31mException\u001b[0m                                 Traceback (most recent call last)",
      "\u001b[1;32m/Users/julialandsiedel/github/bouillon/api_requests.ipynb Cell 23\u001b[0m in \u001b[0;36m<cell line: 5>\u001b[0;34m()\u001b[0m\n\u001b[1;32m      <a href='vscode-notebook-cell:/Users/julialandsiedel/github/bouillon/api_requests.ipynb#X23sZmlsZQ%3D%3D?line=2'>3</a>\u001b[0m symbol \u001b[39m=\u001b[39m \u001b[39m'\u001b[39m\u001b[39mAAPL\u001b[39m\u001b[39m'\u001b[39m\n\u001b[1;32m      <a href='vscode-notebook-cell:/Users/julialandsiedel/github/bouillon/api_requests.ipynb#X23sZmlsZQ%3D%3D?line=3'>4</a>\u001b[0m stock \u001b[39m=\u001b[39m yf\u001b[39m.\u001b[39mTicker(symbol)\n\u001b[0;32m----> <a href='vscode-notebook-cell:/Users/julialandsiedel/github/bouillon/api_requests.ipynb#X23sZmlsZQ%3D%3D?line=4'>5</a>\u001b[0m dividend_yield \u001b[39m=\u001b[39m stock\u001b[39m.\u001b[39;49minfo[\u001b[39m'\u001b[39m\u001b[39mdividendYield\u001b[39m\u001b[39m'\u001b[39m]\n\u001b[1;32m      <a href='vscode-notebook-cell:/Users/julialandsiedel/github/bouillon/api_requests.ipynb#X23sZmlsZQ%3D%3D?line=5'>6</a>\u001b[0m \u001b[39mprint\u001b[39m(\u001b[39mf\u001b[39m\u001b[39m\"\u001b[39m\u001b[39mDividend Yield: \u001b[39m\u001b[39m{\u001b[39;00mdividend_yield\u001b[39m}\u001b[39;00m\u001b[39m\"\u001b[39m)\n",
      "File \u001b[0;32m/usr/local/lib/python3.9/site-packages/yfinance/ticker.py:138\u001b[0m, in \u001b[0;36mTicker.info\u001b[0;34m(self)\u001b[0m\n\u001b[1;32m    136\u001b[0m \u001b[39m@property\u001b[39m\n\u001b[1;32m    137\u001b[0m \u001b[39mdef\u001b[39;00m \u001b[39minfo\u001b[39m(\u001b[39mself\u001b[39m) \u001b[39m-\u001b[39m\u001b[39m>\u001b[39m \u001b[39mdict\u001b[39m:\n\u001b[0;32m--> 138\u001b[0m     \u001b[39mreturn\u001b[39;00m \u001b[39mself\u001b[39;49m\u001b[39m.\u001b[39;49mget_info()\n",
      "File \u001b[0;32m/usr/local/lib/python3.9/site-packages/yfinance/base.py:1462\u001b[0m, in \u001b[0;36mTickerBase.get_info\u001b[0;34m(self, proxy)\u001b[0m\n\u001b[1;32m   1460\u001b[0m \u001b[39mdef\u001b[39;00m \u001b[39mget_info\u001b[39m(\u001b[39mself\u001b[39m, proxy\u001b[39m=\u001b[39m\u001b[39mNone\u001b[39;00m) \u001b[39m-\u001b[39m\u001b[39m>\u001b[39m \u001b[39mdict\u001b[39m:\n\u001b[1;32m   1461\u001b[0m     \u001b[39mself\u001b[39m\u001b[39m.\u001b[39m_quote\u001b[39m.\u001b[39mproxy \u001b[39m=\u001b[39m proxy\n\u001b[0;32m-> 1462\u001b[0m     data \u001b[39m=\u001b[39m \u001b[39mself\u001b[39;49m\u001b[39m.\u001b[39;49m_quote\u001b[39m.\u001b[39;49minfo\n\u001b[1;32m   1463\u001b[0m     \u001b[39mreturn\u001b[39;00m data\n",
      "File \u001b[0;32m/usr/local/lib/python3.9/site-packages/yfinance/scrapers/quote.py:95\u001b[0m, in \u001b[0;36mQuote.info\u001b[0;34m(self)\u001b[0m\n\u001b[1;32m     92\u001b[0m \u001b[39m@property\u001b[39m\n\u001b[1;32m     93\u001b[0m \u001b[39mdef\u001b[39;00m \u001b[39minfo\u001b[39m(\u001b[39mself\u001b[39m) \u001b[39m-\u001b[39m\u001b[39m>\u001b[39m \u001b[39mdict\u001b[39m:\n\u001b[1;32m     94\u001b[0m     \u001b[39mif\u001b[39;00m \u001b[39mself\u001b[39m\u001b[39m.\u001b[39m_info \u001b[39mis\u001b[39;00m \u001b[39mNone\u001b[39;00m:\n\u001b[0;32m---> 95\u001b[0m         \u001b[39mself\u001b[39;49m\u001b[39m.\u001b[39;49m_scrape(\u001b[39mself\u001b[39;49m\u001b[39m.\u001b[39;49mproxy)\n\u001b[1;32m     96\u001b[0m         \u001b[39mself\u001b[39m\u001b[39m.\u001b[39m_scrape_complementary(\u001b[39mself\u001b[39m\u001b[39m.\u001b[39mproxy)\n\u001b[1;32m     98\u001b[0m     \u001b[39mreturn\u001b[39;00m \u001b[39mself\u001b[39m\u001b[39m.\u001b[39m_info\n",
      "File \u001b[0;32m/usr/local/lib/python3.9/site-packages/yfinance/scrapers/quote.py:124\u001b[0m, in \u001b[0;36mQuote._scrape\u001b[0;34m(self, proxy)\u001b[0m\n\u001b[1;32m    121\u001b[0m \u001b[39mself\u001b[39m\u001b[39m.\u001b[39m_already_scraped \u001b[39m=\u001b[39m \u001b[39mTrue\u001b[39;00m\n\u001b[1;32m    123\u001b[0m \u001b[39m# get info and sustainability\u001b[39;00m\n\u001b[0;32m--> 124\u001b[0m json_data \u001b[39m=\u001b[39m \u001b[39mself\u001b[39;49m\u001b[39m.\u001b[39;49m_data\u001b[39m.\u001b[39;49mget_json_data_stores(proxy\u001b[39m=\u001b[39;49mproxy)\n\u001b[1;32m    125\u001b[0m \u001b[39mtry\u001b[39;00m:\n\u001b[1;32m    126\u001b[0m     quote_summary_store \u001b[39m=\u001b[39m json_data[\u001b[39m'\u001b[39m\u001b[39mQuoteSummaryStore\u001b[39m\u001b[39m'\u001b[39m]\n",
      "File \u001b[0;32m/usr/local/lib/python3.9/site-packages/yfinance/data.py:41\u001b[0m, in \u001b[0;36mlru_cache_freezeargs.<locals>.wrapped\u001b[0;34m(*args, **kwargs)\u001b[0m\n\u001b[1;32m     39\u001b[0m args \u001b[39m=\u001b[39m \u001b[39mtuple\u001b[39m([\u001b[39mtuple\u001b[39m(arg) \u001b[39mif\u001b[39;00m \u001b[39misinstance\u001b[39m(arg, \u001b[39mlist\u001b[39m) \u001b[39melse\u001b[39;00m arg \u001b[39mfor\u001b[39;00m arg \u001b[39min\u001b[39;00m args])\n\u001b[1;32m     40\u001b[0m kwargs \u001b[39m=\u001b[39m {k: \u001b[39mtuple\u001b[39m(v) \u001b[39mif\u001b[39;00m \u001b[39misinstance\u001b[39m(v, \u001b[39mlist\u001b[39m) \u001b[39melse\u001b[39;00m v \u001b[39mfor\u001b[39;00m k, v \u001b[39min\u001b[39;00m kwargs\u001b[39m.\u001b[39mitems()}\n\u001b[0;32m---> 41\u001b[0m \u001b[39mreturn\u001b[39;00m func(\u001b[39m*\u001b[39;49margs, \u001b[39m*\u001b[39;49m\u001b[39m*\u001b[39;49mkwargs)\n",
      "File \u001b[0;32m/usr/local/lib/python3.9/site-packages/yfinance/data.py:311\u001b[0m, in \u001b[0;36mTickerData.get_json_data_stores\u001b[0;34m(self, sub_page, proxy)\u001b[0m\n\u001b[1;32m    308\u001b[0m     keys \u001b[39m+\u001b[39m\u001b[39m=\u001b[39m response_gh\u001b[39m.\u001b[39mtext\u001b[39m.\u001b[39msplitlines()\n\u001b[1;32m    310\u001b[0m \u001b[39m# Decrypt!\u001b[39;00m\n\u001b[0;32m--> 311\u001b[0m stores \u001b[39m=\u001b[39m decrypt_cryptojs_aes_stores(data, keys)\n\u001b[1;32m    312\u001b[0m \u001b[39mif\u001b[39;00m stores \u001b[39mis\u001b[39;00m \u001b[39mNone\u001b[39;00m:\n\u001b[1;32m    313\u001b[0m     \u001b[39m# Maybe Yahoo returned old format, not encrypted\u001b[39;00m\n\u001b[1;32m    314\u001b[0m     \u001b[39mif\u001b[39;00m \u001b[39m\"\u001b[39m\u001b[39mcontext\u001b[39m\u001b[39m\"\u001b[39m \u001b[39min\u001b[39;00m data \u001b[39mand\u001b[39;00m \u001b[39m\"\u001b[39m\u001b[39mdispatcher\u001b[39m\u001b[39m\"\u001b[39m \u001b[39min\u001b[39;00m data[\u001b[39m\"\u001b[39m\u001b[39mcontext\u001b[39m\u001b[39m\"\u001b[39m]:\n",
      "File \u001b[0;32m/usr/local/lib/python3.9/site-packages/yfinance/data.py:162\u001b[0m, in \u001b[0;36mdecrypt_cryptojs_aes_stores\u001b[0;34m(data, keys)\u001b[0m\n\u001b[1;32m    160\u001b[0m             \u001b[39mpass\u001b[39;00m\n\u001b[1;32m    161\u001b[0m     \u001b[39mif\u001b[39;00m \u001b[39mnot\u001b[39;00m success:\n\u001b[0;32m--> 162\u001b[0m         \u001b[39mraise\u001b[39;00m \u001b[39mException\u001b[39;00m(\u001b[39m\"\u001b[39m\u001b[39myfinance failed to decrypt Yahoo data response\u001b[39m\u001b[39m\"\u001b[39m)\n\u001b[1;32m    164\u001b[0m decoded_stores \u001b[39m=\u001b[39m json\u001b[39m.\u001b[39mloads(plaintext)\n\u001b[1;32m    165\u001b[0m \u001b[39mreturn\u001b[39;00m decoded_stores\n",
      "\u001b[0;31mException\u001b[0m: yfinance failed to decrypt Yahoo data response"
     ]
    }
   ],
   "source": [
    "import yfinance as yf\n",
    "\n",
    "symbol = 'AAPL'\n",
    "stock = yf.Ticker(symbol)\n",
    "dividend_yield = stock.info['dividendYield']\n",
    "print(f\"Dividend Yield: {dividend_yield}\")"
   ]
  },
  {
   "cell_type": "code",
   "execution_count": null,
   "metadata": {},
   "outputs": [
    {
     "name": "stderr",
     "output_type": "stream",
     "text": [
      "/var/folders/gr/77dww1vx4k945hzph39jwlc40000gn/T/ipykernel_16222/4157445135.py:31: FutureWarning: The frame.append method is deprecated and will be removed from pandas in a future version. Use pandas.concat instead.\n",
      "  df = df.append({'date': date, 'div_yield': div_yield_for_date}, ignore_index=True)\n",
      "/var/folders/gr/77dww1vx4k945hzph39jwlc40000gn/T/ipykernel_16222/4157445135.py:31: FutureWarning: The frame.append method is deprecated and will be removed from pandas in a future version. Use pandas.concat instead.\n",
      "  df = df.append({'date': date, 'div_yield': div_yield_for_date}, ignore_index=True)\n",
      "/var/folders/gr/77dww1vx4k945hzph39jwlc40000gn/T/ipykernel_16222/4157445135.py:31: FutureWarning: The frame.append method is deprecated and will be removed from pandas in a future version. Use pandas.concat instead.\n",
      "  df = df.append({'date': date, 'div_yield': div_yield_for_date}, ignore_index=True)\n",
      "/var/folders/gr/77dww1vx4k945hzph39jwlc40000gn/T/ipykernel_16222/4157445135.py:31: FutureWarning: The frame.append method is deprecated and will be removed from pandas in a future version. Use pandas.concat instead.\n",
      "  df = df.append({'date': date, 'div_yield': div_yield_for_date}, ignore_index=True)\n",
      "/var/folders/gr/77dww1vx4k945hzph39jwlc40000gn/T/ipykernel_16222/4157445135.py:31: FutureWarning: The frame.append method is deprecated and will be removed from pandas in a future version. Use pandas.concat instead.\n",
      "  df = df.append({'date': date, 'div_yield': div_yield_for_date}, ignore_index=True)\n",
      "/var/folders/gr/77dww1vx4k945hzph39jwlc40000gn/T/ipykernel_16222/4157445135.py:31: FutureWarning: The frame.append method is deprecated and will be removed from pandas in a future version. Use pandas.concat instead.\n",
      "  df = df.append({'date': date, 'div_yield': div_yield_for_date}, ignore_index=True)\n",
      "/var/folders/gr/77dww1vx4k945hzph39jwlc40000gn/T/ipykernel_16222/4157445135.py:31: FutureWarning: The frame.append method is deprecated and will be removed from pandas in a future version. Use pandas.concat instead.\n",
      "  df = df.append({'date': date, 'div_yield': div_yield_for_date}, ignore_index=True)\n",
      "/var/folders/gr/77dww1vx4k945hzph39jwlc40000gn/T/ipykernel_16222/4157445135.py:31: FutureWarning: The frame.append method is deprecated and will be removed from pandas in a future version. Use pandas.concat instead.\n",
      "  df = df.append({'date': date, 'div_yield': div_yield_for_date}, ignore_index=True)\n",
      "/var/folders/gr/77dww1vx4k945hzph39jwlc40000gn/T/ipykernel_16222/4157445135.py:31: FutureWarning: The frame.append method is deprecated and will be removed from pandas in a future version. Use pandas.concat instead.\n",
      "  df = df.append({'date': date, 'div_yield': div_yield_for_date}, ignore_index=True)\n",
      "/var/folders/gr/77dww1vx4k945hzph39jwlc40000gn/T/ipykernel_16222/4157445135.py:31: FutureWarning: The frame.append method is deprecated and will be removed from pandas in a future version. Use pandas.concat instead.\n",
      "  df = df.append({'date': date, 'div_yield': div_yield_for_date}, ignore_index=True)\n",
      "/var/folders/gr/77dww1vx4k945hzph39jwlc40000gn/T/ipykernel_16222/4157445135.py:31: FutureWarning: The frame.append method is deprecated and will be removed from pandas in a future version. Use pandas.concat instead.\n",
      "  df = df.append({'date': date, 'div_yield': div_yield_for_date}, ignore_index=True)\n",
      "/var/folders/gr/77dww1vx4k945hzph39jwlc40000gn/T/ipykernel_16222/4157445135.py:31: FutureWarning: The frame.append method is deprecated and will be removed from pandas in a future version. Use pandas.concat instead.\n",
      "  df = df.append({'date': date, 'div_yield': div_yield_for_date}, ignore_index=True)\n",
      "/var/folders/gr/77dww1vx4k945hzph39jwlc40000gn/T/ipykernel_16222/4157445135.py:31: FutureWarning: The frame.append method is deprecated and will be removed from pandas in a future version. Use pandas.concat instead.\n",
      "  df = df.append({'date': date, 'div_yield': div_yield_for_date}, ignore_index=True)\n",
      "/var/folders/gr/77dww1vx4k945hzph39jwlc40000gn/T/ipykernel_16222/4157445135.py:31: FutureWarning: The frame.append method is deprecated and will be removed from pandas in a future version. Use pandas.concat instead.\n",
      "  df = df.append({'date': date, 'div_yield': div_yield_for_date}, ignore_index=True)\n",
      "/var/folders/gr/77dww1vx4k945hzph39jwlc40000gn/T/ipykernel_16222/4157445135.py:31: FutureWarning: The frame.append method is deprecated and will be removed from pandas in a future version. Use pandas.concat instead.\n",
      "  df = df.append({'date': date, 'div_yield': div_yield_for_date}, ignore_index=True)\n",
      "/var/folders/gr/77dww1vx4k945hzph39jwlc40000gn/T/ipykernel_16222/4157445135.py:31: FutureWarning: The frame.append method is deprecated and will be removed from pandas in a future version. Use pandas.concat instead.\n",
      "  df = df.append({'date': date, 'div_yield': div_yield_for_date}, ignore_index=True)\n",
      "/var/folders/gr/77dww1vx4k945hzph39jwlc40000gn/T/ipykernel_16222/4157445135.py:31: FutureWarning: The frame.append method is deprecated and will be removed from pandas in a future version. Use pandas.concat instead.\n",
      "  df = df.append({'date': date, 'div_yield': div_yield_for_date}, ignore_index=True)\n",
      "/var/folders/gr/77dww1vx4k945hzph39jwlc40000gn/T/ipykernel_16222/4157445135.py:31: FutureWarning: The frame.append method is deprecated and will be removed from pandas in a future version. Use pandas.concat instead.\n",
      "  df = df.append({'date': date, 'div_yield': div_yield_for_date}, ignore_index=True)\n",
      "/var/folders/gr/77dww1vx4k945hzph39jwlc40000gn/T/ipykernel_16222/4157445135.py:31: FutureWarning: The frame.append method is deprecated and will be removed from pandas in a future version. Use pandas.concat instead.\n",
      "  df = df.append({'date': date, 'div_yield': div_yield_for_date}, ignore_index=True)\n",
      "/var/folders/gr/77dww1vx4k945hzph39jwlc40000gn/T/ipykernel_16222/4157445135.py:31: FutureWarning: The frame.append method is deprecated and will be removed from pandas in a future version. Use pandas.concat instead.\n",
      "  df = df.append({'date': date, 'div_yield': div_yield_for_date}, ignore_index=True)\n",
      "/var/folders/gr/77dww1vx4k945hzph39jwlc40000gn/T/ipykernel_16222/4157445135.py:31: FutureWarning: The frame.append method is deprecated and will be removed from pandas in a future version. Use pandas.concat instead.\n",
      "  df = df.append({'date': date, 'div_yield': div_yield_for_date}, ignore_index=True)\n",
      "/var/folders/gr/77dww1vx4k945hzph39jwlc40000gn/T/ipykernel_16222/4157445135.py:31: FutureWarning: The frame.append method is deprecated and will be removed from pandas in a future version. Use pandas.concat instead.\n",
      "  df = df.append({'date': date, 'div_yield': div_yield_for_date}, ignore_index=True)\n",
      "/var/folders/gr/77dww1vx4k945hzph39jwlc40000gn/T/ipykernel_16222/4157445135.py:31: FutureWarning: The frame.append method is deprecated and will be removed from pandas in a future version. Use pandas.concat instead.\n",
      "  df = df.append({'date': date, 'div_yield': div_yield_for_date}, ignore_index=True)\n",
      "/var/folders/gr/77dww1vx4k945hzph39jwlc40000gn/T/ipykernel_16222/4157445135.py:31: FutureWarning: The frame.append method is deprecated and will be removed from pandas in a future version. Use pandas.concat instead.\n",
      "  df = df.append({'date': date, 'div_yield': div_yield_for_date}, ignore_index=True)\n",
      "/var/folders/gr/77dww1vx4k945hzph39jwlc40000gn/T/ipykernel_16222/4157445135.py:31: FutureWarning: The frame.append method is deprecated and will be removed from pandas in a future version. Use pandas.concat instead.\n",
      "  df = df.append({'date': date, 'div_yield': div_yield_for_date}, ignore_index=True)\n",
      "/var/folders/gr/77dww1vx4k945hzph39jwlc40000gn/T/ipykernel_16222/4157445135.py:31: FutureWarning: The frame.append method is deprecated and will be removed from pandas in a future version. Use pandas.concat instead.\n",
      "  df = df.append({'date': date, 'div_yield': div_yield_for_date}, ignore_index=True)\n",
      "/var/folders/gr/77dww1vx4k945hzph39jwlc40000gn/T/ipykernel_16222/4157445135.py:31: FutureWarning: The frame.append method is deprecated and will be removed from pandas in a future version. Use pandas.concat instead.\n",
      "  df = df.append({'date': date, 'div_yield': div_yield_for_date}, ignore_index=True)\n",
      "/var/folders/gr/77dww1vx4k945hzph39jwlc40000gn/T/ipykernel_16222/4157445135.py:31: FutureWarning: The frame.append method is deprecated and will be removed from pandas in a future version. Use pandas.concat instead.\n",
      "  df = df.append({'date': date, 'div_yield': div_yield_for_date}, ignore_index=True)\n",
      "/var/folders/gr/77dww1vx4k945hzph39jwlc40000gn/T/ipykernel_16222/4157445135.py:31: FutureWarning: The frame.append method is deprecated and will be removed from pandas in a future version. Use pandas.concat instead.\n",
      "  df = df.append({'date': date, 'div_yield': div_yield_for_date}, ignore_index=True)\n",
      "/var/folders/gr/77dww1vx4k945hzph39jwlc40000gn/T/ipykernel_16222/4157445135.py:31: FutureWarning: The frame.append method is deprecated and will be removed from pandas in a future version. Use pandas.concat instead.\n",
      "  df = df.append({'date': date, 'div_yield': div_yield_for_date}, ignore_index=True)\n",
      "/var/folders/gr/77dww1vx4k945hzph39jwlc40000gn/T/ipykernel_16222/4157445135.py:31: FutureWarning: The frame.append method is deprecated and will be removed from pandas in a future version. Use pandas.concat instead.\n",
      "  df = df.append({'date': date, 'div_yield': div_yield_for_date}, ignore_index=True)\n",
      "/var/folders/gr/77dww1vx4k945hzph39jwlc40000gn/T/ipykernel_16222/4157445135.py:31: FutureWarning: The frame.append method is deprecated and will be removed from pandas in a future version. Use pandas.concat instead.\n",
      "  df = df.append({'date': date, 'div_yield': div_yield_for_date}, ignore_index=True)\n",
      "/var/folders/gr/77dww1vx4k945hzph39jwlc40000gn/T/ipykernel_16222/4157445135.py:31: FutureWarning: The frame.append method is deprecated and will be removed from pandas in a future version. Use pandas.concat instead.\n",
      "  df = df.append({'date': date, 'div_yield': div_yield_for_date}, ignore_index=True)\n",
      "/var/folders/gr/77dww1vx4k945hzph39jwlc40000gn/T/ipykernel_16222/4157445135.py:31: FutureWarning: The frame.append method is deprecated and will be removed from pandas in a future version. Use pandas.concat instead.\n",
      "  df = df.append({'date': date, 'div_yield': div_yield_for_date}, ignore_index=True)\n",
      "/var/folders/gr/77dww1vx4k945hzph39jwlc40000gn/T/ipykernel_16222/4157445135.py:31: FutureWarning: The frame.append method is deprecated and will be removed from pandas in a future version. Use pandas.concat instead.\n",
      "  df = df.append({'date': date, 'div_yield': div_yield_for_date}, ignore_index=True)\n",
      "/var/folders/gr/77dww1vx4k945hzph39jwlc40000gn/T/ipykernel_16222/4157445135.py:31: FutureWarning: The frame.append method is deprecated and will be removed from pandas in a future version. Use pandas.concat instead.\n",
      "  df = df.append({'date': date, 'div_yield': div_yield_for_date}, ignore_index=True)\n",
      "/var/folders/gr/77dww1vx4k945hzph39jwlc40000gn/T/ipykernel_16222/4157445135.py:31: FutureWarning: The frame.append method is deprecated and will be removed from pandas in a future version. Use pandas.concat instead.\n",
      "  df = df.append({'date': date, 'div_yield': div_yield_for_date}, ignore_index=True)\n",
      "/var/folders/gr/77dww1vx4k945hzph39jwlc40000gn/T/ipykernel_16222/4157445135.py:31: FutureWarning: The frame.append method is deprecated and will be removed from pandas in a future version. Use pandas.concat instead.\n",
      "  df = df.append({'date': date, 'div_yield': div_yield_for_date}, ignore_index=True)\n",
      "/var/folders/gr/77dww1vx4k945hzph39jwlc40000gn/T/ipykernel_16222/4157445135.py:31: FutureWarning: The frame.append method is deprecated and will be removed from pandas in a future version. Use pandas.concat instead.\n",
      "  df = df.append({'date': date, 'div_yield': div_yield_for_date}, ignore_index=True)\n",
      "/var/folders/gr/77dww1vx4k945hzph39jwlc40000gn/T/ipykernel_16222/4157445135.py:31: FutureWarning: The frame.append method is deprecated and will be removed from pandas in a future version. Use pandas.concat instead.\n",
      "  df = df.append({'date': date, 'div_yield': div_yield_for_date}, ignore_index=True)\n",
      "/var/folders/gr/77dww1vx4k945hzph39jwlc40000gn/T/ipykernel_16222/4157445135.py:31: FutureWarning: The frame.append method is deprecated and will be removed from pandas in a future version. Use pandas.concat instead.\n",
      "  df = df.append({'date': date, 'div_yield': div_yield_for_date}, ignore_index=True)\n",
      "/var/folders/gr/77dww1vx4k945hzph39jwlc40000gn/T/ipykernel_16222/4157445135.py:31: FutureWarning: The frame.append method is deprecated and will be removed from pandas in a future version. Use pandas.concat instead.\n",
      "  df = df.append({'date': date, 'div_yield': div_yield_for_date}, ignore_index=True)\n",
      "/var/folders/gr/77dww1vx4k945hzph39jwlc40000gn/T/ipykernel_16222/4157445135.py:31: FutureWarning: The frame.append method is deprecated and will be removed from pandas in a future version. Use pandas.concat instead.\n",
      "  df = df.append({'date': date, 'div_yield': div_yield_for_date}, ignore_index=True)\n",
      "/var/folders/gr/77dww1vx4k945hzph39jwlc40000gn/T/ipykernel_16222/4157445135.py:31: FutureWarning: The frame.append method is deprecated and will be removed from pandas in a future version. Use pandas.concat instead.\n",
      "  df = df.append({'date': date, 'div_yield': div_yield_for_date}, ignore_index=True)\n",
      "/var/folders/gr/77dww1vx4k945hzph39jwlc40000gn/T/ipykernel_16222/4157445135.py:31: FutureWarning: The frame.append method is deprecated and will be removed from pandas in a future version. Use pandas.concat instead.\n",
      "  df = df.append({'date': date, 'div_yield': div_yield_for_date}, ignore_index=True)\n",
      "/var/folders/gr/77dww1vx4k945hzph39jwlc40000gn/T/ipykernel_16222/4157445135.py:31: FutureWarning: The frame.append method is deprecated and will be removed from pandas in a future version. Use pandas.concat instead.\n",
      "  df = df.append({'date': date, 'div_yield': div_yield_for_date}, ignore_index=True)\n",
      "/var/folders/gr/77dww1vx4k945hzph39jwlc40000gn/T/ipykernel_16222/4157445135.py:31: FutureWarning: The frame.append method is deprecated and will be removed from pandas in a future version. Use pandas.concat instead.\n",
      "  df = df.append({'date': date, 'div_yield': div_yield_for_date}, ignore_index=True)\n",
      "/var/folders/gr/77dww1vx4k945hzph39jwlc40000gn/T/ipykernel_16222/4157445135.py:31: FutureWarning: The frame.append method is deprecated and will be removed from pandas in a future version. Use pandas.concat instead.\n",
      "  df = df.append({'date': date, 'div_yield': div_yield_for_date}, ignore_index=True)\n",
      "/var/folders/gr/77dww1vx4k945hzph39jwlc40000gn/T/ipykernel_16222/4157445135.py:31: FutureWarning: The frame.append method is deprecated and will be removed from pandas in a future version. Use pandas.concat instead.\n",
      "  df = df.append({'date': date, 'div_yield': div_yield_for_date}, ignore_index=True)\n",
      "/var/folders/gr/77dww1vx4k945hzph39jwlc40000gn/T/ipykernel_16222/4157445135.py:31: FutureWarning: The frame.append method is deprecated and will be removed from pandas in a future version. Use pandas.concat instead.\n",
      "  df = df.append({'date': date, 'div_yield': div_yield_for_date}, ignore_index=True)\n",
      "/var/folders/gr/77dww1vx4k945hzph39jwlc40000gn/T/ipykernel_16222/4157445135.py:31: FutureWarning: The frame.append method is deprecated and will be removed from pandas in a future version. Use pandas.concat instead.\n",
      "  df = df.append({'date': date, 'div_yield': div_yield_for_date}, ignore_index=True)\n",
      "/var/folders/gr/77dww1vx4k945hzph39jwlc40000gn/T/ipykernel_16222/4157445135.py:31: FutureWarning: The frame.append method is deprecated and will be removed from pandas in a future version. Use pandas.concat instead.\n",
      "  df = df.append({'date': date, 'div_yield': div_yield_for_date}, ignore_index=True)\n",
      "/var/folders/gr/77dww1vx4k945hzph39jwlc40000gn/T/ipykernel_16222/4157445135.py:31: FutureWarning: The frame.append method is deprecated and will be removed from pandas in a future version. Use pandas.concat instead.\n",
      "  df = df.append({'date': date, 'div_yield': div_yield_for_date}, ignore_index=True)\n",
      "/var/folders/gr/77dww1vx4k945hzph39jwlc40000gn/T/ipykernel_16222/4157445135.py:31: FutureWarning: The frame.append method is deprecated and will be removed from pandas in a future version. Use pandas.concat instead.\n",
      "  df = df.append({'date': date, 'div_yield': div_yield_for_date}, ignore_index=True)\n",
      "/var/folders/gr/77dww1vx4k945hzph39jwlc40000gn/T/ipykernel_16222/4157445135.py:31: FutureWarning: The frame.append method is deprecated and will be removed from pandas in a future version. Use pandas.concat instead.\n",
      "  df = df.append({'date': date, 'div_yield': div_yield_for_date}, ignore_index=True)\n",
      "/var/folders/gr/77dww1vx4k945hzph39jwlc40000gn/T/ipykernel_16222/4157445135.py:31: FutureWarning: The frame.append method is deprecated and will be removed from pandas in a future version. Use pandas.concat instead.\n",
      "  df = df.append({'date': date, 'div_yield': div_yield_for_date}, ignore_index=True)\n",
      "/var/folders/gr/77dww1vx4k945hzph39jwlc40000gn/T/ipykernel_16222/4157445135.py:31: FutureWarning: The frame.append method is deprecated and will be removed from pandas in a future version. Use pandas.concat instead.\n",
      "  df = df.append({'date': date, 'div_yield': div_yield_for_date}, ignore_index=True)\n",
      "/var/folders/gr/77dww1vx4k945hzph39jwlc40000gn/T/ipykernel_16222/4157445135.py:31: FutureWarning: The frame.append method is deprecated and will be removed from pandas in a future version. Use pandas.concat instead.\n",
      "  df = df.append({'date': date, 'div_yield': div_yield_for_date}, ignore_index=True)\n",
      "/var/folders/gr/77dww1vx4k945hzph39jwlc40000gn/T/ipykernel_16222/4157445135.py:31: FutureWarning: The frame.append method is deprecated and will be removed from pandas in a future version. Use pandas.concat instead.\n",
      "  df = df.append({'date': date, 'div_yield': div_yield_for_date}, ignore_index=True)\n",
      "/var/folders/gr/77dww1vx4k945hzph39jwlc40000gn/T/ipykernel_16222/4157445135.py:31: FutureWarning: The frame.append method is deprecated and will be removed from pandas in a future version. Use pandas.concat instead.\n",
      "  df = df.append({'date': date, 'div_yield': div_yield_for_date}, ignore_index=True)\n",
      "/var/folders/gr/77dww1vx4k945hzph39jwlc40000gn/T/ipykernel_16222/4157445135.py:31: FutureWarning: The frame.append method is deprecated and will be removed from pandas in a future version. Use pandas.concat instead.\n",
      "  df = df.append({'date': date, 'div_yield': div_yield_for_date}, ignore_index=True)\n",
      "/var/folders/gr/77dww1vx4k945hzph39jwlc40000gn/T/ipykernel_16222/4157445135.py:31: FutureWarning: The frame.append method is deprecated and will be removed from pandas in a future version. Use pandas.concat instead.\n",
      "  df = df.append({'date': date, 'div_yield': div_yield_for_date}, ignore_index=True)\n",
      "/var/folders/gr/77dww1vx4k945hzph39jwlc40000gn/T/ipykernel_16222/4157445135.py:31: FutureWarning: The frame.append method is deprecated and will be removed from pandas in a future version. Use pandas.concat instead.\n",
      "  df = df.append({'date': date, 'div_yield': div_yield_for_date}, ignore_index=True)\n",
      "/var/folders/gr/77dww1vx4k945hzph39jwlc40000gn/T/ipykernel_16222/4157445135.py:31: FutureWarning: The frame.append method is deprecated and will be removed from pandas in a future version. Use pandas.concat instead.\n",
      "  df = df.append({'date': date, 'div_yield': div_yield_for_date}, ignore_index=True)\n",
      "/var/folders/gr/77dww1vx4k945hzph39jwlc40000gn/T/ipykernel_16222/4157445135.py:31: FutureWarning: The frame.append method is deprecated and will be removed from pandas in a future version. Use pandas.concat instead.\n",
      "  df = df.append({'date': date, 'div_yield': div_yield_for_date}, ignore_index=True)\n",
      "/var/folders/gr/77dww1vx4k945hzph39jwlc40000gn/T/ipykernel_16222/4157445135.py:31: FutureWarning: The frame.append method is deprecated and will be removed from pandas in a future version. Use pandas.concat instead.\n",
      "  df = df.append({'date': date, 'div_yield': div_yield_for_date}, ignore_index=True)\n",
      "/var/folders/gr/77dww1vx4k945hzph39jwlc40000gn/T/ipykernel_16222/4157445135.py:31: FutureWarning: The frame.append method is deprecated and will be removed from pandas in a future version. Use pandas.concat instead.\n",
      "  df = df.append({'date': date, 'div_yield': div_yield_for_date}, ignore_index=True)\n",
      "/var/folders/gr/77dww1vx4k945hzph39jwlc40000gn/T/ipykernel_16222/4157445135.py:31: FutureWarning: The frame.append method is deprecated and will be removed from pandas in a future version. Use pandas.concat instead.\n",
      "  df = df.append({'date': date, 'div_yield': div_yield_for_date}, ignore_index=True)\n",
      "/var/folders/gr/77dww1vx4k945hzph39jwlc40000gn/T/ipykernel_16222/4157445135.py:31: FutureWarning: The frame.append method is deprecated and will be removed from pandas in a future version. Use pandas.concat instead.\n",
      "  df = df.append({'date': date, 'div_yield': div_yield_for_date}, ignore_index=True)\n",
      "/var/folders/gr/77dww1vx4k945hzph39jwlc40000gn/T/ipykernel_16222/4157445135.py:31: FutureWarning: The frame.append method is deprecated and will be removed from pandas in a future version. Use pandas.concat instead.\n",
      "  df = df.append({'date': date, 'div_yield': div_yield_for_date}, ignore_index=True)\n",
      "/var/folders/gr/77dww1vx4k945hzph39jwlc40000gn/T/ipykernel_16222/4157445135.py:31: FutureWarning: The frame.append method is deprecated and will be removed from pandas in a future version. Use pandas.concat instead.\n",
      "  df = df.append({'date': date, 'div_yield': div_yield_for_date}, ignore_index=True)\n",
      "/var/folders/gr/77dww1vx4k945hzph39jwlc40000gn/T/ipykernel_16222/4157445135.py:31: FutureWarning: The frame.append method is deprecated and will be removed from pandas in a future version. Use pandas.concat instead.\n",
      "  df = df.append({'date': date, 'div_yield': div_yield_for_date}, ignore_index=True)\n",
      "/var/folders/gr/77dww1vx4k945hzph39jwlc40000gn/T/ipykernel_16222/4157445135.py:31: FutureWarning: The frame.append method is deprecated and will be removed from pandas in a future version. Use pandas.concat instead.\n",
      "  df = df.append({'date': date, 'div_yield': div_yield_for_date}, ignore_index=True)\n",
      "/var/folders/gr/77dww1vx4k945hzph39jwlc40000gn/T/ipykernel_16222/4157445135.py:31: FutureWarning: The frame.append method is deprecated and will be removed from pandas in a future version. Use pandas.concat instead.\n",
      "  df = df.append({'date': date, 'div_yield': div_yield_for_date}, ignore_index=True)\n",
      "/var/folders/gr/77dww1vx4k945hzph39jwlc40000gn/T/ipykernel_16222/4157445135.py:31: FutureWarning: The frame.append method is deprecated and will be removed from pandas in a future version. Use pandas.concat instead.\n",
      "  df = df.append({'date': date, 'div_yield': div_yield_for_date}, ignore_index=True)\n",
      "/var/folders/gr/77dww1vx4k945hzph39jwlc40000gn/T/ipykernel_16222/4157445135.py:31: FutureWarning: The frame.append method is deprecated and will be removed from pandas in a future version. Use pandas.concat instead.\n",
      "  df = df.append({'date': date, 'div_yield': div_yield_for_date}, ignore_index=True)\n",
      "/var/folders/gr/77dww1vx4k945hzph39jwlc40000gn/T/ipykernel_16222/4157445135.py:31: FutureWarning: The frame.append method is deprecated and will be removed from pandas in a future version. Use pandas.concat instead.\n",
      "  df = df.append({'date': date, 'div_yield': div_yield_for_date}, ignore_index=True)\n",
      "/var/folders/gr/77dww1vx4k945hzph39jwlc40000gn/T/ipykernel_16222/4157445135.py:31: FutureWarning: The frame.append method is deprecated and will be removed from pandas in a future version. Use pandas.concat instead.\n",
      "  df = df.append({'date': date, 'div_yield': div_yield_for_date}, ignore_index=True)\n",
      "/var/folders/gr/77dww1vx4k945hzph39jwlc40000gn/T/ipykernel_16222/4157445135.py:31: FutureWarning: The frame.append method is deprecated and will be removed from pandas in a future version. Use pandas.concat instead.\n",
      "  df = df.append({'date': date, 'div_yield': div_yield_for_date}, ignore_index=True)\n",
      "/var/folders/gr/77dww1vx4k945hzph39jwlc40000gn/T/ipykernel_16222/4157445135.py:31: FutureWarning: The frame.append method is deprecated and will be removed from pandas in a future version. Use pandas.concat instead.\n",
      "  df = df.append({'date': date, 'div_yield': div_yield_for_date}, ignore_index=True)\n",
      "/var/folders/gr/77dww1vx4k945hzph39jwlc40000gn/T/ipykernel_16222/4157445135.py:31: FutureWarning: The frame.append method is deprecated and will be removed from pandas in a future version. Use pandas.concat instead.\n",
      "  df = df.append({'date': date, 'div_yield': div_yield_for_date}, ignore_index=True)\n",
      "/var/folders/gr/77dww1vx4k945hzph39jwlc40000gn/T/ipykernel_16222/4157445135.py:31: FutureWarning: The frame.append method is deprecated and will be removed from pandas in a future version. Use pandas.concat instead.\n",
      "  df = df.append({'date': date, 'div_yield': div_yield_for_date}, ignore_index=True)\n",
      "/var/folders/gr/77dww1vx4k945hzph39jwlc40000gn/T/ipykernel_16222/4157445135.py:31: FutureWarning: The frame.append method is deprecated and will be removed from pandas in a future version. Use pandas.concat instead.\n",
      "  df = df.append({'date': date, 'div_yield': div_yield_for_date}, ignore_index=True)\n",
      "/var/folders/gr/77dww1vx4k945hzph39jwlc40000gn/T/ipykernel_16222/4157445135.py:31: FutureWarning: The frame.append method is deprecated and will be removed from pandas in a future version. Use pandas.concat instead.\n",
      "  df = df.append({'date': date, 'div_yield': div_yield_for_date}, ignore_index=True)\n",
      "/var/folders/gr/77dww1vx4k945hzph39jwlc40000gn/T/ipykernel_16222/4157445135.py:31: FutureWarning: The frame.append method is deprecated and will be removed from pandas in a future version. Use pandas.concat instead.\n",
      "  df = df.append({'date': date, 'div_yield': div_yield_for_date}, ignore_index=True)\n",
      "/var/folders/gr/77dww1vx4k945hzph39jwlc40000gn/T/ipykernel_16222/4157445135.py:31: FutureWarning: The frame.append method is deprecated and will be removed from pandas in a future version. Use pandas.concat instead.\n",
      "  df = df.append({'date': date, 'div_yield': div_yield_for_date}, ignore_index=True)\n",
      "/var/folders/gr/77dww1vx4k945hzph39jwlc40000gn/T/ipykernel_16222/4157445135.py:31: FutureWarning: The frame.append method is deprecated and will be removed from pandas in a future version. Use pandas.concat instead.\n",
      "  df = df.append({'date': date, 'div_yield': div_yield_for_date}, ignore_index=True)\n",
      "/var/folders/gr/77dww1vx4k945hzph39jwlc40000gn/T/ipykernel_16222/4157445135.py:31: FutureWarning: The frame.append method is deprecated and will be removed from pandas in a future version. Use pandas.concat instead.\n",
      "  df = df.append({'date': date, 'div_yield': div_yield_for_date}, ignore_index=True)\n",
      "/var/folders/gr/77dww1vx4k945hzph39jwlc40000gn/T/ipykernel_16222/4157445135.py:31: FutureWarning: The frame.append method is deprecated and will be removed from pandas in a future version. Use pandas.concat instead.\n",
      "  df = df.append({'date': date, 'div_yield': div_yield_for_date}, ignore_index=True)\n",
      "/var/folders/gr/77dww1vx4k945hzph39jwlc40000gn/T/ipykernel_16222/4157445135.py:31: FutureWarning: The frame.append method is deprecated and will be removed from pandas in a future version. Use pandas.concat instead.\n",
      "  df = df.append({'date': date, 'div_yield': div_yield_for_date}, ignore_index=True)\n"
     ]
    },
    {
     "data": {
      "text/plain": [
       "'\\nresponse = requests.get(API_URL, params=params)\\n\\ndata = response.json()\\n\\ndiv_yield = data[\"DividendYield\"]\\nprint(f\"Dividend yield of {symbol}: {div_yield}\")'"
      ]
     },
     "execution_count": 22,
     "metadata": {},
     "output_type": "execute_result"
    }
   ],
   "source": [
    "from datetime import datetime, timedelta\n",
    "\n",
    "\n",
    "params = {\n",
    "    \"function\": \"OVERVIEW\",\n",
    "    \"symbol\": symbol,\n",
    "    \"apikey\": API_KEY,\n",
    "}\n",
    "\n",
    "response = requests.get(API_URL, params=params)\n",
    "data = response.json()\n",
    "div_yield = data[\"DividendYield\"]\n",
    "\n",
    "params = {\n",
    "    \"function\": \"TIME_SERIES_DAILY_ADJUSTED\",\n",
    "    \"symbol\": symbol,\n",
    "    \"outputsize\": \"compact\",\n",
    "    \"apikey\": API_KEY,\n",
    "}\n",
    "\n",
    "response = requests.get(API_URL, params=params)\n",
    "data = response.json()\n",
    "prices = data[\"Time Series (Daily)\"]\n",
    "\n",
    "last_90_days = list(prices)[:90]\n",
    "\n",
    "df_div = pd.DataFrame(columns=['date', 'div_yield'])\n",
    "\n",
    "for date in last_90_days:\n",
    "    div_yield_for_date = float(prices[date][\"7. dividend amount\"]) / float(prices[date][\"5. adjusted close\"])\n",
    "    df = df.append({'date': date, 'div_yield': div_yield_for_date}, ignore_index=True)\n",
    "\n",
    "'''\n",
    "response = requests.get(API_URL, params=params)\n",
    "\n",
    "data = response.json()\n",
    "\n",
    "div_yield = data[\"DividendYield\"]\n",
    "print(f\"Dividend yield of {symbol}: {div_yield}\")'''\n"
   ]
  },
  {
   "attachments": {},
   "cell_type": "markdown",
   "metadata": {},
   "source": [
    "5. BETA"
   ]
  },
  {
   "cell_type": "code",
   "execution_count": null,
   "metadata": {},
   "outputs": [
    {
     "data": {
      "text/plain": [
       "'import requests\\n\\n# Replace YOUR_API_KEY and SYMBOL with your actual API key and stock symbol from Alpha Vantage\\n\\nresponse = requests.get(BETA)\\ndata = response.json()\\n\\nbeta = data[\\'BETA\\']\\nprint(f\"Beta: {beta}\")'"
      ]
     },
     "execution_count": 32,
     "metadata": {},
     "output_type": "execute_result"
    }
   ],
   "source": [
    "'''import requests\n",
    "\n",
    "# Replace YOUR_API_KEY and SYMBOL with your actual API key and stock symbol from Alpha Vantage\n",
    "\n",
    "response = requests.get(BETA)\n",
    "data = response.json()\n",
    "\n",
    "beta = data['BETA']\n",
    "print(f\"Beta: {beta}\")'''\n"
   ]
  },
  {
   "attachments": {},
   "cell_type": "markdown",
   "metadata": {},
   "source": [
    "6. Debt to Equity Ratio"
   ]
  },
  {
   "cell_type": "code",
   "execution_count": null,
   "metadata": {},
   "outputs": [
    {
     "data": {
      "text/plain": [
       "'import requests\\n\\n# Replace YOUR_API_KEY and SYMBOL with your actual API key and stock symbol from Intrinio\\nurl = \\'https://api-v2.intrinio.com/securities/{}/data_point/debt_to_equity?api_key=YOUR_API_KEY\\'.format(symbol)\\nresponse = requests.get(url)\\ndata = response.json()\\n\\ndebt_to_equity_ratio = data[\\'value\\']\\nprint(f\"Debt-to-Equity Ratio: {debt_to_equity_ratio}\")'"
      ]
     },
     "execution_count": 6,
     "metadata": {},
     "output_type": "execute_result"
    }
   ],
   "source": [
    "'''import requests\n",
    "\n",
    "# Replace YOUR_API_KEY and SYMBOL with your actual API key and stock symbol from Intrinio\n",
    "url = 'https://api-v2.intrinio.com/securities/{}/data_point/debt_to_equity?api_key=YOUR_API_KEY'.format(symbol)\n",
    "response = requests.get(url)\n",
    "data = response.json()\n",
    "\n",
    "debt_to_equity_ratio = data['value']\n",
    "print(f\"Debt-to-Equity Ratio: {debt_to_equity_ratio}\")'''\n"
   ]
  },
  {
   "attachments": {},
   "cell_type": "markdown",
   "metadata": {},
   "source": [
    "7. Price-to-Book (P/B) Ratio:"
   ]
  },
  {
   "cell_type": "code",
   "execution_count": null,
   "metadata": {},
   "outputs": [
    {
     "data": {
      "text/plain": [
       "'import requests\\n\\n# Replace YOUR_API_KEY and SYMBOL with your actual API key and stock symbol from Intrinio\\nurl = \\'https://api-v2.intrinio.com/securities/{}/data_point/book_value_per_share?api_key=YOUR_API_KEY\\'.format(SYMBOL)\\nresponse = requests.get(url)\\ndata = response.json()\\n\\nprice = 100 # replace with actual stock price\\npb_ratio = price / data[\\'value\\']\\nprint(f\"P/B Ratio: {pb_ratio}\")'"
      ]
     },
     "execution_count": 7,
     "metadata": {},
     "output_type": "execute_result"
    }
   ],
   "source": [
    "'''import requests\n",
    "\n",
    "# Replace YOUR_API_KEY and SYMBOL with your actual API key and stock symbol from Intrinio\n",
    "url = 'https://api-v2.intrinio.com/securities/{}/data_point/book_value_per_share?api_key=YOUR_API_KEY'.format(SYMBOL)\n",
    "response = requests.get(url)\n",
    "data = response.json()\n",
    "\n",
    "price = 100 # replace with actual stock price\n",
    "pb_ratio = price / data['value']\n",
    "print(f\"P/B Ratio: {pb_ratio}\")'''\n"
   ]
  },
  {
   "attachments": {},
   "cell_type": "markdown",
   "metadata": {},
   "source": [
    "IPO Calender"
   ]
  },
  {
   "cell_type": "code",
   "execution_count": 17,
   "metadata": {},
   "outputs": [
    {
     "name": "stdout",
     "output_type": "stream",
     "text": [
      "['symbol', 'name', 'ipoDate', 'priceRangeLow', 'priceRangeHigh', 'currency', 'exchange']\n",
      "['CTRMV', 'Castor Maritime Inc. Common Shares Ex-Distribution When Issued', '2023-02-21', '0', '0', 'USD', 'NASDAQ']\n",
      "['TOROV', 'Toro Corp. Common Stock When-Issued', '2023-02-21', '0', '0', 'USD', 'NASDAQ']\n"
     ]
    }
   ],
   "source": [
    "with requests.Session() as s:\n",
    "    download = s.get(IPO_URL)\n",
    "    decoded_content = download.content.decode('utf-8')\n",
    "    cr = csv.reader(decoded_content.splitlines(), delimiter=',')\n",
    "    my_list = list(cr)\n",
    "    for row in my_list:\n",
    "        print(row)"
   ]
  },
  {
   "cell_type": "markdown",
   "metadata": {},
   "source": []
  },
  {
   "cell_type": "code",
   "execution_count": 18,
   "metadata": {},
   "outputs": [],
   "source": [
    "# Merge features\n",
    "\n",
    "df['tmp'] = 1\n",
    "df_news['tmp'] = 1\n",
    "\n",
    "df = pd.merge(df, df_news, on=['tmp'])\n",
    "df = df.drop('tmp', axis=1)"
   ]
  },
  {
   "cell_type": "code",
   "execution_count": 19,
   "metadata": {},
   "outputs": [
    {
     "data": {
      "text/html": [
       "<div>\n",
       "<style scoped>\n",
       "    .dataframe tbody tr th:only-of-type {\n",
       "        vertical-align: middle;\n",
       "    }\n",
       "\n",
       "    .dataframe tbody tr th {\n",
       "        vertical-align: top;\n",
       "    }\n",
       "\n",
       "    .dataframe thead th {\n",
       "        text-align: right;\n",
       "    }\n",
       "</style>\n",
       "<table border=\"1\" class=\"dataframe\">\n",
       "  <thead>\n",
       "    <tr style=\"text-align: right;\">\n",
       "      <th></th>\n",
       "      <th>index</th>\n",
       "      <th>Open</th>\n",
       "      <th>High</th>\n",
       "      <th>Low</th>\n",
       "      <th>Close</th>\n",
       "      <th>Adjusted Close</th>\n",
       "      <th>Volume</th>\n",
       "      <th>Dividend Amount</th>\n",
       "      <th>Split Coefficient</th>\n",
       "      <th>relevance_score_topic</th>\n",
       "      <th>topic</th>\n",
       "      <th>relevance_score</th>\n",
       "      <th>ticker_sentiment_label</th>\n",
       "      <th>ticker_sentiment_score</th>\n",
       "      <th>overall_sentiment_label</th>\n",
       "      <th>overall_sentiment_score</th>\n",
       "    </tr>\n",
       "  </thead>\n",
       "  <tbody>\n",
       "    <tr>\n",
       "      <th>0</th>\n",
       "      <td>2023-02-17</td>\n",
       "      <td>5.32</td>\n",
       "      <td>5.53</td>\n",
       "      <td>5.21</td>\n",
       "      <td>5.24</td>\n",
       "      <td>5.24</td>\n",
       "      <td>27592365.0</td>\n",
       "      <td>0.0</td>\n",
       "      <td>1.0</td>\n",
       "      <td>[0.684621, 0.980922, 1.0, 0.158519]</td>\n",
       "      <td>[Financial Markets, Earnings, Technology, Econ...</td>\n",
       "      <td>[0.151539, 0.475838, 0.389636]</td>\n",
       "      <td>[Somewhat-Bullish, Bullish, Somewhat-Bullish]</td>\n",
       "      <td>[0.239377, 0.352506, 0.328757]</td>\n",
       "      <td>Somewhat-Bullish</td>\n",
       "      <td>0.236647</td>\n",
       "    </tr>\n",
       "    <tr>\n",
       "      <th>1</th>\n",
       "      <td>2023-02-17</td>\n",
       "      <td>5.32</td>\n",
       "      <td>5.53</td>\n",
       "      <td>5.21</td>\n",
       "      <td>5.24</td>\n",
       "      <td>5.24</td>\n",
       "      <td>27592365.0</td>\n",
       "      <td>0.0</td>\n",
       "      <td>1.0</td>\n",
       "      <td>[0.5, 0.983605, 0.5]</td>\n",
       "      <td>[Life Sciences, Blockchain, Manufacturing]</td>\n",
       "      <td>[0.114956, 0.114956, 0.114956, 0.114956, 0.282...</td>\n",
       "      <td>[Somewhat-Bullish, Somewhat-Bullish, Neutral, ...</td>\n",
       "      <td>[0.299005, 0.299005, 0.0, 0.299005, 0.132216, ...</td>\n",
       "      <td>Somewhat-Bullish</td>\n",
       "      <td>0.238351</td>\n",
       "    </tr>\n",
       "  </tbody>\n",
       "</table>\n",
       "</div>"
      ],
      "text/plain": [
       "        index  Open  High   Low  Close  Adjusted Close      Volume  \\\n",
       "0  2023-02-17  5.32  5.53  5.21   5.24            5.24  27592365.0   \n",
       "1  2023-02-17  5.32  5.53  5.21   5.24            5.24  27592365.0   \n",
       "\n",
       "   Dividend Amount  Split Coefficient                relevance_score_topic  \\\n",
       "0              0.0                1.0  [0.684621, 0.980922, 1.0, 0.158519]   \n",
       "1              0.0                1.0                 [0.5, 0.983605, 0.5]   \n",
       "\n",
       "                                               topic  \\\n",
       "0  [Financial Markets, Earnings, Technology, Econ...   \n",
       "1         [Life Sciences, Blockchain, Manufacturing]   \n",
       "\n",
       "                                     relevance_score  \\\n",
       "0                     [0.151539, 0.475838, 0.389636]   \n",
       "1  [0.114956, 0.114956, 0.114956, 0.114956, 0.282...   \n",
       "\n",
       "                              ticker_sentiment_label  \\\n",
       "0      [Somewhat-Bullish, Bullish, Somewhat-Bullish]   \n",
       "1  [Somewhat-Bullish, Somewhat-Bullish, Neutral, ...   \n",
       "\n",
       "                              ticker_sentiment_score overall_sentiment_label  \\\n",
       "0                     [0.239377, 0.352506, 0.328757]        Somewhat-Bullish   \n",
       "1  [0.299005, 0.299005, 0.0, 0.299005, 0.132216, ...        Somewhat-Bullish   \n",
       "\n",
       "   overall_sentiment_score  \n",
       "0                 0.236647  \n",
       "1                 0.238351  "
      ]
     },
     "execution_count": 19,
     "metadata": {},
     "output_type": "execute_result"
    }
   ],
   "source": [
    "df.head(2)"
   ]
  },
  {
   "cell_type": "code",
   "execution_count": 20,
   "metadata": {},
   "outputs": [
    {
     "data": {
      "text/plain": [
       "Neutral             3000\n",
       "Somewhat-Bullish    1600\n",
       "Somewhat-Bearish     300\n",
       "Bullish              100\n",
       "Name: overall_sentiment_label, dtype: int64"
      ]
     },
     "execution_count": 20,
     "metadata": {},
     "output_type": "execute_result"
    }
   ],
   "source": [
    "df.overall_sentiment_label.value_counts()"
   ]
  },
  {
   "cell_type": "code",
   "execution_count": null,
   "metadata": {},
   "outputs": [],
   "source": []
  }
 ],
 "metadata": {
  "kernelspec": {
   "display_name": "Python 3.9.13 64-bit",
   "language": "python",
   "name": "python3"
  },
  "language_info": {
   "codemirror_mode": {
    "name": "ipython",
    "version": 3
   },
   "file_extension": ".py",
   "mimetype": "text/x-python",
   "name": "python",
   "nbconvert_exporter": "python",
   "pygments_lexer": "ipython3",
   "version": "3.9.13"
  },
  "orig_nbformat": 4,
  "vscode": {
   "interpreter": {
    "hash": "aee8b7b246df8f9039afb4144a1f6fd8d2ca17a180786b69acc140d282b71a49"
   }
  }
 },
 "nbformat": 4,
 "nbformat_minor": 2
}
