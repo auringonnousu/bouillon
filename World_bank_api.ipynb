{
 "cells": [
  {
   "cell_type": "code",
   "execution_count": null,
   "metadata": {},
   "outputs": [],
   "source": [
    "# !python3.9 -m pip install wbdata\n",
    "import wbdata\n",
    "# https://pypi.org/project/wbdata/\n",
    "\n",
    "# Define API parameters\n",
    "indicator = 'DP.DOD.DECD.CR.FC.Z1'\n",
    "country = ['US', 'CA', 'GE']\n",
    "\n",
    "start_date = pd.to_datetime(2018)\n",
    "end_date = pd.to_datetime(2022)\n",
    "\n",
    "# Make request to API\n",
    "data = wbdata.get_dataframe({indicator: 'indicator'}, country=country, data_date=(start_date, end_date))\n",
    "#data = wbdata.get_indicator(source=61)\n",
    "# Clean data\n",
    "data.reset_index(inplace=True)\n",
    "data = data[['date', 'value']]\n",
    "data.rename(columns={'value': 'DP.DOD.DECD.CR.FC.Z1'}, inplace=True)"
   ]
  },
  {
   "cell_type": "code",
   "execution_count": null,
   "metadata": {},
   "outputs": [],
   "source": [
    "\n",
    "# Dividend yield: This feature represents the percentage of a company's stock price paid out as dividends and can be used to detect changes in a company's financial health.\n",
    "# News sentiment: This feature represents the sentiment of news articles related to a company and can be used to detect changes in market sentiment towards the company.\n",
    "# Technical indicators: These features are calculated from historical prices and can be used to detect trends and patterns in the stock price, such as moving averages, momentum indicators, and relative strength index (RSI)."
   ]
  },
  {
   "cell_type": "code",
   "execution_count": null,
   "metadata": {},
   "outputs": [],
   "source": [
    "'''x = df.drop(['Date', 'Adj Close'], axis=1).values\n",
    "\n",
    "# Extract the target data y (i.e. the stock price)\n",
    "y = df['Adj Close'].values\n",
    "\n",
    "# Reshape the input data x to be a 3D tensor with shape (samples, time steps, features)\n",
    "x = x.reshape((x.shape[0], 1, x.shape[1]))\n",
    "\n",
    "from keras.models import Sequential\n",
    "from keras.layers import Dense\n",
    "from keras.callbacks import EarlyStopping\n",
    "from sklearn.model_selection import train_test_split\n",
    "\n",
    "# Split data into training and validation sets\n",
    "x_train, x_val, y_train, y_val = train_test_split(x, y, test_size=0.33, random_state=42)\n",
    "\n",
    "# Create a sequential model\n",
    "model = Sequential()\n",
    "model.add(Dense(16, activation='relu', input_dim=x_train.shape[1]))\n",
    "model.add(Dense(8, activation='relu'))\n",
    "model.add(Dense(1, activation='sigmoid'))\n",
    "\n",
    "# Compile the model\n",
    "model.compile(optimizer='adam', loss='mean_squared_error', metrics=['accuracy'])\n",
    "\n",
    "# Define early stopping\n",
    "early_stop = EarlyStopping(monitor='val_loss', patience=3, verbose=1)\n",
    "\n",
    "# Train the model with early stopping\n",
    "history = model.fit(x_train, y_train, epochs=100, batch_size=5, validation_data=(x_val, y_val), callbacks=[early_stop])\n",
    "'''"
   ]
  },
  {
   "cell_type": "code",
   "execution_count": null,
   "metadata": {},
   "outputs": [],
   "source": [
    "X = df.drop(['Close', 'Date'], axis=1)\n",
    "y = df['Close']\n",
    "x_train, x_test, y_train, y_test = train_test_split(X, y, test_size=0.2, random_state=42)"
   ]
  },
  {
   "cell_type": "code",
   "execution_count": null,
   "metadata": {},
   "outputs": [],
   "source": [
    "from sklearn.preprocessing import StandardScaler\n",
    "\n",
    "scaler = StandardScaler()\n",
    "x_train = scaler.fit_transform(x_train)\n",
    "x_test = scaler.transform(x_test)"
   ]
  }
 ],
 "metadata": {
  "kernelspec": {
   "display_name": "Python 3.9.13 64-bit",
   "language": "python",
   "name": "python3"
  },
  "language_info": {
   "name": "python",
   "version": "3.9.13"
  },
  "orig_nbformat": 4,
  "vscode": {
   "interpreter": {
    "hash": "aee8b7b246df8f9039afb4144a1f6fd8d2ca17a180786b69acc140d282b71a49"
   }
  }
 },
 "nbformat": 4,
 "nbformat_minor": 2
}
